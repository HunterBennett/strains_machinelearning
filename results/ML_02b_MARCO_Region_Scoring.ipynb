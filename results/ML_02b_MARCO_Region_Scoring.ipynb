{
 "cells": [
  {
   "cell_type": "markdown",
   "metadata": {},
   "source": [
    "#### Summary:\n",
    "In this notebook I'll create importance score plots for peaks at the Lepr locus. For now, I'll just use previously developed methods to find all peaks in my previously generated importance scores at a particular loci. However, I want to extract them for all 4 models I made, so this might get a bit complicated bc I have 2 sets of importance score peaks which may or may not line up (will have to see)."
   ]
  },
  {
   "cell_type": "code",
   "execution_count": 1,
   "metadata": {},
   "outputs": [],
   "source": [
    "from __future__ import print_function\n",
    "import numpy as np\n",
    "import pandas as pd\n",
    "from collections import Counter\n",
    "import sys\n",
    "import random\n",
    "import os\n",
    "import fnmatch\n",
    "import sys\n",
    "from Bio import SeqIO\n",
    "from Bio.Seq import Seq\n",
    "import seaborn as sns\n",
    "import matplotlib.pyplot as plt"
   ]
  },
  {
   "cell_type": "code",
   "execution_count": 2,
   "metadata": {},
   "outputs": [],
   "source": [
    "dataDirectory = '/home/h1bennet/strains/data/ATAC/control_cohort2/'\n",
    "workingDirectory = '/home/h1bennet//strains_machinelearning/results/00_New_ATAC_H3K27Ac_Model/'\n",
    "if not os.path.isdir(workingDirectory):\n",
    "    os.mkdir(workingDirectory)\n",
    "os.chdir(workingDirectory)"
   ]
  },
  {
   "cell_type": "code",
   "execution_count": 50,
   "metadata": {},
   "outputs": [],
   "source": [
    "if not os.path.isdir('./deeplift_plots/'):\n",
    "    os.mkdir('./deeplift_plots/')"
   ]
  },
  {
   "cell_type": "markdown",
   "metadata": {},
   "source": [
    "# Define functions"
   ]
  },
  {
   "cell_type": "code",
   "execution_count": 18,
   "metadata": {},
   "outputs": [],
   "source": [
    "def load_genome(ref_path):\n",
    "    ref_dict = {}\n",
    "    for seq in SeqIO.parse(ref_path, \"fasta\"):\n",
    "        chromID = seq.id\n",
    "        chromSeq = (str(seq.seq)).upper()\n",
    "        ref_dict[chromID] = chromSeq\n",
    "    return ref_dict\n",
    "\n",
    "ref_path = \"/home/zes017/genomes/mm10/mm10.fa\"\n",
    "genomes = load_genome(ref_path)\n",
    "\n",
    "def data_prep(path, genomes, label, strain, size=500, rep=1, shift=None):\n",
    "    print (\"Scaled to %d\" % (size))\n",
    "    if shift is None:\n",
    "        shifts = size//rep*np.arange(-rep//2+1,rep//2+1)\n",
    "    elif type(shift) is int:\n",
    "        shifts = np.abs(shift)*np.arange(-rep//2+1,rep//2+1)\n",
    "    elif type(shift) is list:\n",
    "        if len(shift) != rep:\n",
    "            raise TypeError(\"Number of shift unequal to replicates\")\n",
    "        shifts = np.array(shift)\n",
    "    if rep == 1 and shift is not None:\n",
    "        random_shift = True\n",
    "        print(\"Random shifting within %s\" % (str(-np.abs(shift))+'~'+str(np.abs(shift))))\n",
    "    else:\n",
    "        random_shift = False\n",
    "        print(\"Generate replicates by shifting %s bp\" % (','.join(shifts.astype(str))))\n",
    "    \n",
    "    data_list = []\n",
    "    for line in open(path):\n",
    "        elems = line.split()\n",
    "        chromID = elems[0]\n",
    "        start, end = int(elems[1]), int(elems[2])\n",
    "        length = end-start\n",
    "        mid = (start+end)//2\n",
    "        for s in shifts:\n",
    "            if random_shift:\n",
    "                new_mid = mid + np.random.choice(np.arange(-np.abs(shift), np.abs(shift)+1))\n",
    "            else:\n",
    "                new_mid = mid + s\n",
    "            start = new_mid - size//2\n",
    "            end = new_mid + size//2\n",
    "            seq = genomes[chromID][start:end]\n",
    "            if len(seq) != size:\n",
    "                continue\n",
    "                \n",
    "            #created combined name term, ex: chr5_140648065_140648415_C57\n",
    "            k = chromID + \"_\" + str(start) + \"_\" + str(end) + \"_\" + strain\n",
    "\n",
    "            data_point = (seq, label, chromID, start, end, k)\n",
    "            data_list.append(data_point)\n",
    "    return data_list\n",
    "\n",
    "def findOverlapPeaks(peak, pos_data):\n",
    "    '''Function to find overlapping regions of the genome. Written by H.\n",
    "    Mummey and edited by H. Bennett. Main edit by H. Bennett was to use\n",
    "    integer ranges as a lazy way of determining overlap between peaks.\n",
    "    Accepts:\n",
    "    - peak (list): list of position data for target peak containing\n",
    "    [chr (str), start (int), end (int)]\n",
    "    - pos_data (list): list of positional data with each entry holding sequence,\n",
    "    chr, start, end, and an ID.\n",
    "    \n",
    "    Returns:\n",
    "    overlapping_peaks (list): list of entries in pos_data overlapping\n",
    "    target peak'''\n",
    "    overlapping_peaks = []\n",
    "    \n",
    "    for i in range(len(pos_data)):\n",
    "        # for each iteration make a peak list\n",
    "        data_peak = [pos_data[i][2], pos_data[i][3], pos_data[i][4]]\n",
    "        \n",
    "        # check whether on same chromosome\n",
    "        if pos_data[i][2] == peak[0]:\n",
    "            \n",
    "            # generate ranges \n",
    "            ref_peak = set(np.arange(pos_data[i][3], pos_data[i][4]+1))\n",
    "            test_peak = set(np.arange(peak[1], peak[2]+1))\n",
    "            \n",
    "            if len(ref_peak.intersection(test_peak)) > 0:\n",
    "                print(\"overlap found\", pos_data[i][-1])\n",
    "                overlapping_peaks.append(pos_data[i])\n",
    "            \n",
    "    return overlapping_peaks\n",
    "\n",
    "def FindVariants(variant_df, peak):\n",
    "\n",
    "    '''Accepts:\n",
    "    - variant_df (pd.DataFrame) produced by MMARGE annotate mutations.\n",
    "    should be a peak file with the peakIDs absent or set as index so that \n",
    "    - peak (list) list produced by Hannah's wrapping programs\n",
    "    with the following items: [chr (string), start (int), end (int)]\n",
    "    \n",
    "\n",
    "    returns:\n",
    "    - balb_vars (list): list of positions within given region in peak\n",
    "    containing a genomic mutation\n",
    "    '''\n",
    "    \n",
    "    #find variants that overlap with a given peak\n",
    "    balb_vars = []\n",
    "    \n",
    "    #first record all rows of variants_df that have ranges that overlap with chr_pos\n",
    "    overlapping_peaks = []\n",
    "    \n",
    "    # filter based on chr membership to save time\n",
    "    variant_df_same_chr = variant_df.loc[variant_df.loc[:, 'chr']==peak[0], :]\n",
    "    \n",
    "    for row in variant_df_same_chr.iterrows(): #manual search\n",
    "        # var_peak = [row[1].chr, row[1].start, row[1].end]\n",
    "        var_peak_range = set(np.arange(row[1].start, row[1].end)+1)\n",
    "        test_peak_range = set(np.arange(peak[1], peak[2])+1)\n",
    "        \n",
    "        if len(var_peak_range.intersection(test_peak_range)) > 0:\n",
    "            print(\"overlap found\", row[0])\n",
    "            overlapping_peaks.append(row[0])\n",
    "            \n",
    "    #then record which variants are in the chr_pos range\n",
    "    for overlap in overlapping_peaks:\n",
    "        b_vars = variant_df.loc[overlap, 'BALBCJ - 1']        \n",
    "        if (type(b_vars)) == str:\n",
    "            parse1 = str(b_vars).split(\",\")\n",
    "            for var in parse1:\n",
    "                parse2 = var.split(\":\")\n",
    "                balb_vars.append(int(parse2[0]))\n",
    "\n",
    "\n",
    "    return balb_vars, overlapping_peaks\n",
    "\n",
    "def OverlayVariantsGen2(variant_df, smooth_weights, pos_data, chr_pos, model,\n",
    "                        ylim=1, scatter_kws={'s':10, 'c':'#636363'},\n",
    "                        hline_kws={'c':'#bdbdbd','linestyle':'--','linewidth':1},\n",
    "                        vline_kws={'c':'#3182bd','linestyle':'--','linewidth':1},\n",
    "                        ax=None):\n",
    "    '''Function to overlay variants with the smoothed deep lift importance\n",
    "    scores. Written by H. Mummey and modified by H. Bennett. One thing\n",
    "    to fix is how to access columns of variant DF.\n",
    "    Accepts:\n",
    "    - variant_df (pandas DataFrame): peak file with annotations of mutations.\n",
    "    Requires that either peakIDs are set as index or not included (chr must be\n",
    "    in column 1)\n",
    "    - smooth_wights (numpy array): array of deeplift weights(?)\n",
    "    - pos_data (list): list of positional data with each entry holding sequence,\n",
    "    chr, start, end, and an ID.\n",
    "    - chr_pos: string of chr position, this is usually pulled from the pos_data list\n",
    "    of ids which has the structure chr_start_end, so the chrom position can be pulled\n",
    "    using a string split on \"_\"\n",
    "    - model (str): model used, i think this is just for titling the plot\n",
    "    - ylim (int): set limit of y axis manually\n",
    "    \n",
    "    Returns:\n",
    "    - ax (matplotlib axes object): plot of deepbind score with overlying variants.\n",
    "    '''\n",
    "    \n",
    "    #deconstruct chr_pos\n",
    "    peak = chr_pos.split(\"_\")\n",
    "    peak = peak[:3]\n",
    "    peak[1] = int(peak[1])\n",
    "    peak[2] = int(peak[2])\n",
    "    \n",
    "    #find variants\n",
    "    balb_vars, peaks = FindVariants(variant_df, peak)\n",
    "    # print(\"variants\", balb_vars)\n",
    "    \n",
    "    #now output a figure where we draw vertical lines for variants\n",
    "    #reconstruct the pos_data style s\n",
    "    s = chr_pos\n",
    "    \n",
    "    # if axis don't exist, create them\n",
    "    if ax == None:\n",
    "        fig, ax = plt.subplots(figsize=(17,5))\n",
    "\n",
    "    # extract weights\n",
    "    w = np.abs(smooth_weights[np.array(pos_data)[:,-1] == s][0])\n",
    "    \n",
    "    # plot weights\n",
    "    ax.scatter(np.arange(len(w)), w, zorder=10, **scatter_kws)\n",
    "    \n",
    "    # plot reference line\n",
    "    ax.axhline(np.sort(w)[240], **hline_kws)\n",
    "\n",
    "    # plot verticle lines for mutations\n",
    "    for bvar in balb_vars:\n",
    "        ax.axvline(bvar-peak[1], **vline_kws)\n",
    "\n",
    "    # adjust plotting parameters                \n",
    "    ax.set_xlim(0,300)\n",
    "    ax.set_ylim(0,ylim)\n",
    "    ax.set_title(model + \": \" + chr_pos)\n",
    "    ax.set_xlabel('position')\n",
    "    ax.set_ylabel('abs. DeepLIFT score')\n",
    "    ax.spines['right'].set_visible(False) # hide right spine\n",
    "    ax.spines['top'].set_visible(False) # hide top spine\n",
    "    \n",
    "    plt.tight_layout()\n",
    "\n",
    "    return balb_vars"
   ]
  },
  {
   "cell_type": "markdown",
   "metadata": {},
   "source": [
    "# Read in MMARGE Variants"
   ]
  },
  {
   "cell_type": "code",
   "execution_count": 4,
   "metadata": {},
   "outputs": [
    {
     "name": "stdout",
     "output_type": "stream",
     "text": [
      "140427\n"
     ]
    },
    {
     "data": {
      "text/html": [
       "<div>\n",
       "<style scoped>\n",
       "    .dataframe tbody tr th:only-of-type {\n",
       "        vertical-align: middle;\n",
       "    }\n",
       "\n",
       "    .dataframe tbody tr th {\n",
       "        vertical-align: top;\n",
       "    }\n",
       "\n",
       "    .dataframe thead th {\n",
       "        text-align: right;\n",
       "    }\n",
       "</style>\n",
       "<table border=\"1\" class=\"dataframe\">\n",
       "  <thead>\n",
       "    <tr style=\"text-align: right;\">\n",
       "      <th></th>\n",
       "      <th>chr</th>\n",
       "      <th>start</th>\n",
       "      <th>end</th>\n",
       "      <th>strand</th>\n",
       "      <th>Stat</th>\n",
       "      <th>Parent files</th>\n",
       "      <th>Total subpeaks</th>\n",
       "      <th>f0_balb.idr</th>\n",
       "      <th>f0_c57.idr</th>\n",
       "      <th>f1_balb.idr</th>\n",
       "      <th>f1_c57bl6.idr</th>\n",
       "      <th>BALBCJ - 1</th>\n",
       "    </tr>\n",
       "    <tr>\n",
       "      <th>#name (cmd = mergePeaks f0_balb.idr f0_c57.idr f1_balb.idr f1_c57bl6.idr)</th>\n",
       "      <th></th>\n",
       "      <th></th>\n",
       "      <th></th>\n",
       "      <th></th>\n",
       "      <th></th>\n",
       "      <th></th>\n",
       "      <th></th>\n",
       "      <th></th>\n",
       "      <th></th>\n",
       "      <th></th>\n",
       "      <th></th>\n",
       "      <th></th>\n",
       "    </tr>\n",
       "  </thead>\n",
       "  <tbody>\n",
       "    <tr>\n",
       "      <td>Merged-chr11-98789029-4</td>\n",
       "      <td>chr11</td>\n",
       "      <td>98788880</td>\n",
       "      <td>98789152</td>\n",
       "      <td>+</td>\n",
       "      <td>1000.000000</td>\n",
       "      <td>f0_balb.idr|f0_c57.idr|f1_balb.idr|f1_c57bl6.idr</td>\n",
       "      <td>4</td>\n",
       "      <td>Merged-chr11-98789041-6</td>\n",
       "      <td>Merged-chr11-98788992-6</td>\n",
       "      <td>Merged-chr11-98789035-6</td>\n",
       "      <td>Merged-chr11-98789035-6</td>\n",
       "      <td>NaN</td>\n",
       "    </tr>\n",
       "    <tr>\n",
       "      <td>Merged-chr11-48775620-2</td>\n",
       "      <td>chr11</td>\n",
       "      <td>48775424</td>\n",
       "      <td>48775817</td>\n",
       "      <td>+</td>\n",
       "      <td>739.333374</td>\n",
       "      <td>f1_balb.idr|f1_c57bl6.idr</td>\n",
       "      <td>2</td>\n",
       "      <td>NaN</td>\n",
       "      <td>NaN</td>\n",
       "      <td>Merged-chr11-48775642-3</td>\n",
       "      <td>Merged-chr11-48775652-2</td>\n",
       "      <td>NaN</td>\n",
       "    </tr>\n",
       "    <tr>\n",
       "      <td>Merged-chr11-115858855-2</td>\n",
       "      <td>chr11</td>\n",
       "      <td>115858550</td>\n",
       "      <td>115859160</td>\n",
       "      <td>+</td>\n",
       "      <td>959.750000</td>\n",
       "      <td>f1_balb.idr|f1_c57bl6.idr</td>\n",
       "      <td>2</td>\n",
       "      <td>NaN</td>\n",
       "      <td>NaN</td>\n",
       "      <td>Merged-chr11-115858827-2</td>\n",
       "      <td>Merged-chr11-115858827-2</td>\n",
       "      <td>NaN</td>\n",
       "    </tr>\n",
       "    <tr>\n",
       "      <td>Merged-chr11-95354785-2</td>\n",
       "      <td>chr11</td>\n",
       "      <td>95354597</td>\n",
       "      <td>95354974</td>\n",
       "      <td>+</td>\n",
       "      <td>1000.000000</td>\n",
       "      <td>f1_balb.idr|f1_c57bl6.idr</td>\n",
       "      <td>2</td>\n",
       "      <td>NaN</td>\n",
       "      <td>NaN</td>\n",
       "      <td>Merged-chr11-95354800-3</td>\n",
       "      <td>Merged-chr11-95354800-3</td>\n",
       "      <td>NaN</td>\n",
       "    </tr>\n",
       "    <tr>\n",
       "      <td>Merged-chr11-75629486-2</td>\n",
       "      <td>chr11</td>\n",
       "      <td>75629264</td>\n",
       "      <td>75629708</td>\n",
       "      <td>+</td>\n",
       "      <td>950.750000</td>\n",
       "      <td>f1_balb.idr|f1_c57bl6.idr</td>\n",
       "      <td>2</td>\n",
       "      <td>NaN</td>\n",
       "      <td>NaN</td>\n",
       "      <td>Merged-chr11-75629518-2</td>\n",
       "      <td>Merged-chr11-75629518-2</td>\n",
       "      <td>75629685:T-&gt;C</td>\n",
       "    </tr>\n",
       "  </tbody>\n",
       "</table>\n",
       "</div>"
      ],
      "text/plain": [
       "                                                      chr      start  \\\n",
       "#name (cmd = mergePeaks f0_balb.idr f0_c57.idr ...                     \n",
       "Merged-chr11-98789029-4                             chr11   98788880   \n",
       "Merged-chr11-48775620-2                             chr11   48775424   \n",
       "Merged-chr11-115858855-2                            chr11  115858550   \n",
       "Merged-chr11-95354785-2                             chr11   95354597   \n",
       "Merged-chr11-75629486-2                             chr11   75629264   \n",
       "\n",
       "                                                          end strand  \\\n",
       "#name (cmd = mergePeaks f0_balb.idr f0_c57.idr ...                     \n",
       "Merged-chr11-98789029-4                              98789152      +   \n",
       "Merged-chr11-48775620-2                              48775817      +   \n",
       "Merged-chr11-115858855-2                            115859160      +   \n",
       "Merged-chr11-95354785-2                              95354974      +   \n",
       "Merged-chr11-75629486-2                              75629708      +   \n",
       "\n",
       "                                                           Stat  \\\n",
       "#name (cmd = mergePeaks f0_balb.idr f0_c57.idr ...                \n",
       "Merged-chr11-98789029-4                             1000.000000   \n",
       "Merged-chr11-48775620-2                              739.333374   \n",
       "Merged-chr11-115858855-2                             959.750000   \n",
       "Merged-chr11-95354785-2                             1000.000000   \n",
       "Merged-chr11-75629486-2                              950.750000   \n",
       "\n",
       "                                                                                        Parent files  \\\n",
       "#name (cmd = mergePeaks f0_balb.idr f0_c57.idr ...                                                     \n",
       "Merged-chr11-98789029-4                             f0_balb.idr|f0_c57.idr|f1_balb.idr|f1_c57bl6.idr   \n",
       "Merged-chr11-48775620-2                                                    f1_balb.idr|f1_c57bl6.idr   \n",
       "Merged-chr11-115858855-2                                                   f1_balb.idr|f1_c57bl6.idr   \n",
       "Merged-chr11-95354785-2                                                    f1_balb.idr|f1_c57bl6.idr   \n",
       "Merged-chr11-75629486-2                                                    f1_balb.idr|f1_c57bl6.idr   \n",
       "\n",
       "                                                    Total subpeaks  \\\n",
       "#name (cmd = mergePeaks f0_balb.idr f0_c57.idr ...                   \n",
       "Merged-chr11-98789029-4                                          4   \n",
       "Merged-chr11-48775620-2                                          2   \n",
       "Merged-chr11-115858855-2                                         2   \n",
       "Merged-chr11-95354785-2                                          2   \n",
       "Merged-chr11-75629486-2                                          2   \n",
       "\n",
       "                                                                f0_balb.idr  \\\n",
       "#name (cmd = mergePeaks f0_balb.idr f0_c57.idr ...                            \n",
       "Merged-chr11-98789029-4                             Merged-chr11-98789041-6   \n",
       "Merged-chr11-48775620-2                                                 NaN   \n",
       "Merged-chr11-115858855-2                                                NaN   \n",
       "Merged-chr11-95354785-2                                                 NaN   \n",
       "Merged-chr11-75629486-2                                                 NaN   \n",
       "\n",
       "                                                                 f0_c57.idr  \\\n",
       "#name (cmd = mergePeaks f0_balb.idr f0_c57.idr ...                            \n",
       "Merged-chr11-98789029-4                             Merged-chr11-98788992-6   \n",
       "Merged-chr11-48775620-2                                                 NaN   \n",
       "Merged-chr11-115858855-2                                                NaN   \n",
       "Merged-chr11-95354785-2                                                 NaN   \n",
       "Merged-chr11-75629486-2                                                 NaN   \n",
       "\n",
       "                                                                 f1_balb.idr  \\\n",
       "#name (cmd = mergePeaks f0_balb.idr f0_c57.idr ...                             \n",
       "Merged-chr11-98789029-4                              Merged-chr11-98789035-6   \n",
       "Merged-chr11-48775620-2                              Merged-chr11-48775642-3   \n",
       "Merged-chr11-115858855-2                            Merged-chr11-115858827-2   \n",
       "Merged-chr11-95354785-2                              Merged-chr11-95354800-3   \n",
       "Merged-chr11-75629486-2                              Merged-chr11-75629518-2   \n",
       "\n",
       "                                                               f1_c57bl6.idr  \\\n",
       "#name (cmd = mergePeaks f0_balb.idr f0_c57.idr ...                             \n",
       "Merged-chr11-98789029-4                              Merged-chr11-98789035-6   \n",
       "Merged-chr11-48775620-2                              Merged-chr11-48775652-2   \n",
       "Merged-chr11-115858855-2                            Merged-chr11-115858827-2   \n",
       "Merged-chr11-95354785-2                              Merged-chr11-95354800-3   \n",
       "Merged-chr11-75629486-2                              Merged-chr11-75629518-2   \n",
       "\n",
       "                                                       BALBCJ - 1  \n",
       "#name (cmd = mergePeaks f0_balb.idr f0_c57.idr ...                 \n",
       "Merged-chr11-98789029-4                                       NaN  \n",
       "Merged-chr11-48775620-2                                       NaN  \n",
       "Merged-chr11-115858855-2                                      NaN  \n",
       "Merged-chr11-95354785-2                                       NaN  \n",
       "Merged-chr11-75629486-2                             75629685:T->C  "
      ]
     },
     "execution_count": 4,
     "metadata": {},
     "output_type": "execute_result"
    }
   ],
   "source": [
    "mutfile = \"/home/h1bennet/strains_f1/data/annotate_mutations_merge_f0_f1.idr\"\n",
    "control_vars = pd.read_table(mutfile, sep='\\t', index_col=0)\n",
    "print(len(control_vars))\n",
    "control_vars.head()"
   ]
  },
  {
   "cell_type": "markdown",
   "metadata": {},
   "source": [
    "# Reading in Importance Scores and Data\n"
   ]
  },
  {
   "cell_type": "markdown",
   "metadata": {},
   "source": [
    "### Pos_data (overlap peaks predicted to be positive by BOTH models)"
   ]
  },
  {
   "cell_type": "code",
   "execution_count": 5,
   "metadata": {},
   "outputs": [
    {
     "name": "stdout",
     "output_type": "stream",
     "text": [
      "Scaled to 300\n",
      "Generate replicates by shifting 0 bp\n",
      "38482\n"
     ]
    }
   ],
   "source": [
    "# poised set\n",
    "data_path = \"./bed_files/poised_active_merged_peaks_scored_poised_filtered.bed\"\n",
    "poised_data = data_prep(data_path, genomes, 1, \"C57\", size=300, rep=1, shift=None)\n",
    "print(len(poised_data))"
   ]
  },
  {
   "cell_type": "code",
   "execution_count": 6,
   "metadata": {},
   "outputs": [
    {
     "name": "stdout",
     "output_type": "stream",
     "text": [
      "Scaled to 300\n",
      "Generate replicates by shifting 0 bp\n",
      "43537\n"
     ]
    }
   ],
   "source": [
    "# active set\n",
    "data_path = \"./bed_files/poised_active_merged_peaks_scored_active_filtered.bed\"\n",
    "active_data = data_prep(data_path, genomes, 1, \"C57\", size=300, rep=1, shift=None)\n",
    "print(len(active_data))"
   ]
  },
  {
   "cell_type": "markdown",
   "metadata": {},
   "source": [
    "### Read in Weights"
   ]
  },
  {
   "cell_type": "code",
   "execution_count": 7,
   "metadata": {
    "scrolled": true
   },
   "outputs": [
    {
     "name": "stdout",
     "output_type": "stream",
     "text": [
      "(38482, 300)\n"
     ]
    },
    {
     "data": {
      "text/plain": [
       "array([-0.0001682 , -0.00011876, -0.0003104 , -0.00196401, -0.00297288,\n",
       "       -0.00138692, -0.00246708,  0.00057517,  0.00171606, -0.00367359])"
      ]
     },
     "execution_count": 7,
     "metadata": {},
     "output_type": "execute_result"
    }
   ],
   "source": [
    "#saved weights from interpretation nb (will smooth here in case we need raw)\n",
    "#read in raw weights\n",
    "poised_weights = pd.read_csv(\"./region_scores/poised_model_poised_peak_weights.txt\",\n",
    "                                 sep='\\t',\n",
    "                                 index_col=0)\n",
    "print(poised_weights.shape)\n",
    "#print(poised_weights.head())\n",
    "\n",
    "#now convert to a np array\n",
    "poised_weights_array = np.array(poised_weights)\n",
    "poised_weights_array[0,0:10]"
   ]
  },
  {
   "cell_type": "code",
   "execution_count": 8,
   "metadata": {},
   "outputs": [
    {
     "name": "stdout",
     "output_type": "stream",
     "text": [
      "(43537, 300)\n"
     ]
    },
    {
     "data": {
      "text/plain": [
       "array([-7.5058045e-04, -2.1890788e-03, -9.6546850e-05, -1.5507314e-03,\n",
       "       -1.4194234e-04, -1.7118760e-03,  4.0145720e-04,  1.1002405e-03,\n",
       "       -1.1146057e-03,  1.1454145e-03])"
      ]
     },
     "execution_count": 8,
     "metadata": {},
     "output_type": "execute_result"
    }
   ],
   "source": [
    "#saved weights from interpretation nb (will smooth here in case we need raw)\n",
    "#read in raw weights\n",
    "active_weights = pd.read_csv(\"./region_scores/active_model_active_peak_weights.txt\",\n",
    "                                 sep='\\t',\n",
    "                                 index_col=0)\n",
    "print(active_weights.shape)\n",
    "#print(active_weights.head())\n",
    "\n",
    "#now convert to a np array\n",
    "active_weights_array = np.array(active_weights)\n",
    "active_weights_array[0,0:10]"
   ]
  },
  {
   "cell_type": "markdown",
   "metadata": {},
   "source": [
    "### Smooth Weights"
   ]
  },
  {
   "cell_type": "code",
   "execution_count": 9,
   "metadata": {},
   "outputs": [
    {
     "name": "stdout",
     "output_type": "stream",
     "text": [
      "(38482, 300)\n"
     ]
    }
   ],
   "source": [
    "proc_range = 1\n",
    "poised_smooth_weights = np.array([[np.mean(np.abs(w[max(0, i-proc_range):min(len(w), i+proc_range+1)]))\n",
    "                         for i in range(len(w))] for w in poised_weights_array])\n",
    "print(poised_smooth_weights.shape)"
   ]
  },
  {
   "cell_type": "code",
   "execution_count": 10,
   "metadata": {},
   "outputs": [
    {
     "name": "stdout",
     "output_type": "stream",
     "text": [
      "(43537, 300)\n"
     ]
    }
   ],
   "source": [
    "proc_range = 1\n",
    "active_smooth_weights = np.array([[np.mean(np.abs(w[max(0, i-proc_range):min(len(w), i+proc_range+1)]))\n",
    "                         for i in range(len(w))] for w in active_weights_array])\n",
    "print(active_smooth_weights.shape)"
   ]
  },
  {
   "cell_type": "markdown",
   "metadata": {},
   "source": [
    "# Visualizations"
   ]
  },
  {
   "cell_type": "markdown",
   "metadata": {},
   "source": [
    "Marco"
   ]
  },
  {
   "cell_type": "code",
   "execution_count": 24,
   "metadata": {},
   "outputs": [],
   "source": [
    "marco_locus = [('chr1',120527484,120527940),\n",
    "               ('chr1',120451504,120452051),\n",
    "               ('chr1',120517204,120533610)]"
   ]
  },
  {
   "cell_type": "code",
   "execution_count": 25,
   "metadata": {},
   "outputs": [
    {
     "name": "stdout",
     "output_type": "stream",
     "text": [
      "overlap found chr1_120528091_120528391_C57\n",
      "overlap found chr1_120524232_120524532_C57\n",
      "overlap found chr1_120519483_120519783_C57\n",
      "overlap found chr1_120517625_120517925_C57\n",
      "overlap found chr1_120527597_120527897_C57\n",
      "overlap found chr1_120531823_120532123_C57\n"
     ]
    }
   ],
   "source": [
    "marco_pos = findOverlapPeaks(marco_locus[2], poised_data)"
   ]
  },
  {
   "cell_type": "code",
   "execution_count": 26,
   "metadata": {},
   "outputs": [
    {
     "data": {
      "text/plain": [
       "'chr1_120524232_120524532_C57'"
      ]
     },
     "execution_count": 26,
     "metadata": {},
     "output_type": "execute_result"
    }
   ],
   "source": [
    "marco_pos[1][-1]"
   ]
  },
  {
   "cell_type": "code",
   "execution_count": 27,
   "metadata": {},
   "outputs": [
    {
     "name": "stdout",
     "output_type": "stream",
     "text": [
      "overlap found Merged-chr1-120528241-1\n",
      "overlap found Merged-chr1-120528241-1\n"
     ]
    },
    {
     "data": {
      "text/plain": [
       "[120528132]"
      ]
     },
     "execution_count": 27,
     "metadata": {},
     "output_type": "execute_result"
    },
    {
     "data": {
      "image/png": "[encoded data removed]",
      "text/plain": [
       "<Figure size 720x432 with 2 Axes>"
      ]
     },
     "metadata": {
      "needs_background": "light"
     },
     "output_type": "display_data"
    }
   ],
   "source": [
    "fig, axs = plt.subplots(2, 1, figsize=(10,6))\n",
    "\n",
    "OverlayVariantsGen2(control_vars,\n",
    "                    poised_smooth_weights,\n",
    "                    poised_data,\n",
    "                    marco_pos[0][-1],\n",
    "                    'poised', ylim=1, ax=axs[0],\n",
    "                    scatter_kws={'s':3, 'c':'#636363'})\n",
    "\n",
    "OverlayVariantsGen2(control_vars,\n",
    "                    active_smooth_weights,\n",
    "                    active_data,\n",
    "                    marco_pos[0][-1],\n",
    "                    'active', ylim=1, ax=axs[1],\n",
    "                    scatter_kws={'s':3, 'c':'#636363'})"
   ]
  },
  {
   "cell_type": "markdown",
   "metadata": {},
   "source": [
    "# Drill down on this locus with a predicted high scoring variant..."
   ]
  },
  {
   "cell_type": "code",
   "execution_count": 28,
   "metadata": {},
   "outputs": [
    {
     "name": "stdout",
     "output_type": "stream",
     "text": [
      "overlap found Merged-chr1-120524369-4\n",
      "overlap found Merged-chr1-120524369-4\n"
     ]
    },
    {
     "data": {
      "text/plain": [
       "[120524365]"
      ]
     },
     "execution_count": 28,
     "metadata": {},
     "output_type": "execute_result"
    },
    {
     "data": {
      "image/png": "[encoded data removed]",
      "text/plain": [
       "<Figure size 720x432 with 2 Axes>"
      ]
     },
     "metadata": {
      "needs_background": "light"
     },
     "output_type": "display_data"
    }
   ],
   "source": [
    "fig, axs = plt.subplots(2, 1, figsize=(10,6))\n",
    "\n",
    "OverlayVariantsGen2(control_vars,\n",
    "                    poised_smooth_weights,\n",
    "                    poised_data,\n",
    "                    marco_pos[1][-1],\n",
    "                    'poised', ylim=1, ax=axs[0],\n",
    "                    scatter_kws={'s':3, 'c':'#636363'})\n",
    "\n",
    "OverlayVariantsGen2(control_vars,\n",
    "                    active_smooth_weights,\n",
    "                    active_data,\n",
    "                    marco_pos[1][-1],\n",
    "                    'active', ylim=1, ax=axs[1],\n",
    "                    scatter_kws={'s':3, 'c':'#636363'})"
   ]
  },
  {
   "cell_type": "code",
   "execution_count": 51,
   "metadata": {},
   "outputs": [
    {
     "name": "stdout",
     "output_type": "stream",
     "text": [
      "overlap found Merged-chr1-120524369-4\n"
     ]
    },
    {
     "data": {
      "image/png": "[encoded data removed]",
      "text/plain": [
       "<Figure size 288x144 with 1 Axes>"
      ]
     },
     "metadata": {
      "needs_background": "light"
     },
     "output_type": "display_data"
    }
   ],
   "source": [
    "fig, ax = plt.subplots(1, 1, figsize=(4,2))\n",
    "\n",
    "OverlayVariantsGen2(control_vars,\n",
    "                    poised_smooth_weights,\n",
    "                    poised_data,\n",
    "                    marco_pos[1][-1],\n",
    "                    'poised', ylim=1, ax=ax,\n",
    "                    scatter_kws={'s':1, 'c':'#636363'},\n",
    "                    hline_kws={'c':'#bdbdbd','linestyle':'--','linewidth':1},\n",
    "                    vline_kws={'c':'#3182bd','linestyle':'--','linewidth':1})\n",
    "\n",
    "ax.set_ylim([0, 0.35])\n",
    "ax.set_yticks([0, 0.1, 0.2, 0.3])\n",
    "ax.set_title('');\n",
    "\n",
    "plt.savefig('./deeplift_plots/marco_lxre_enhancer.pdf',\n",
    "            bbox_inches='tight')"
   ]
  },
  {
   "cell_type": "markdown",
   "metadata": {},
   "source": [
    "The variant shown above lies in a DR5 nuclear receptor motif. lets try and extract it.."
   ]
  },
  {
   "cell_type": "code",
   "execution_count": null,
   "metadata": {},
   "outputs": [],
   "source": [
    "var_locus = 120524365\n",
    "\n",
    "#start position held in third entry in pos data\n",
    "\n",
    "var_n_bp = var_locus - marco_pos[1][3]"
   ]
  },
  {
   "cell_type": "code",
   "execution_count": null,
   "metadata": {},
   "outputs": [],
   "source": [
    "# string of sequence held in first entry in pos data\n",
    "marco_pos[1][0][(var_n_bp-10):(var_n_bp+15)] # extract 20 bp window"
   ]
  },
  {
   "cell_type": "markdown",
   "metadata": {},
   "source": [
    "GG**G**CAGCTACAGGTCAGC\n"
   ]
  },
  {
   "cell_type": "markdown",
   "metadata": {},
   "source": [
    "GG**A**CAGCTACAGGTCAGC"
   ]
  },
  {
   "cell_type": "markdown",
   "metadata": {},
   "source": [
    "### Other loci"
   ]
  },
  {
   "cell_type": "code",
   "execution_count": null,
   "metadata": {},
   "outputs": [],
   "source": [
    "fig, axs = plt.subplots(2, 1, figsize=(10,6))\n",
    "\n",
    "OverlayVariantsGen2(control_vars,\n",
    "                    poised_smooth_weights,\n",
    "                    poised_data,\n",
    "                    marco_pos[2][-1],\n",
    "                    'poised', ylim=1, ax=axs[0],\n",
    "                    scatter_kws={'s':3, 'c':'#636363'})\n",
    "\n",
    "OverlayVariantsGen2(control_vars,\n",
    "                    active_smooth_weights,\n",
    "                    active_data,\n",
    "                    marco_pos[2][-1],\n",
    "                    'active', ylim=1, ax=axs[1],\n",
    "                    scatter_kws={'s':3, 'c':'#636363'})"
   ]
  },
  {
   "cell_type": "code",
   "execution_count": null,
   "metadata": {},
   "outputs": [],
   "source": [
    "fig, axs = plt.subplots(2, 1, figsize=(10,6))\n",
    "\n",
    "OverlayVariantsGen2(control_vars,\n",
    "                    poised_smooth_weights,\n",
    "                    poised_data,\n",
    "                    marco_pos[3][-1],\n",
    "                    'poised', ylim=1, ax=axs[0],\n",
    "                    scatter_kws={'s':3, 'c':'#636363'})\n",
    "\n",
    "OverlayVariantsGen2(control_vars,\n",
    "                    active_smooth_weights,\n",
    "                    active_data,\n",
    "                    marco_pos[3][-1],\n",
    "                    'active', ylim=1, ax=axs[1],\n",
    "                    scatter_kws={'s':3, 'c':'#636363'})"
   ]
  },
  {
   "cell_type": "code",
   "execution_count": null,
   "metadata": {},
   "outputs": [],
   "source": [
    "fig, axs = plt.subplots(2, 1, figsize=(10,6))\n",
    "\n",
    "OverlayVariantsGen2(control_vars,\n",
    "                    poised_smooth_weights,\n",
    "                    poised_data,\n",
    "                    marco_pos[6][-1],\n",
    "                    'poised', ylim=1, ax=axs[0],\n",
    "                    scatter_kws={'s':3, 'c':'#636363'})\n",
    "\n",
    "OverlayVariantsGen2(control_vars,\n",
    "                    active_smooth_weights,\n",
    "                    active_data,\n",
    "                    marco_pos[6][-1],\n",
    "                    'active', ylim=1, ax=axs[1],\n",
    "                    scatter_kws={'s':3, 'c':'#636363'})"
   ]
  },
  {
   "cell_type": "code",
   "execution_count": null,
   "metadata": {},
   "outputs": [],
   "source": []
  }
 ],
 "metadata": {
  "kernelspec": {
   "display_name": "zs-deeplift",
   "language": "python",
   "name": "zs-deeplift"
  },
  "language_info": {
   "codemirror_mode": {
    "name": "ipython",
    "version": 3
   },
   "file_extension": ".py",
   "mimetype": "text/x-python",
   "name": "python",
   "nbconvert_exporter": "python",
   "pygments_lexer": "ipython3",
   "version": "3.7.4"
  }
 },
 "nbformat": 4,
 "nbformat_minor": 2
}
