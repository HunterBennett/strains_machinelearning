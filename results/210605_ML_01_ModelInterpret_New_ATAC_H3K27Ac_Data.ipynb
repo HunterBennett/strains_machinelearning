{
 "cells": [
  {
   "cell_type": "markdown",
   "metadata": {},
   "source": [
    "#### Summary:\n",
    "This is based on my second version model interpretation notebook, modified from one Zeyang shared. It reads in the positive peak sequences (based on methods from the previous notebook) and then uses DeepLift to calculate nt importance scores for all of them. Then it has some preliminary visualization techniques. Here we are using it to repeat previous interpretation methods on my new set of models.\n",
    "\n",
    "#### Changes from the original version:\n",
    "- Combining peaks from control and AMLN sets into one peak set... use mergePeaks and then take the union; if they overlap, take the 300bp center\n",
    "- Remove peaks not predicted to be positive (based on model.predict and a 0.05 threshold) --> consider if we want to standardize these by the 2 model's predictions???\n",
    "- Going to considering predictions from Zeyang's IL4 model so generating importance scores from this (BUT NOT cutting down peaks based on them)\n",
    "\n",
    "#### New Considerations - CHANGES FROM PREV V3 NOTEBOOK:\n",
    "- Which peaks sets to generate importance scores from??? --> start with the same one as used previously in v2(all peaks found in BOTH datasets, then narrow down based on if the models predict them + or not)"
   ]
  },
  {
   "cell_type": "code",
   "execution_count": 1,
   "metadata": {},
   "outputs": [],
   "source": [
    "from __future__ import print_function\n",
    "import pandas as pd\n",
    "import numpy as np\n",
    "import seaborn as sns\n",
    "import matplotlib.pyplot as plt\n",
    "from itertools import compress\n",
    "import numpy as np\n",
    "import pandas as pd\n",
    "from collections import Counter\n",
    "import sys\n",
    "import random\n",
    "import os\n",
    "import fnmatch\n",
    "import sys"
   ]
  },
  {
   "cell_type": "code",
   "execution_count": 2,
   "metadata": {},
   "outputs": [],
   "source": [
    "import seaborn as sns\n",
    "import matplotlib.pyplot as plt"
   ]
  },
  {
   "cell_type": "code",
   "execution_count": 3,
   "metadata": {},
   "outputs": [],
   "source": [
    "from itertools import compress"
   ]
  },
  {
   "cell_type": "code",
   "execution_count": 4,
   "metadata": {},
   "outputs": [],
   "source": [
    "dataDirectory = '/home/h1bennet/strains/data/ATAC/control_cohort2/'\n",
    "workingDirectory = '/home/h1bennet//strains_machinelearning/results/00_New_ATAC_H3K27Ac_Model/'\n",
    "if not os.path.isdir(workingDirectory):\n",
    "    os.mkdir(workingDirectory)\n",
    "os.chdir(workingDirectory)"
   ]
  },
  {
   "cell_type": "code",
   "execution_count": 5,
   "metadata": {},
   "outputs": [
    {
     "data": {
      "text/plain": [
       "['bed_files',\n",
       " 'model_weights',\n",
       " 'poised_active_merged_peaks.txt',\n",
       " 'bg_files',\n",
       " 'region_scores']"
      ]
     },
     "execution_count": 5,
     "metadata": {},
     "output_type": "execute_result"
    }
   ],
   "source": [
    "os.listdir()"
   ]
  },
  {
   "cell_type": "markdown",
   "metadata": {},
   "source": [
    "# Merge active and poised peaks"
   ]
  },
  {
   "cell_type": "code",
   "execution_count": 6,
   "metadata": {},
   "outputs": [
    {
     "name": "stderr",
     "output_type": "stream",
     "text": [
      "\tMax distance to merge: direct overlap required (-d given)\n",
      "\tMerging peaks... \n",
      "\tComparing /home/h1bennet/strains/results/06_Strains_Control_Cohort2_ATAC/poised_enhancers/C57Bl6J_poised_enhancer_peaks.txt (37146 total) and /home/h1bennet/strains/results/06_Strains_Control_Cohort2_ATAC/poised_enhancers/C57Bl6J_poised_enhancer_peaks.txt (37146 total)\n",
      "\tComparing /home/h1bennet/strains/results/06_Strains_Control_Cohort2_ATAC/poised_enhancers/C57Bl6J_poised_enhancer_peaks.txt (37146 total) and /home/h1bennet/strains/results/06b_Strains_Control_Combined_H3K27Ac/active_enhancers/C57Bl6J_active_enhancer_peaks.txt (36151 total)\n",
      "\tComparing /home/h1bennet/strains/results/06b_Strains_Control_Combined_H3K27Ac/active_enhancers/C57Bl6J_active_enhancer_peaks.txt (36151 total) and /home/h1bennet/strains/results/06_Strains_Control_Cohort2_ATAC/poised_enhancers/C57Bl6J_poised_enhancer_peaks.txt (37146 total)\n",
      "\tComparing /home/h1bennet/strains/results/06b_Strains_Control_Combined_H3K27Ac/active_enhancers/C57Bl6J_active_enhancer_peaks.txt (36151 total) and /home/h1bennet/strains/results/06b_Strains_Control_Combined_H3K27Ac/active_enhancers/C57Bl6J_active_enhancer_peaks.txt (36151 total)\n",
      "\n",
      "/home/h1bennet/strains/results/06_Strains_Control_Cohort2_ATAC/poised_enhancers/C57Bl6J_poised_enhancer_peaks.txt\t/home/h1bennet/strains/results/06b_Strains_Control_Combined_H3K27Ac/active_enhancers/C57Bl6J_active_enhancer_peaks.txt\tTotal\tName\n",
      "\tX\t11178\t/home/h1bennet/strains/results/06b_Strains_Control_Combined_H3K27Ac/active_enhancers/C57Bl6J_active_enhancer_peaks.txt\n",
      "X\t\t12173\t/home/h1bennet/strains/results/06_Strains_Control_Cohort2_ATAC/poised_enhancers/C57Bl6J_poised_enhancer_peaks.txt\n",
      "X\tX\t24973\t/home/h1bennet/strains/results/06_Strains_Control_Cohort2_ATAC/poised_enhancers/C57Bl6J_poised_enhancer_peaks.txt|/home/h1bennet/strains/results/06b_Strains_Control_Combined_H3K27Ac/active_enhancers/C57Bl6J_active_enhancer_peaks.txt\n"
     ]
    }
   ],
   "source": [
    "# %%bash\n",
    "\n",
    "# mergePeaks -d given \\\n",
    "# /home/h1bennet/strains/results/06_Strains_Control_Cohort2_ATAC/poised_enhancers/C57Bl6J_poised_enhancer_peaks.txt \\\n",
    "# /home/h1bennet/strains/results/06b_Strains_Control_Combined_H3K27Ac/active_enhancers/C57Bl6J_active_enhancer_peaks.txt \\\n",
    "# > ./poised_active_merged_peaks.txt"
   ]
  },
  {
   "cell_type": "markdown",
   "metadata": {},
   "source": [
    "# Read in the combined peak file"
   ]
  },
  {
   "cell_type": "code",
   "execution_count": 8,
   "metadata": {},
   "outputs": [
    {
     "name": "stdout",
     "output_type": "stream",
     "text": [
      "48324\n"
     ]
    },
    {
     "data": {
      "text/html": [
       "<div>\n",
       "<style scoped>\n",
       "    .dataframe tbody tr th:only-of-type {\n",
       "        vertical-align: middle;\n",
       "    }\n",
       "\n",
       "    .dataframe tbody tr th {\n",
       "        vertical-align: top;\n",
       "    }\n",
       "\n",
       "    .dataframe thead th {\n",
       "        text-align: right;\n",
       "    }\n",
       "</style>\n",
       "<table border=\"1\" class=\"dataframe\">\n",
       "  <thead>\n",
       "    <tr style=\"text-align: right;\">\n",
       "      <th></th>\n",
       "      <th>Peakid</th>\n",
       "      <th>Chr</th>\n",
       "      <th>Start</th>\n",
       "      <th>End</th>\n",
       "      <th>Strand</th>\n",
       "      <th>Stat</th>\n",
       "      <th>Parent files</th>\n",
       "      <th>Total subpeaks</th>\n",
       "      <th>/home/h1bennet/strains/results/06_strains_control_cohort2_atac/poised_enhancers/c57bl6j_poised_enhancer_peaks.txt</th>\n",
       "      <th>/home/h1bennet/strains/results/06b_strains_control_combined_h3k27ac/active_enhancers/c57bl6j_active_enhancer_peaks.txt</th>\n",
       "    </tr>\n",
       "  </thead>\n",
       "  <tbody>\n",
       "    <tr>\n",
       "      <td>0</td>\n",
       "      <td>Merged-chr5-147894194-1</td>\n",
       "      <td>chr5</td>\n",
       "      <td>147894094</td>\n",
       "      <td>147894294</td>\n",
       "      <td>+</td>\n",
       "      <td>0.0</td>\n",
       "      <td>/home/h1bennet/strains/results/06b_Strains_Con...</td>\n",
       "      <td>1</td>\n",
       "      <td>NaN</td>\n",
       "      <td>Merged-chr5-147894185-2</td>\n",
       "    </tr>\n",
       "    <tr>\n",
       "      <td>1</td>\n",
       "      <td>Merged-chr15-53399324-1</td>\n",
       "      <td>chr15</td>\n",
       "      <td>53399224</td>\n",
       "      <td>53399424</td>\n",
       "      <td>+</td>\n",
       "      <td>0.0</td>\n",
       "      <td>/home/h1bennet/strains/results/06b_Strains_Con...</td>\n",
       "      <td>1</td>\n",
       "      <td>NaN</td>\n",
       "      <td>Merged-chr15-53399288-3</td>\n",
       "    </tr>\n",
       "    <tr>\n",
       "      <td>2</td>\n",
       "      <td>Merged-chr10-95323630-1</td>\n",
       "      <td>chr10</td>\n",
       "      <td>95323530</td>\n",
       "      <td>95323730</td>\n",
       "      <td>+</td>\n",
       "      <td>0.0</td>\n",
       "      <td>/home/h1bennet/strains/results/06b_Strains_Con...</td>\n",
       "      <td>1</td>\n",
       "      <td>NaN</td>\n",
       "      <td>Merged-chr10-95323630-1</td>\n",
       "    </tr>\n",
       "    <tr>\n",
       "      <td>3</td>\n",
       "      <td>Merged-chr12-111743521-1</td>\n",
       "      <td>chr12</td>\n",
       "      <td>111743421</td>\n",
       "      <td>111743621</td>\n",
       "      <td>+</td>\n",
       "      <td>0.0</td>\n",
       "      <td>/home/h1bennet/strains/results/06b_Strains_Con...</td>\n",
       "      <td>1</td>\n",
       "      <td>NaN</td>\n",
       "      <td>Merged-chr12-111743523-2</td>\n",
       "    </tr>\n",
       "    <tr>\n",
       "      <td>4</td>\n",
       "      <td>Merged-chr11-100583077-1</td>\n",
       "      <td>chr11</td>\n",
       "      <td>100582977</td>\n",
       "      <td>100583177</td>\n",
       "      <td>+</td>\n",
       "      <td>0.0</td>\n",
       "      <td>/home/h1bennet/strains/results/06b_Strains_Con...</td>\n",
       "      <td>1</td>\n",
       "      <td>NaN</td>\n",
       "      <td>Merged-chr11-100583077-1</td>\n",
       "    </tr>\n",
       "  </tbody>\n",
       "</table>\n",
       "</div>"
      ],
      "text/plain": [
       "                     Peakid    Chr      Start        End Strand  Stat  \\\n",
       "0   Merged-chr5-147894194-1   chr5  147894094  147894294      +   0.0   \n",
       "1   Merged-chr15-53399324-1  chr15   53399224   53399424      +   0.0   \n",
       "2   Merged-chr10-95323630-1  chr10   95323530   95323730      +   0.0   \n",
       "3  Merged-chr12-111743521-1  chr12  111743421  111743621      +   0.0   \n",
       "4  Merged-chr11-100583077-1  chr11  100582977  100583177      +   0.0   \n",
       "\n",
       "                                        Parent files  Total subpeaks  \\\n",
       "0  /home/h1bennet/strains/results/06b_Strains_Con...               1   \n",
       "1  /home/h1bennet/strains/results/06b_Strains_Con...               1   \n",
       "2  /home/h1bennet/strains/results/06b_Strains_Con...               1   \n",
       "3  /home/h1bennet/strains/results/06b_Strains_Con...               1   \n",
       "4  /home/h1bennet/strains/results/06b_Strains_Con...               1   \n",
       "\n",
       "  /home/h1bennet/strains/results/06_strains_control_cohort2_atac/poised_enhancers/c57bl6j_poised_enhancer_peaks.txt  \\\n",
       "0                                                NaN                                                                  \n",
       "1                                                NaN                                                                  \n",
       "2                                                NaN                                                                  \n",
       "3                                                NaN                                                                  \n",
       "4                                                NaN                                                                  \n",
       "\n",
       "  /home/h1bennet/strains/results/06b_strains_control_combined_h3k27ac/active_enhancers/c57bl6j_active_enhancer_peaks.txt  \n",
       "0                            Merged-chr5-147894185-2                                                                      \n",
       "1                            Merged-chr15-53399288-3                                                                      \n",
       "2                            Merged-chr10-95323630-1                                                                      \n",
       "3                           Merged-chr12-111743523-2                                                                      \n",
       "4                           Merged-chr11-100583077-1                                                                      "
      ]
     },
     "execution_count": 8,
     "metadata": {},
     "output_type": "execute_result"
    }
   ],
   "source": [
    "#reading in the mergePeaks file (should be the union!)\n",
    "merged_peaks = pd.read_table('./poised_active_merged_peaks.txt', index_col=0)\n",
    "merged_peaks.index = merged_peaks.index.rename('peakID')\n",
    "merged_peaks = merged_peaks.reset_index()\n",
    "merged_peaks.columns = merged_peaks.columns.str.capitalize()\n",
    "print(len(merged_peaks))\n",
    "merged_peaks.head()"
   ]
  },
  {
   "cell_type": "markdown",
   "metadata": {},
   "source": [
    "### Convert to a .bed file"
   ]
  },
  {
   "cell_type": "markdown",
   "metadata": {},
   "source": [
    "Bed file format requires:\n",
    "- chrom - name of the chromosome or scaffold. Any valid seq_region_name can be used, and chromosome names can be given with or without the 'chr' prefix.\n",
    "- chromStart - Start position of the feature in standard chromosomal coordinates (i.e. first base is 0).\n",
    "- chromEnd - End position of the feature in standard chromosomal coordinates\n",
    "\n",
    "Optional columns: name, score, strand, thickStart, thickEnd, itemRgb, blockCount, blockSizes, blockStarts\n",
    "\n",
    "from: https://m.ensembl.org/info/website/upload/bed.html"
   ]
  },
  {
   "cell_type": "code",
   "execution_count": 9,
   "metadata": {},
   "outputs": [],
   "source": [
    "#just going to use the required cols (and maybe strand and score? why not, I guess)\n",
    "save_cols = ['Chr', 'Start', 'End', 'Peakid', 'Stat', 'Strand']\n",
    "merged_bed = merged_peaks.loc[:,save_cols]"
   ]
  },
  {
   "cell_type": "code",
   "execution_count": 10,
   "metadata": {
    "scrolled": true
   },
   "outputs": [
    {
     "data": {
      "text/html": [
       "<div>\n",
       "<style scoped>\n",
       "    .dataframe tbody tr th:only-of-type {\n",
       "        vertical-align: middle;\n",
       "    }\n",
       "\n",
       "    .dataframe tbody tr th {\n",
       "        vertical-align: top;\n",
       "    }\n",
       "\n",
       "    .dataframe thead th {\n",
       "        text-align: right;\n",
       "    }\n",
       "</style>\n",
       "<table border=\"1\" class=\"dataframe\">\n",
       "  <thead>\n",
       "    <tr style=\"text-align: right;\">\n",
       "      <th></th>\n",
       "      <th>Chr</th>\n",
       "      <th>Start</th>\n",
       "      <th>End</th>\n",
       "      <th>Peakid</th>\n",
       "      <th>Stat</th>\n",
       "      <th>Strand</th>\n",
       "    </tr>\n",
       "  </thead>\n",
       "  <tbody>\n",
       "    <tr>\n",
       "      <td>0</td>\n",
       "      <td>chr5</td>\n",
       "      <td>147894094</td>\n",
       "      <td>147894294</td>\n",
       "      <td>Merged-chr5-147894194-1</td>\n",
       "      <td>0.0</td>\n",
       "      <td>+</td>\n",
       "    </tr>\n",
       "    <tr>\n",
       "      <td>1</td>\n",
       "      <td>chr15</td>\n",
       "      <td>53399224</td>\n",
       "      <td>53399424</td>\n",
       "      <td>Merged-chr15-53399324-1</td>\n",
       "      <td>0.0</td>\n",
       "      <td>+</td>\n",
       "    </tr>\n",
       "    <tr>\n",
       "      <td>2</td>\n",
       "      <td>chr10</td>\n",
       "      <td>95323530</td>\n",
       "      <td>95323730</td>\n",
       "      <td>Merged-chr10-95323630-1</td>\n",
       "      <td>0.0</td>\n",
       "      <td>+</td>\n",
       "    </tr>\n",
       "    <tr>\n",
       "      <td>3</td>\n",
       "      <td>chr12</td>\n",
       "      <td>111743421</td>\n",
       "      <td>111743621</td>\n",
       "      <td>Merged-chr12-111743521-1</td>\n",
       "      <td>0.0</td>\n",
       "      <td>+</td>\n",
       "    </tr>\n",
       "    <tr>\n",
       "      <td>4</td>\n",
       "      <td>chr11</td>\n",
       "      <td>100582977</td>\n",
       "      <td>100583177</td>\n",
       "      <td>Merged-chr11-100583077-1</td>\n",
       "      <td>0.0</td>\n",
       "      <td>+</td>\n",
       "    </tr>\n",
       "  </tbody>\n",
       "</table>\n",
       "</div>"
      ],
      "text/plain": [
       "     Chr      Start        End                    Peakid  Stat Strand\n",
       "0   chr5  147894094  147894294   Merged-chr5-147894194-1   0.0      +\n",
       "1  chr15   53399224   53399424   Merged-chr15-53399324-1   0.0      +\n",
       "2  chr10   95323530   95323730   Merged-chr10-95323630-1   0.0      +\n",
       "3  chr12  111743421  111743621  Merged-chr12-111743521-1   0.0      +\n",
       "4  chr11  100582977  100583177  Merged-chr11-100583077-1   0.0      +"
      ]
     },
     "execution_count": 10,
     "metadata": {},
     "output_type": "execute_result"
    }
   ],
   "source": [
    "merged_bed.head()"
   ]
  },
  {
   "cell_type": "code",
   "execution_count": 11,
   "metadata": {},
   "outputs": [
    {
     "name": "stdout",
     "output_type": "stream",
     "text": [
      "48324\n"
     ]
    },
    {
     "data": {
      "text/html": [
       "<div>\n",
       "<style scoped>\n",
       "    .dataframe tbody tr th:only-of-type {\n",
       "        vertical-align: middle;\n",
       "    }\n",
       "\n",
       "    .dataframe tbody tr th {\n",
       "        vertical-align: top;\n",
       "    }\n",
       "\n",
       "    .dataframe thead th {\n",
       "        text-align: right;\n",
       "    }\n",
       "</style>\n",
       "<table border=\"1\" class=\"dataframe\">\n",
       "  <thead>\n",
       "    <tr style=\"text-align: right;\">\n",
       "      <th></th>\n",
       "      <th>Chr</th>\n",
       "      <th>Start</th>\n",
       "      <th>End</th>\n",
       "      <th>Peakid</th>\n",
       "      <th>Stat</th>\n",
       "      <th>Strand</th>\n",
       "    </tr>\n",
       "  </thead>\n",
       "  <tbody>\n",
       "    <tr>\n",
       "      <td>0</td>\n",
       "      <td>chr5</td>\n",
       "      <td>147894094</td>\n",
       "      <td>147894294</td>\n",
       "      <td>Merged-chr5-147894194-1</td>\n",
       "      <td>0.0</td>\n",
       "      <td>+</td>\n",
       "    </tr>\n",
       "    <tr>\n",
       "      <td>1</td>\n",
       "      <td>chr15</td>\n",
       "      <td>53399224</td>\n",
       "      <td>53399424</td>\n",
       "      <td>Merged-chr15-53399324-1</td>\n",
       "      <td>0.0</td>\n",
       "      <td>+</td>\n",
       "    </tr>\n",
       "    <tr>\n",
       "      <td>2</td>\n",
       "      <td>chr10</td>\n",
       "      <td>95323530</td>\n",
       "      <td>95323730</td>\n",
       "      <td>Merged-chr10-95323630-1</td>\n",
       "      <td>0.0</td>\n",
       "      <td>+</td>\n",
       "    </tr>\n",
       "    <tr>\n",
       "      <td>3</td>\n",
       "      <td>chr12</td>\n",
       "      <td>111743421</td>\n",
       "      <td>111743621</td>\n",
       "      <td>Merged-chr12-111743521-1</td>\n",
       "      <td>0.0</td>\n",
       "      <td>+</td>\n",
       "    </tr>\n",
       "    <tr>\n",
       "      <td>4</td>\n",
       "      <td>chr11</td>\n",
       "      <td>100582977</td>\n",
       "      <td>100583177</td>\n",
       "      <td>Merged-chr11-100583077-1</td>\n",
       "      <td>0.0</td>\n",
       "      <td>+</td>\n",
       "    </tr>\n",
       "  </tbody>\n",
       "</table>\n",
       "</div>"
      ],
      "text/plain": [
       "     Chr      Start        End                    Peakid  Stat Strand\n",
       "0   chr5  147894094  147894294   Merged-chr5-147894194-1   0.0      +\n",
       "1  chr15   53399224   53399424   Merged-chr15-53399324-1   0.0      +\n",
       "2  chr10   95323530   95323730   Merged-chr10-95323630-1   0.0      +\n",
       "3  chr12  111743421  111743621  Merged-chr12-111743521-1   0.0      +\n",
       "4  chr11  100582977  100583177  Merged-chr11-100583077-1   0.0      +"
      ]
     },
     "execution_count": 11,
     "metadata": {},
     "output_type": "execute_result"
    }
   ],
   "source": [
    "print(len(merged_bed))\n",
    "merged_bed.head()"
   ]
  },
  {
   "cell_type": "code",
   "execution_count": 12,
   "metadata": {},
   "outputs": [],
   "source": [
    "# save this bc\n",
    "save_name = \"./bed_files/poised_active_merged_peaks.bed\"\n",
    "merged_bed.to_csv(save_name, index=False, sep=\"\\t\", header=False)"
   ]
  },
  {
   "cell_type": "markdown",
   "metadata": {},
   "source": [
    "# Read sequences\n",
    "Adapted from the previous notebook since we don't have fasta files for the + peaks"
   ]
  },
  {
   "cell_type": "code",
   "execution_count": 59,
   "metadata": {},
   "outputs": [],
   "source": [
    "from __future__ import print_function\n",
    "import numpy as np\n",
    "import pandas as pd\n",
    "from collections import Counter\n",
    "\n",
    "import sys\n",
    "import random\n",
    "\n",
    "import os\n",
    "import fnmatch\n",
    "\n",
    "import sys"
   ]
  },
  {
   "cell_type": "code",
   "execution_count": 14,
   "metadata": {},
   "outputs": [],
   "source": [
    "#both of these can be imported to python in the terminal in zs-deeplift env\n",
    "\n",
    "from Bio import SeqIO\n",
    "from Bio.Seq import Seq"
   ]
  },
  {
   "cell_type": "markdown",
   "metadata": {},
   "source": [
    "#### Load in the mm10 genome"
   ]
  },
  {
   "cell_type": "code",
   "execution_count": 15,
   "metadata": {},
   "outputs": [],
   "source": [
    "def load_genome(ref_path):\n",
    "    ref_dict = {}\n",
    "    for seq in SeqIO.parse(ref_path, \"fasta\"):\n",
    "        chromID = seq.id\n",
    "        chromSeq = (str(seq.seq)).upper()\n",
    "        ref_dict[chromID] = chromSeq\n",
    "    return ref_dict"
   ]
  },
  {
   "cell_type": "code",
   "execution_count": 16,
   "metadata": {},
   "outputs": [],
   "source": [
    "ref_path = \"/home/zes017/genomes/mm10/mm10.fa\"\n",
    "genomes = load_genome(ref_path)"
   ]
  },
  {
   "cell_type": "markdown",
   "metadata": {},
   "source": [
    "#### Prepare data from a BED/peak file\n",
    "Almost the correct output format! Just need one more term in the returned list for each element in this format: 'chr5_140648065_140648415_C57'"
   ]
  },
  {
   "cell_type": "code",
   "execution_count": 17,
   "metadata": {},
   "outputs": [],
   "source": [
    "def data_prep(path, genomes, label, strain, size=500, rep=1, shift=None):\n",
    "    print (\"Scaled to %d\" % (size))\n",
    "    if shift is None:\n",
    "        shifts = size//rep*np.arange(-rep//2+1,rep//2+1)\n",
    "    elif type(shift) is int:\n",
    "        shifts = np.abs(shift)*np.arange(-rep//2+1,rep//2+1)\n",
    "    elif type(shift) is list:\n",
    "        if len(shift) != rep:\n",
    "            raise TypeError(\"Number of shift unequal to replicates\")\n",
    "        shifts = np.array(shift)\n",
    "    if rep == 1 and shift is not None:\n",
    "        random_shift = True\n",
    "        print(\"Random shifting within %s\" % (str(-np.abs(shift))+'~'+str(np.abs(shift))))\n",
    "    else:\n",
    "        random_shift = False\n",
    "        print(\"Generate replicates by shifting %s bp\" % (','.join(shifts.astype(str))))\n",
    "    \n",
    "    data_list = []\n",
    "    for line in open(path):\n",
    "        elems = line.split()\n",
    "        chromID = elems[0]\n",
    "        start, end = int(elems[1]), int(elems[2])\n",
    "        length = end-start\n",
    "        mid = (start+end)//2\n",
    "        for s in shifts:\n",
    "            if random_shift:\n",
    "                new_mid = mid + np.random.choice(np.arange(-np.abs(shift), np.abs(shift)+1))\n",
    "            else:\n",
    "                new_mid = mid + s\n",
    "            start = new_mid - size//2\n",
    "            end = new_mid + size//2\n",
    "            seq = genomes[chromID][start:end]\n",
    "            if len(seq) != size:\n",
    "                continue\n",
    "                \n",
    "            #created combined name term, ex: chr5_140648065_140648415_C57\n",
    "            k = chromID + \"_\" + str(start) + \"_\" + str(end) + \"_\" + strain\n",
    "\n",
    "            data_point = (seq, label, chromID, start, end, k)\n",
    "            data_list.append(data_point)\n",
    "    return data_list"
   ]
  },
  {
   "cell_type": "code",
   "execution_count": 18,
   "metadata": {},
   "outputs": [
    {
     "name": "stdout",
     "output_type": "stream",
     "text": [
      "Scaled to 300\n",
      "Generate replicates by shifting 0 bp\n",
      "48324\n"
     ]
    }
   ],
   "source": [
    "#control --> delete first col!\n",
    "data_path = \"./bed_files/poised_active_merged_peaks.bed\"\n",
    "orig_data = data_prep(data_path, genomes, 1, \"C57\", size=300, rep=1, shift=None)\n",
    "print(len(orig_data))"
   ]
  },
  {
   "cell_type": "code",
   "execution_count": 19,
   "metadata": {},
   "outputs": [
    {
     "name": "stdout",
     "output_type": "stream",
     "text": [
      "('TCTATTGCAGAGCGGGAAGCGGGAGGAGAGAAACGGGGCGAGTGTGGGGGGGGGGGATAGAAATCATCAGTTGATTTTTTATCCCAGAGGCTAAATTCTCAAAAGTGGGGAAGTTGGAACAATGTGTCATAAACAAACATTAGCAAGCAAAAAGAGTTCCAGATTTCTGAGAGAGTGCCCTTGCCGGGAGAGGGTACCCTAGTTCTCTCCGAGGAGCAGGGACTAAGTCAACCTCCGCCCCCGACTCCGCTTAGCTAATGCTCACAGTGCTGAGCAGAACAGCACCGGCCGGTTCCCATA', 1, 'chr5', 147894044, 147894344, 'chr5_147894044_147894344_C57')\n"
     ]
    }
   ],
   "source": [
    "print(orig_data[0])"
   ]
  },
  {
   "cell_type": "markdown",
   "metadata": {},
   "source": [
    "# Convert to one hot encode sequences"
   ]
  },
  {
   "cell_type": "code",
   "execution_count": 20,
   "metadata": {},
   "outputs": [],
   "source": [
    "import random\n",
    "from Bio import Seq\n",
    "\n",
    "def dataset2onehot(dataset, shuffle=True):\n",
    "    nucleotides = [\"A\", \"T\", \"C\", \"G\"]\n",
    "    def seq2onehot(seq):\n",
    "        onehot_list = []\n",
    "        for nuc in seq:\n",
    "            if nuc == \"N\":\n",
    "                onehot = [0.25 for _ in range(len(nucleotides))]\n",
    "                onehot_list.append(onehot)\n",
    "            else:\n",
    "                onehot = [0 for _ in range(len(nucleotides))]\n",
    "                onehot[nucleotides.index(nuc)] = 1\n",
    "                onehot_list.append(onehot)\n",
    "        return onehot_list\n",
    "    \n",
    "    def rc(seq):\n",
    "        return str((Seq.Seq(seq)).reverse_complement())\n",
    "    \n",
    "    onehot_dataset = []\n",
    "    for (seq, label, chromID, start, end, ID) in dataset:\n",
    "        onehot_dataset.append((seq2onehot(seq), label, (chromID, start, end, \"+\")))\n",
    "        onehot_dataset.append((seq2onehot(rc(seq)), label, (chromID, start, end, \"-\")))\n",
    "    \n",
    "    if shuffle:\n",
    "        random.shuffle(onehot_dataset)\n",
    "    \n",
    "    x_list, y_list, info_list = [], [], [] \n",
    "    for (x, y, info) in onehot_dataset:\n",
    "        x_list.append(x)\n",
    "        y_list.append(y)\n",
    "        info_list.append(info)\n",
    "    return np.array(x_list), np.array(y_list), info_list"
   ]
  },
  {
   "cell_type": "code",
   "execution_count": 21,
   "metadata": {},
   "outputs": [],
   "source": [
    "x_vis, y_vis, info_vis = dataset2onehot(orig_data, False) #combined!"
   ]
  },
  {
   "cell_type": "code",
   "execution_count": 22,
   "metadata": {},
   "outputs": [
    {
     "name": "stdout",
     "output_type": "stream",
     "text": [
      "(96648, 300, 4)\n",
      "(96648,)\n"
     ]
    }
   ],
   "source": [
    "print(x_vis.shape)\n",
    "print(y_vis.shape)"
   ]
  },
  {
   "cell_type": "code",
   "execution_count": 23,
   "metadata": {},
   "outputs": [
    {
     "name": "stdout",
     "output_type": "stream",
     "text": [
      "48324\n"
     ]
    }
   ],
   "source": [
    "print(len(orig_data))"
   ]
  },
  {
   "cell_type": "markdown",
   "metadata": {},
   "source": [
    "# Filter data for positive peaks"
   ]
  },
  {
   "cell_type": "code",
   "execution_count": 24,
   "metadata": {
    "scrolled": true
   },
   "outputs": [
    {
     "name": "stderr",
     "output_type": "stream",
     "text": [
      "Using TensorFlow backend.\n"
     ]
    }
   ],
   "source": [
    "#need to import the model first!\n",
    "import keras\n",
    "from keras.models import model_from_json"
   ]
  },
  {
   "cell_type": "markdown",
   "metadata": {},
   "source": [
    "## Poised model"
   ]
  },
  {
   "cell_type": "code",
   "execution_count": 69,
   "metadata": {
    "scrolled": true
   },
   "outputs": [],
   "source": [
    "#homeostatic model first\n",
    "keras_model_weights = workingDirectory+\"/model_weights/modelWeights_300bp_C57BL6J_poised_epo20_RandomShift0bp.h5\"\n",
    "keras_model_json = workingDirectory+\"/model_weights/modelWeights_300bp_C57BL6J_poised_epo20_RandomShift0bp.json\"\n",
    "\n",
    "keras_model = model_from_json(open(keras_model_json).read())\n",
    "keras_model.load_weights(keras_model_weights)\n",
    "keras_model.compile(loss=keras.losses.binary_crossentropy,\n",
    "        optimizer=keras.optimizers.Adam(lr=1e-2),\n",
    "        metrics=['accuracy'])"
   ]
  },
  {
   "cell_type": "code",
   "execution_count": 70,
   "metadata": {},
   "outputs": [
    {
     "name": "stdout",
     "output_type": "stream",
     "text": [
      "WARNING:tensorflow:From /home/h1bennet/anaconda3/envs/zs-deeplift/lib/python3.7/site-packages/keras/backend/tensorflow_backend.py:431: The name tf.is_variable_initialized is deprecated. Please use tf.compat.v1.is_variable_initialized instead.\n",
      "\n"
     ]
    }
   ],
   "source": [
    "peak_preds = keras_model.predict(x_vis).flatten()"
   ]
  },
  {
   "cell_type": "code",
   "execution_count": 71,
   "metadata": {},
   "outputs": [
    {
     "name": "stdout",
     "output_type": "stream",
     "text": [
      "96648\n",
      "71270\n"
     ]
    },
    {
     "data": {
      "text/plain": [
       "(array([ 4370.,  6005.,  5089.,  5043.,  4871.,  4960.,  6145.,  8077.,\n",
       "        14524., 37564.]),\n",
       " array([4.5299530e-06, 1.0000408e-01, 2.0000362e-01, 3.0000317e-01,\n",
       "        4.0000272e-01, 5.0000226e-01, 6.0000181e-01, 7.0000136e-01,\n",
       "        8.0000091e-01, 9.0000045e-01, 1.0000000e+00], dtype=float32),\n",
       " <a list of 10 Patch objects>)"
      ]
     },
     "execution_count": 71,
     "metadata": {},
     "output_type": "execute_result"
    },
    {
     "data": {
      "image/png": "[encoded data removed]",
      "text/plain": [
       "<Figure size 432x288 with 1 Axes>"
      ]
     },
     "metadata": {
      "needs_background": "light"
     },
     "output_type": "display_data"
    }
   ],
   "source": [
    "print(len(peak_preds))\n",
    "print(sum(i > 0.5 for i in peak_preds))\n",
    "plt.hist(peak_preds,color='skyblue')"
   ]
  },
  {
   "cell_type": "markdown",
   "metadata": {},
   "source": [
    "## Active Model"
   ]
  },
  {
   "cell_type": "code",
   "execution_count": 72,
   "metadata": {},
   "outputs": [],
   "source": [
    "#differential model second\n",
    "keras_model_weights2 = workingDirectory+\"/model_weights/modelWeights_300bp_C57BL6J_active_epo20_RandomShift0bp.h5\"\n",
    "keras_model_json2 = workingDirectory+\"/model_weights/modelWeights_300bp_C57BL6J_active_epo20_RandomShift0bp.json\"\n",
    "\n",
    "keras_model2 = model_from_json(open(keras_model_json2).read())\n",
    "keras_model2.load_weights(keras_model_weights2)\n",
    "keras_model2.compile(loss=keras.losses.binary_crossentropy,\n",
    "        optimizer=keras.optimizers.Adam(lr=1e-2),\n",
    "        metrics=['accuracy'])"
   ]
  },
  {
   "cell_type": "code",
   "execution_count": 73,
   "metadata": {},
   "outputs": [],
   "source": [
    "peak_preds2 = keras_model2.predict(x_vis).flatten()"
   ]
  },
  {
   "cell_type": "code",
   "execution_count": 74,
   "metadata": {},
   "outputs": [
    {
     "name": "stdout",
     "output_type": "stream",
     "text": [
      "96648\n",
      "83338\n"
     ]
    },
    {
     "data": {
      "text/plain": [
       "(array([  342.,  2043.,  4074.,  3354.,  3497.,  4312.,  9310., 12650.,\n",
       "        21537., 35529.]),\n",
       " array([4.47034836e-07, 1.00000404e-01, 2.00000361e-01, 3.00000310e-01,\n",
       "        4.00000274e-01, 5.00000238e-01, 6.00000203e-01, 7.00000107e-01,\n",
       "        8.00000072e-01, 9.00000036e-01, 1.00000000e+00], dtype=float32),\n",
       " <a list of 10 Patch objects>)"
      ]
     },
     "execution_count": 74,
     "metadata": {},
     "output_type": "execute_result"
    },
    {
     "data": {
      "image/png": "[encoded data removed]",
      "text/plain": [
       "<Figure size 432x288 with 1 Axes>"
      ]
     },
     "metadata": {
      "needs_background": "light"
     },
     "output_type": "display_data"
    }
   ],
   "source": [
    "print(len(peak_preds2))\n",
    "print(sum(i > 0.5 for i in peak_preds2))\n",
    "plt.hist(peak_preds2,color='red')"
   ]
  },
  {
   "cell_type": "markdown",
   "metadata": {},
   "source": [
    "# Cutting down the data lists"
   ]
  },
  {
   "cell_type": "markdown",
   "metadata": {},
   "source": [
    "### Keep seqs where at least one of preds for (seq and rc) is above threshold"
   ]
  },
  {
   "cell_type": "code",
   "execution_count": 75,
   "metadata": {},
   "outputs": [],
   "source": [
    "#easiest thing is to just put both in the df then can be modular about cutting this down\n",
    "poised_preds = peak_preds[::2]\n",
    "poised_preds_rc = peak_preds[1::2]\n",
    "active_preds = peak_preds2[::2]\n",
    "active_preds_rc = peak_preds2[1::2]"
   ]
  },
  {
   "cell_type": "code",
   "execution_count": 76,
   "metadata": {
    "scrolled": true
   },
   "outputs": [],
   "source": [
    "merged_bed[\"Poised Predictions\"] = poised_preds\n",
    "merged_bed[\"Poised Predictions RC\"] = poised_preds_rc\n",
    "merged_bed[\"Active Predictions\"] = active_preds\n",
    "merged_bed[\"Active Predictions RC\"] = active_preds_rc"
   ]
  },
  {
   "cell_type": "code",
   "execution_count": 77,
   "metadata": {},
   "outputs": [
    {
     "name": "stdout",
     "output_type": "stream",
     "text": [
      "48324\n"
     ]
    },
    {
     "data": {
      "text/html": [
       "<div>\n",
       "<style scoped>\n",
       "    .dataframe tbody tr th:only-of-type {\n",
       "        vertical-align: middle;\n",
       "    }\n",
       "\n",
       "    .dataframe tbody tr th {\n",
       "        vertical-align: top;\n",
       "    }\n",
       "\n",
       "    .dataframe thead th {\n",
       "        text-align: right;\n",
       "    }\n",
       "</style>\n",
       "<table border=\"1\" class=\"dataframe\">\n",
       "  <thead>\n",
       "    <tr style=\"text-align: right;\">\n",
       "      <th></th>\n",
       "      <th>Chr</th>\n",
       "      <th>Start</th>\n",
       "      <th>End</th>\n",
       "      <th>Peakid</th>\n",
       "      <th>Stat</th>\n",
       "      <th>Strand</th>\n",
       "      <th>Poised Predictions</th>\n",
       "      <th>Poised Predictions RC</th>\n",
       "      <th>Active Predictions</th>\n",
       "      <th>Active Predictions RC</th>\n",
       "    </tr>\n",
       "  </thead>\n",
       "  <tbody>\n",
       "    <tr>\n",
       "      <td>0</td>\n",
       "      <td>chr5</td>\n",
       "      <td>147894094</td>\n",
       "      <td>147894294</td>\n",
       "      <td>Merged-chr5-147894194-1</td>\n",
       "      <td>0.0</td>\n",
       "      <td>+</td>\n",
       "      <td>0.850177</td>\n",
       "      <td>0.580634</td>\n",
       "      <td>0.930514</td>\n",
       "      <td>0.886086</td>\n",
       "    </tr>\n",
       "    <tr>\n",
       "      <td>1</td>\n",
       "      <td>chr15</td>\n",
       "      <td>53399224</td>\n",
       "      <td>53399424</td>\n",
       "      <td>Merged-chr15-53399324-1</td>\n",
       "      <td>0.0</td>\n",
       "      <td>+</td>\n",
       "      <td>0.843508</td>\n",
       "      <td>0.767881</td>\n",
       "      <td>0.864703</td>\n",
       "      <td>0.922945</td>\n",
       "    </tr>\n",
       "    <tr>\n",
       "      <td>2</td>\n",
       "      <td>chr10</td>\n",
       "      <td>95323530</td>\n",
       "      <td>95323730</td>\n",
       "      <td>Merged-chr10-95323630-1</td>\n",
       "      <td>0.0</td>\n",
       "      <td>+</td>\n",
       "      <td>0.168567</td>\n",
       "      <td>0.238811</td>\n",
       "      <td>0.625731</td>\n",
       "      <td>0.631909</td>\n",
       "    </tr>\n",
       "    <tr>\n",
       "      <td>3</td>\n",
       "      <td>chr12</td>\n",
       "      <td>111743421</td>\n",
       "      <td>111743621</td>\n",
       "      <td>Merged-chr12-111743521-1</td>\n",
       "      <td>0.0</td>\n",
       "      <td>+</td>\n",
       "      <td>0.922834</td>\n",
       "      <td>0.916620</td>\n",
       "      <td>0.924718</td>\n",
       "      <td>0.895533</td>\n",
       "    </tr>\n",
       "    <tr>\n",
       "      <td>4</td>\n",
       "      <td>chr11</td>\n",
       "      <td>100582977</td>\n",
       "      <td>100583177</td>\n",
       "      <td>Merged-chr11-100583077-1</td>\n",
       "      <td>0.0</td>\n",
       "      <td>+</td>\n",
       "      <td>0.938389</td>\n",
       "      <td>0.930212</td>\n",
       "      <td>0.939787</td>\n",
       "      <td>0.963610</td>\n",
       "    </tr>\n",
       "  </tbody>\n",
       "</table>\n",
       "</div>"
      ],
      "text/plain": [
       "     Chr      Start        End                    Peakid  Stat Strand  \\\n",
       "0   chr5  147894094  147894294   Merged-chr5-147894194-1   0.0      +   \n",
       "1  chr15   53399224   53399424   Merged-chr15-53399324-1   0.0      +   \n",
       "2  chr10   95323530   95323730   Merged-chr10-95323630-1   0.0      +   \n",
       "3  chr12  111743421  111743621  Merged-chr12-111743521-1   0.0      +   \n",
       "4  chr11  100582977  100583177  Merged-chr11-100583077-1   0.0      +   \n",
       "\n",
       "   Poised Predictions  Poised Predictions RC  Active Predictions  \\\n",
       "0            0.850177               0.580634            0.930514   \n",
       "1            0.843508               0.767881            0.864703   \n",
       "2            0.168567               0.238811            0.625731   \n",
       "3            0.922834               0.916620            0.924718   \n",
       "4            0.938389               0.930212            0.939787   \n",
       "\n",
       "   Active Predictions RC  \n",
       "0               0.886086  \n",
       "1               0.922945  \n",
       "2               0.631909  \n",
       "3               0.895533  \n",
       "4               0.963610  "
      ]
     },
     "execution_count": 77,
     "metadata": {},
     "output_type": "execute_result"
    }
   ],
   "source": [
    "print(len(merged_bed))\n",
    "merged_bed.head()"
   ]
  },
  {
   "cell_type": "code",
   "execution_count": 78,
   "metadata": {},
   "outputs": [],
   "source": [
    "save_name = \"./bed_files/poised_active_merged_peaks_scored.bed\"\n",
    "merged_bed.to_csv(save_name, index=False, header=True, sep=\"\\t\")"
   ]
  },
  {
   "cell_type": "markdown",
   "metadata": {},
   "source": [
    "## Cut down bed df and then remake the dataset"
   ]
  },
  {
   "cell_type": "code",
   "execution_count": 79,
   "metadata": {
    "scrolled": true
   },
   "outputs": [
    {
     "data": {
      "text/plain": [
       "(48324, 10)"
      ]
     },
     "execution_count": 79,
     "metadata": {},
     "output_type": "execute_result"
    }
   ],
   "source": [
    "merged_bed.shape"
   ]
  },
  {
   "cell_type": "markdown",
   "metadata": {},
   "source": [
    "### Poised model predicts positive"
   ]
  },
  {
   "cell_type": "code",
   "execution_count": 80,
   "metadata": {
    "scrolled": true
   },
   "outputs": [
    {
     "name": "stdout",
     "output_type": "stream",
     "text": [
      "38482\n"
     ]
    }
   ],
   "source": [
    "#first cut (just take a row if one passes)\n",
    "save_rows1 = []\n",
    "for row in merged_bed.iterrows():\n",
    "    if row[1].loc['Poised Predictions'] > 0.5 or row[1].loc['Poised Predictions RC'] > 0.5:\n",
    "        save_rows1.append(row[0])\n",
    "        \n",
    "print(len(save_rows1))"
   ]
  },
  {
   "cell_type": "code",
   "execution_count": 81,
   "metadata": {},
   "outputs": [
    {
     "name": "stdout",
     "output_type": "stream",
     "text": [
      "38482\n"
     ]
    },
    {
     "data": {
      "text/html": [
       "<div>\n",
       "<style scoped>\n",
       "    .dataframe tbody tr th:only-of-type {\n",
       "        vertical-align: middle;\n",
       "    }\n",
       "\n",
       "    .dataframe tbody tr th {\n",
       "        vertical-align: top;\n",
       "    }\n",
       "\n",
       "    .dataframe thead th {\n",
       "        text-align: right;\n",
       "    }\n",
       "</style>\n",
       "<table border=\"1\" class=\"dataframe\">\n",
       "  <thead>\n",
       "    <tr style=\"text-align: right;\">\n",
       "      <th></th>\n",
       "      <th>Chr</th>\n",
       "      <th>Start</th>\n",
       "      <th>End</th>\n",
       "      <th>Peakid</th>\n",
       "      <th>Stat</th>\n",
       "      <th>Strand</th>\n",
       "      <th>Poised Predictions</th>\n",
       "      <th>Poised Predictions RC</th>\n",
       "      <th>Active Predictions</th>\n",
       "      <th>Active Predictions RC</th>\n",
       "    </tr>\n",
       "  </thead>\n",
       "  <tbody>\n",
       "    <tr>\n",
       "      <td>0</td>\n",
       "      <td>chr5</td>\n",
       "      <td>147894094</td>\n",
       "      <td>147894294</td>\n",
       "      <td>Merged-chr5-147894194-1</td>\n",
       "      <td>0.0</td>\n",
       "      <td>+</td>\n",
       "      <td>0.850177</td>\n",
       "      <td>0.580634</td>\n",
       "      <td>0.930514</td>\n",
       "      <td>0.886086</td>\n",
       "    </tr>\n",
       "    <tr>\n",
       "      <td>1</td>\n",
       "      <td>chr15</td>\n",
       "      <td>53399224</td>\n",
       "      <td>53399424</td>\n",
       "      <td>Merged-chr15-53399324-1</td>\n",
       "      <td>0.0</td>\n",
       "      <td>+</td>\n",
       "      <td>0.843508</td>\n",
       "      <td>0.767881</td>\n",
       "      <td>0.864703</td>\n",
       "      <td>0.922945</td>\n",
       "    </tr>\n",
       "    <tr>\n",
       "      <td>3</td>\n",
       "      <td>chr12</td>\n",
       "      <td>111743421</td>\n",
       "      <td>111743621</td>\n",
       "      <td>Merged-chr12-111743521-1</td>\n",
       "      <td>0.0</td>\n",
       "      <td>+</td>\n",
       "      <td>0.922834</td>\n",
       "      <td>0.916620</td>\n",
       "      <td>0.924718</td>\n",
       "      <td>0.895533</td>\n",
       "    </tr>\n",
       "    <tr>\n",
       "      <td>4</td>\n",
       "      <td>chr11</td>\n",
       "      <td>100582977</td>\n",
       "      <td>100583177</td>\n",
       "      <td>Merged-chr11-100583077-1</td>\n",
       "      <td>0.0</td>\n",
       "      <td>+</td>\n",
       "      <td>0.938389</td>\n",
       "      <td>0.930212</td>\n",
       "      <td>0.939787</td>\n",
       "      <td>0.963610</td>\n",
       "    </tr>\n",
       "    <tr>\n",
       "      <td>5</td>\n",
       "      <td>chr11</td>\n",
       "      <td>98782374</td>\n",
       "      <td>98782574</td>\n",
       "      <td>Merged-chr11-98782474-1</td>\n",
       "      <td>0.0</td>\n",
       "      <td>+</td>\n",
       "      <td>0.059996</td>\n",
       "      <td>0.648414</td>\n",
       "      <td>0.830570</td>\n",
       "      <td>0.707561</td>\n",
       "    </tr>\n",
       "  </tbody>\n",
       "</table>\n",
       "</div>"
      ],
      "text/plain": [
       "     Chr      Start        End                    Peakid  Stat Strand  \\\n",
       "0   chr5  147894094  147894294   Merged-chr5-147894194-1   0.0      +   \n",
       "1  chr15   53399224   53399424   Merged-chr15-53399324-1   0.0      +   \n",
       "3  chr12  111743421  111743621  Merged-chr12-111743521-1   0.0      +   \n",
       "4  chr11  100582977  100583177  Merged-chr11-100583077-1   0.0      +   \n",
       "5  chr11   98782374   98782574   Merged-chr11-98782474-1   0.0      +   \n",
       "\n",
       "   Poised Predictions  Poised Predictions RC  Active Predictions  \\\n",
       "0            0.850177               0.580634            0.930514   \n",
       "1            0.843508               0.767881            0.864703   \n",
       "3            0.922834               0.916620            0.924718   \n",
       "4            0.938389               0.930212            0.939787   \n",
       "5            0.059996               0.648414            0.830570   \n",
       "\n",
       "   Active Predictions RC  \n",
       "0               0.886086  \n",
       "1               0.922945  \n",
       "3               0.895533  \n",
       "4               0.963610  \n",
       "5               0.707561  "
      ]
     },
     "execution_count": 81,
     "metadata": {},
     "output_type": "execute_result"
    }
   ],
   "source": [
    "merged_bed_filter = merged_bed.iloc[save_rows1,:]\n",
    "print(len(merged_bed_filter))\n",
    "merged_bed_filter.head()"
   ]
  },
  {
   "cell_type": "code",
   "execution_count": 82,
   "metadata": {},
   "outputs": [],
   "source": [
    "save_name = \"./bed_files/poised_active_merged_peaks_scored_poised_filtered.bed\"\n",
    "merged_bed_filter.to_csv(save_name, index=False, header=False, sep=\"\\t\")"
   ]
  },
  {
   "cell_type": "markdown",
   "metadata": {},
   "source": [
    "### Active model predicts positive"
   ]
  },
  {
   "cell_type": "code",
   "execution_count": 83,
   "metadata": {},
   "outputs": [
    {
     "name": "stdout",
     "output_type": "stream",
     "text": [
      "43537\n"
     ]
    }
   ],
   "source": [
    "#first cut (just take a row if one passes)\n",
    "save_rows2 = []\n",
    "for row in merged_bed.iterrows():\n",
    "    if row[1].loc['Active Predictions'] > 0.5 or row[1].loc['Active Predictions RC'] > 0.5:\n",
    "        save_rows2.append(row[0])\n",
    "        \n",
    "print(len(save_rows2))"
   ]
  },
  {
   "cell_type": "code",
   "execution_count": 84,
   "metadata": {},
   "outputs": [
    {
     "name": "stdout",
     "output_type": "stream",
     "text": [
      "43537\n"
     ]
    },
    {
     "data": {
      "text/html": [
       "<div>\n",
       "<style scoped>\n",
       "    .dataframe tbody tr th:only-of-type {\n",
       "        vertical-align: middle;\n",
       "    }\n",
       "\n",
       "    .dataframe tbody tr th {\n",
       "        vertical-align: top;\n",
       "    }\n",
       "\n",
       "    .dataframe thead th {\n",
       "        text-align: right;\n",
       "    }\n",
       "</style>\n",
       "<table border=\"1\" class=\"dataframe\">\n",
       "  <thead>\n",
       "    <tr style=\"text-align: right;\">\n",
       "      <th></th>\n",
       "      <th>Chr</th>\n",
       "      <th>Start</th>\n",
       "      <th>End</th>\n",
       "      <th>Peakid</th>\n",
       "      <th>Stat</th>\n",
       "      <th>Strand</th>\n",
       "      <th>Poised Predictions</th>\n",
       "      <th>Poised Predictions RC</th>\n",
       "      <th>Active Predictions</th>\n",
       "      <th>Active Predictions RC</th>\n",
       "    </tr>\n",
       "  </thead>\n",
       "  <tbody>\n",
       "    <tr>\n",
       "      <td>0</td>\n",
       "      <td>chr5</td>\n",
       "      <td>147894094</td>\n",
       "      <td>147894294</td>\n",
       "      <td>Merged-chr5-147894194-1</td>\n",
       "      <td>0.0</td>\n",
       "      <td>+</td>\n",
       "      <td>0.850177</td>\n",
       "      <td>0.580634</td>\n",
       "      <td>0.930514</td>\n",
       "      <td>0.886086</td>\n",
       "    </tr>\n",
       "    <tr>\n",
       "      <td>1</td>\n",
       "      <td>chr15</td>\n",
       "      <td>53399224</td>\n",
       "      <td>53399424</td>\n",
       "      <td>Merged-chr15-53399324-1</td>\n",
       "      <td>0.0</td>\n",
       "      <td>+</td>\n",
       "      <td>0.843508</td>\n",
       "      <td>0.767881</td>\n",
       "      <td>0.864703</td>\n",
       "      <td>0.922945</td>\n",
       "    </tr>\n",
       "    <tr>\n",
       "      <td>2</td>\n",
       "      <td>chr10</td>\n",
       "      <td>95323530</td>\n",
       "      <td>95323730</td>\n",
       "      <td>Merged-chr10-95323630-1</td>\n",
       "      <td>0.0</td>\n",
       "      <td>+</td>\n",
       "      <td>0.168567</td>\n",
       "      <td>0.238811</td>\n",
       "      <td>0.625731</td>\n",
       "      <td>0.631909</td>\n",
       "    </tr>\n",
       "    <tr>\n",
       "      <td>3</td>\n",
       "      <td>chr12</td>\n",
       "      <td>111743421</td>\n",
       "      <td>111743621</td>\n",
       "      <td>Merged-chr12-111743521-1</td>\n",
       "      <td>0.0</td>\n",
       "      <td>+</td>\n",
       "      <td>0.922834</td>\n",
       "      <td>0.916620</td>\n",
       "      <td>0.924718</td>\n",
       "      <td>0.895533</td>\n",
       "    </tr>\n",
       "    <tr>\n",
       "      <td>4</td>\n",
       "      <td>chr11</td>\n",
       "      <td>100582977</td>\n",
       "      <td>100583177</td>\n",
       "      <td>Merged-chr11-100583077-1</td>\n",
       "      <td>0.0</td>\n",
       "      <td>+</td>\n",
       "      <td>0.938389</td>\n",
       "      <td>0.930212</td>\n",
       "      <td>0.939787</td>\n",
       "      <td>0.963610</td>\n",
       "    </tr>\n",
       "  </tbody>\n",
       "</table>\n",
       "</div>"
      ],
      "text/plain": [
       "     Chr      Start        End                    Peakid  Stat Strand  \\\n",
       "0   chr5  147894094  147894294   Merged-chr5-147894194-1   0.0      +   \n",
       "1  chr15   53399224   53399424   Merged-chr15-53399324-1   0.0      +   \n",
       "2  chr10   95323530   95323730   Merged-chr10-95323630-1   0.0      +   \n",
       "3  chr12  111743421  111743621  Merged-chr12-111743521-1   0.0      +   \n",
       "4  chr11  100582977  100583177  Merged-chr11-100583077-1   0.0      +   \n",
       "\n",
       "   Poised Predictions  Poised Predictions RC  Active Predictions  \\\n",
       "0            0.850177               0.580634            0.930514   \n",
       "1            0.843508               0.767881            0.864703   \n",
       "2            0.168567               0.238811            0.625731   \n",
       "3            0.922834               0.916620            0.924718   \n",
       "4            0.938389               0.930212            0.939787   \n",
       "\n",
       "   Active Predictions RC  \n",
       "0               0.886086  \n",
       "1               0.922945  \n",
       "2               0.631909  \n",
       "3               0.895533  \n",
       "4               0.963610  "
      ]
     },
     "execution_count": 84,
     "metadata": {},
     "output_type": "execute_result"
    }
   ],
   "source": [
    "merged_bed_filter_active = merged_bed.iloc[save_rows2,:]\n",
    "print(len(merged_bed_filter_active))\n",
    "merged_bed_filter_active.head()"
   ]
  },
  {
   "cell_type": "code",
   "execution_count": 85,
   "metadata": {},
   "outputs": [],
   "source": [
    "save_name = \"./bed_files/poised_active_merged_peaks_scored_active_filtered.bed\"\n",
    "merged_bed_filter_active.to_csv(save_name, index=False, header=False, sep=\"\\t\")"
   ]
  },
  {
   "cell_type": "markdown",
   "metadata": {},
   "source": [
    "### Both active and poised"
   ]
  },
  {
   "cell_type": "code",
   "execution_count": 86,
   "metadata": {},
   "outputs": [
    {
     "name": "stdout",
     "output_type": "stream",
     "text": [
      "37452\n"
     ]
    }
   ],
   "source": [
    "#first cut (just take a row if one passes)\n",
    "save_rows3 = []\n",
    "for row in merged_bed.iterrows():\n",
    "    if row[1].loc['Poised Predictions'] > 0.5 or row[1].loc['Poised Predictions RC'] > 0.5:\n",
    "        if row[1].loc['Active Predictions'] > 0.5 or row[1].loc['Active Predictions RC'] > 0.5:\n",
    "            save_rows3.append(row[0])\n",
    "        \n",
    "print(len(save_rows3))"
   ]
  },
  {
   "cell_type": "code",
   "execution_count": 87,
   "metadata": {},
   "outputs": [
    {
     "name": "stdout",
     "output_type": "stream",
     "text": [
      "37452\n"
     ]
    },
    {
     "data": {
      "text/html": [
       "<div>\n",
       "<style scoped>\n",
       "    .dataframe tbody tr th:only-of-type {\n",
       "        vertical-align: middle;\n",
       "    }\n",
       "\n",
       "    .dataframe tbody tr th {\n",
       "        vertical-align: top;\n",
       "    }\n",
       "\n",
       "    .dataframe thead th {\n",
       "        text-align: right;\n",
       "    }\n",
       "</style>\n",
       "<table border=\"1\" class=\"dataframe\">\n",
       "  <thead>\n",
       "    <tr style=\"text-align: right;\">\n",
       "      <th></th>\n",
       "      <th>Chr</th>\n",
       "      <th>Start</th>\n",
       "      <th>End</th>\n",
       "      <th>Peakid</th>\n",
       "      <th>Stat</th>\n",
       "      <th>Strand</th>\n",
       "      <th>Poised Predictions</th>\n",
       "      <th>Poised Predictions RC</th>\n",
       "      <th>Active Predictions</th>\n",
       "      <th>Active Predictions RC</th>\n",
       "    </tr>\n",
       "  </thead>\n",
       "  <tbody>\n",
       "    <tr>\n",
       "      <td>0</td>\n",
       "      <td>chr5</td>\n",
       "      <td>147894094</td>\n",
       "      <td>147894294</td>\n",
       "      <td>Merged-chr5-147894194-1</td>\n",
       "      <td>0.0</td>\n",
       "      <td>+</td>\n",
       "      <td>0.850177</td>\n",
       "      <td>0.580634</td>\n",
       "      <td>0.930514</td>\n",
       "      <td>0.886086</td>\n",
       "    </tr>\n",
       "    <tr>\n",
       "      <td>1</td>\n",
       "      <td>chr15</td>\n",
       "      <td>53399224</td>\n",
       "      <td>53399424</td>\n",
       "      <td>Merged-chr15-53399324-1</td>\n",
       "      <td>0.0</td>\n",
       "      <td>+</td>\n",
       "      <td>0.843508</td>\n",
       "      <td>0.767881</td>\n",
       "      <td>0.864703</td>\n",
       "      <td>0.922945</td>\n",
       "    </tr>\n",
       "    <tr>\n",
       "      <td>3</td>\n",
       "      <td>chr12</td>\n",
       "      <td>111743421</td>\n",
       "      <td>111743621</td>\n",
       "      <td>Merged-chr12-111743521-1</td>\n",
       "      <td>0.0</td>\n",
       "      <td>+</td>\n",
       "      <td>0.922834</td>\n",
       "      <td>0.916620</td>\n",
       "      <td>0.924718</td>\n",
       "      <td>0.895533</td>\n",
       "    </tr>\n",
       "    <tr>\n",
       "      <td>4</td>\n",
       "      <td>chr11</td>\n",
       "      <td>100582977</td>\n",
       "      <td>100583177</td>\n",
       "      <td>Merged-chr11-100583077-1</td>\n",
       "      <td>0.0</td>\n",
       "      <td>+</td>\n",
       "      <td>0.938389</td>\n",
       "      <td>0.930212</td>\n",
       "      <td>0.939787</td>\n",
       "      <td>0.963610</td>\n",
       "    </tr>\n",
       "    <tr>\n",
       "      <td>5</td>\n",
       "      <td>chr11</td>\n",
       "      <td>98782374</td>\n",
       "      <td>98782574</td>\n",
       "      <td>Merged-chr11-98782474-1</td>\n",
       "      <td>0.0</td>\n",
       "      <td>+</td>\n",
       "      <td>0.059996</td>\n",
       "      <td>0.648414</td>\n",
       "      <td>0.830570</td>\n",
       "      <td>0.707561</td>\n",
       "    </tr>\n",
       "  </tbody>\n",
       "</table>\n",
       "</div>"
      ],
      "text/plain": [
       "     Chr      Start        End                    Peakid  Stat Strand  \\\n",
       "0   chr5  147894094  147894294   Merged-chr5-147894194-1   0.0      +   \n",
       "1  chr15   53399224   53399424   Merged-chr15-53399324-1   0.0      +   \n",
       "3  chr12  111743421  111743621  Merged-chr12-111743521-1   0.0      +   \n",
       "4  chr11  100582977  100583177  Merged-chr11-100583077-1   0.0      +   \n",
       "5  chr11   98782374   98782574   Merged-chr11-98782474-1   0.0      +   \n",
       "\n",
       "   Poised Predictions  Poised Predictions RC  Active Predictions  \\\n",
       "0            0.850177               0.580634            0.930514   \n",
       "1            0.843508               0.767881            0.864703   \n",
       "3            0.922834               0.916620            0.924718   \n",
       "4            0.938389               0.930212            0.939787   \n",
       "5            0.059996               0.648414            0.830570   \n",
       "\n",
       "   Active Predictions RC  \n",
       "0               0.886086  \n",
       "1               0.922945  \n",
       "3               0.895533  \n",
       "4               0.963610  \n",
       "5               0.707561  "
      ]
     },
     "execution_count": 87,
     "metadata": {},
     "output_type": "execute_result"
    }
   ],
   "source": [
    "merged_bed_filter_both = merged_bed.iloc[save_rows3,:]\n",
    "print(len(merged_bed_filter_both))\n",
    "merged_bed_filter_both.head()"
   ]
  },
  {
   "cell_type": "code",
   "execution_count": 88,
   "metadata": {},
   "outputs": [],
   "source": [
    "save_name = \"./bed_files/poised_active_merged_peaks_scored_poised_active_filtered.bed\"\n",
    "merged_bed_filter_both.to_csv(save_name, index=False, header=False, sep=\"\\t\")"
   ]
  },
  {
   "cell_type": "markdown",
   "metadata": {},
   "source": [
    "## Now remake the datasets"
   ]
  },
  {
   "cell_type": "code",
   "execution_count": 89,
   "metadata": {},
   "outputs": [
    {
     "name": "stdout",
     "output_type": "stream",
     "text": [
      "Scaled to 300\n",
      "Generate replicates by shifting 0 bp\n",
      "38482\n"
     ]
    }
   ],
   "source": [
    "#poised --> delete first col!\n",
    "data_path = \"./bed_files/poised_active_merged_peaks_scored_poised_filtered.bed\"\n",
    "poised_pos_data = data_prep(data_path, genomes, 1, \"C57\", size=300, rep=1, shift=None)\n",
    "print(len(poised_pos_data))"
   ]
  },
  {
   "cell_type": "code",
   "execution_count": 90,
   "metadata": {},
   "outputs": [
    {
     "name": "stdout",
     "output_type": "stream",
     "text": [
      "Scaled to 300\n",
      "Generate replicates by shifting 0 bp\n",
      "43537\n"
     ]
    }
   ],
   "source": [
    "#amln+ --> delete first col!\n",
    "data_path = \"./bed_files/poised_active_merged_peaks_scored_active_filtered.bed\"\n",
    "active_pos_data = data_prep(data_path, genomes, 1, \"C57\", size=300, rep=1, shift=None)\n",
    "print(len(active_pos_data))"
   ]
  },
  {
   "cell_type": "code",
   "execution_count": 91,
   "metadata": {},
   "outputs": [
    {
     "name": "stdout",
     "output_type": "stream",
     "text": [
      "Scaled to 300\n",
      "Generate replicates by shifting 0 bp\n",
      "37452\n"
     ]
    }
   ],
   "source": [
    "#amln+ AND control+ --> delete first col!\n",
    "data_path = \"./bed_files/poised_active_merged_peaks_scored_poised_active_filtered.bed\"\n",
    "both_pos_data = data_prep(data_path, genomes, 1, \"C57\", size=300, rep=1, shift=None)\n",
    "print(len(both_pos_data))"
   ]
  },
  {
   "cell_type": "markdown",
   "metadata": {},
   "source": [
    "# Score nucleotide importance with DeepLIFT\n",
    "## Do this twice for each model... the overlap set and the individual set"
   ]
  },
  {
   "cell_type": "code",
   "execution_count": 92,
   "metadata": {},
   "outputs": [],
   "source": [
    "import deeplift\n",
    "from deeplift.layers import NonlinearMxtsMode\n",
    "import deeplift.conversion.kerasapi_conversion as kc\n",
    "from collections import OrderedDict\n",
    "from deeplift.util import get_shuffle_seq_ref_function\n",
    "from deeplift.dinuc_shuffle import dinuc_shuffle"
   ]
  },
  {
   "cell_type": "markdown",
   "metadata": {},
   "source": [
    "## Define scoring function"
   ]
  },
  {
   "cell_type": "code",
   "execution_count": 93,
   "metadata": {
    "scrolled": true
   },
   "outputs": [
    {
     "name": "stdout",
     "output_type": "stream",
     "text": [
      "nonlinear_mxts_mode is set to: DeepLIFT_GenomicsDefault\n",
      "For layer 2 the preceding linear layer is 0 of type Conv1D;\n",
      "In accordance with nonlinear_mxts_mode=DeepLIFT_GenomicsDefault we are setting the NonlinearMxtsMode to Rescale\n",
      "Heads-up: current implementation assumes maxpool layer is followed by a linear transformation (conv/dense layer)\n",
      "For layer 7 the preceding linear layer is 5 of type Conv1D;\n",
      "In accordance with nonlinear_mxts_mode=DeepLIFT_GenomicsDefault we are setting the NonlinearMxtsMode to Rescale\n",
      "Heads-up: current implementation assumes maxpool layer is followed by a linear transformation (conv/dense layer)\n",
      "For layer 12 the preceding linear layer is 10 of type Conv1D;\n",
      "In accordance with nonlinear_mxts_mode=DeepLIFT_GenomicsDefault we are setting the NonlinearMxtsMode to Rescale\n",
      "For layer 16 the preceding linear layer is 15 of type Dense;\n",
      "In accordance with nonlinear_mxts_modeDeepLIFT_GenomicsDefault we are setting the NonlinearMxtsMode to RevealCancel\n",
      "Heads-up: I assume sigmoid is the output layer, not an intermediate one; if it's an intermediate layer then please bug me and I will implement the grad func\n",
      "For layer 18 the preceding linear layer is 17 of type Dense;\n",
      "In accordance with nonlinear_mxts_modeDeepLIFT_GenomicsDefault we are setting the NonlinearMxtsMode to RevealCancel\n",
      "TARGET LAYER SET TO 17\n"
     ]
    }
   ],
   "source": [
    "#control model\n",
    "#already compiled... making new one here that I'm not compiling\n",
    "keras_model_weights = workingDirectory+\"/model_weights/modelWeights_300bp_C57BL6J_poised_epo20_RandomShift0bp.h5\"\n",
    "keras_model_json = workingDirectory+\"/model_weights/modelWeights_300bp_C57BL6J_poised_epo20_RandomShift0bp.json\"\n",
    "\n",
    "keras_model1 = model_from_json(open(keras_model_json).read())\n",
    "keras_model1.load_weights(keras_model_weights)\n",
    "\n",
    "#new to run\n",
    "nonlinear_mxts_mode = NonlinearMxtsMode.DeepLIFT_GenomicsDefault\n",
    "deeplift_method = kc.convert_model_from_saved_files(\n",
    "            h5_file=keras_model_weights,\n",
    "            json_file=keras_model_json,\n",
    "            nonlinear_mxts_mode=nonlinear_mxts_mode)\n",
    "scoring_func = deeplift_method.get_target_contribs_func(find_scores_layer_idx=0, target_layer_idx=-2)"
   ]
  },
  {
   "cell_type": "markdown",
   "metadata": {},
   "source": [
    "# Need to rerun this one too!"
   ]
  },
  {
   "cell_type": "code",
   "execution_count": 94,
   "metadata": {
    "scrolled": true
   },
   "outputs": [
    {
     "name": "stdout",
     "output_type": "stream",
     "text": [
      "nonlinear_mxts_mode is set to: DeepLIFT_GenomicsDefault\n",
      "For layer 2 the preceding linear layer is 0 of type Conv1D;\n",
      "In accordance with nonlinear_mxts_mode=DeepLIFT_GenomicsDefault we are setting the NonlinearMxtsMode to Rescale\n",
      "Heads-up: current implementation assumes maxpool layer is followed by a linear transformation (conv/dense layer)\n",
      "For layer 7 the preceding linear layer is 5 of type Conv1D;\n",
      "In accordance with nonlinear_mxts_mode=DeepLIFT_GenomicsDefault we are setting the NonlinearMxtsMode to Rescale\n",
      "Heads-up: current implementation assumes maxpool layer is followed by a linear transformation (conv/dense layer)\n",
      "For layer 12 the preceding linear layer is 10 of type Conv1D;\n",
      "In accordance with nonlinear_mxts_mode=DeepLIFT_GenomicsDefault we are setting the NonlinearMxtsMode to Rescale\n",
      "For layer 16 the preceding linear layer is 15 of type Dense;\n",
      "In accordance with nonlinear_mxts_modeDeepLIFT_GenomicsDefault we are setting the NonlinearMxtsMode to RevealCancel\n",
      "Heads-up: I assume sigmoid is the output layer, not an intermediate one; if it's an intermediate layer then please bug me and I will implement the grad func\n",
      "For layer 18 the preceding linear layer is 17 of type Dense;\n",
      "In accordance with nonlinear_mxts_modeDeepLIFT_GenomicsDefault we are setting the NonlinearMxtsMode to RevealCancel\n",
      "TARGET LAYER SET TO 17\n"
     ]
    }
   ],
   "source": [
    "#control model\n",
    "#already compiled... making new one here that I'm not compiling\n",
    "keras_model_weights2 = workingDirectory+\"/model_weights/modelWeights_300bp_C57BL6J_active_epo20_RandomShift0bp.h5\"\n",
    "keras_model_json2 = workingDirectory+\"/model_weights/modelWeights_300bp_C57BL6J_active_epo20_RandomShift0bp.json\"\n",
    "\n",
    "keras_model2 = model_from_json(open(keras_model_json2).read())\n",
    "keras_model2.load_weights(keras_model_weights2)\n",
    "\n",
    "#new to run\n",
    "nonlinear_mxts_mode = NonlinearMxtsMode.DeepLIFT_GenomicsDefault\n",
    "deeplift_method2 = kc.convert_model_from_saved_files(\n",
    "            h5_file=keras_model_weights2,\n",
    "            json_file=keras_model_json2,\n",
    "            nonlinear_mxts_mode=nonlinear_mxts_mode)\n",
    "scoring_func2 = deeplift_method2.get_target_contribs_func(find_scores_layer_idx=0, target_layer_idx=-2)"
   ]
  },
  {
   "cell_type": "markdown",
   "metadata": {},
   "source": [
    "## Specify reference and compute importance"
   ]
  },
  {
   "cell_type": "code",
   "execution_count": 95,
   "metadata": {},
   "outputs": [
    {
     "data": {
      "text/plain": [
       "37452"
      ]
     },
     "execution_count": 95,
     "metadata": {},
     "output_type": "execute_result"
    }
   ],
   "source": [
    "len(both_pos_data)"
   ]
  },
  {
   "cell_type": "code",
   "execution_count": 96,
   "metadata": {},
   "outputs": [
    {
     "data": {
      "text/plain": [
       "43537"
      ]
     },
     "execution_count": 96,
     "metadata": {},
     "output_type": "execute_result"
    }
   ],
   "source": [
    "len(active_pos_data)"
   ]
  },
  {
   "cell_type": "code",
   "execution_count": 97,
   "metadata": {},
   "outputs": [
    {
     "data": {
      "text/plain": [
       "38482"
      ]
     },
     "execution_count": 97,
     "metadata": {},
     "output_type": "execute_result"
    }
   ],
   "source": [
    "len(poised_pos_data)"
   ]
  },
  {
   "cell_type": "code",
   "execution_count": 98,
   "metadata": {},
   "outputs": [],
   "source": [
    "#making 3 onehotseqs from all 3 pos data sets\n",
    "x_vis_poised, y_vis_poised, info_vis_poised = dataset2onehot(poised_pos_data, False)\n",
    "x_vis_active, y_vis_active, info_vis_active = dataset2onehot(active_pos_data, False)\n",
    "x_vis_both, y_vis_both, info_vis_both = dataset2onehot(both_pos_data, False)"
   ]
  },
  {
   "cell_type": "code",
   "execution_count": 99,
   "metadata": {},
   "outputs": [
    {
     "name": "stdout",
     "output_type": "stream",
     "text": [
      "(76964, 300, 4)\n",
      "(76964,)\n",
      "(87074, 300, 4)\n",
      "(87074,)\n",
      "(74904, 300, 4)\n",
      "(74904,)\n"
     ]
    }
   ],
   "source": [
    "print(x_vis_poised.shape)\n",
    "print(y_vis_poised.shape)\n",
    "print(x_vis_active.shape)\n",
    "print(y_vis_active.shape)\n",
    "print(x_vis_both.shape)\n",
    "print(y_vis_both.shape)"
   ]
  },
  {
   "cell_type": "markdown",
   "metadata": {},
   "source": [
    "### Poised model \n",
    "- Scores 1 = poised pos data\n",
    "- Scores 2 = active + poised pos data"
   ]
  },
  {
   "cell_type": "code",
   "execution_count": 113,
   "metadata": {
    "scrolled": true
   },
   "outputs": [
    {
     "name": "stdout",
     "output_type": "stream",
     "text": [
      "Done 0\n",
      "Done 16000\n",
      "Done 32000\n",
      "Done 48000\n",
      "Done 64000\n",
      "CPU times: user 2h 57min 16s, sys: 18min 43s, total: 3h 16min\n",
      "Wall time: 5min 48s\n"
     ]
    }
   ],
   "source": [
    "%%time\n",
    "batch_size = 128\n",
    "background = OrderedDict([('A', 0.25), ('C', 0.25), ('G', 0.25), ('T', 0.25)])\n",
    "scores1 = np.array(scoring_func(task_idx=0, input_data_list=[x_vis_poised], batch_size=batch_size, \n",
    "                               input_references_list=[np.array([background['A'], \n",
    "                                                                background['C'], \n",
    "                                                                background['G'], \n",
    "                                                                background['T']])[None,None,:]],\n",
    "                               progress_update=1000))\n",
    "scores1 = np.sum(scores1, axis=2)"
   ]
  },
  {
   "cell_type": "code",
   "execution_count": 100,
   "metadata": {
    "scrolled": true
   },
   "outputs": [
    {
     "name": "stdout",
     "output_type": "stream",
     "text": [
      "Done 0\n",
      "Done 16000\n",
      "Done 32000\n",
      "Done 48000\n",
      "Done 64000\n",
      "CPU times: user 2h 48min 32s, sys: 16min 50s, total: 3h 5min 23s\n",
      "Wall time: 6min 9s\n"
     ]
    }
   ],
   "source": [
    "%%time\n",
    "batch_size = 128 \n",
    "background = OrderedDict([('A', 0.25), ('C', 0.25), ('G', 0.25), ('T', 0.25)])\n",
    "scores2 = np.array(scoring_func(task_idx=0, input_data_list=[x_vis_both], batch_size=batch_size, \n",
    "                               input_references_list=[np.array([background['A'], \n",
    "                                                                background['C'], \n",
    "                                                                background['G'], \n",
    "                                                                background['T']])[None,None,:]],\n",
    "                               progress_update=1000))\n",
    "scores2 = np.sum(scores2, axis=2)"
   ]
  },
  {
   "cell_type": "markdown",
   "metadata": {},
   "source": [
    "### Active model\n",
    "- Scores 3 = active pos data\n",
    "- Scores 4 = active + poised pos data"
   ]
  },
  {
   "cell_type": "code",
   "execution_count": 101,
   "metadata": {
    "scrolled": true
   },
   "outputs": [
    {
     "name": "stdout",
     "output_type": "stream",
     "text": [
      "Done 0\n",
      "Done 16000\n",
      "Done 32000\n",
      "Done 48000\n",
      "Done 64000\n",
      "Done 80000\n",
      "CPU times: user 3h 15min 3s, sys: 20min 34s, total: 3h 35min 38s\n",
      "Wall time: 7min 24s\n"
     ]
    }
   ],
   "source": [
    "%%time\n",
    "batch_size = 128 \n",
    "background = OrderedDict([('A', 0.25), ('C', 0.25), ('G', 0.25), ('T', 0.25)])\n",
    "scores3 = np.array(scoring_func2(task_idx=0, input_data_list=[x_vis_active], batch_size=batch_size, \n",
    "                               input_references_list=[np.array([background['A'], \n",
    "                                                                background['C'], \n",
    "                                                                background['G'], \n",
    "                                                                background['T']])[None,None,:]],\n",
    "                               progress_update=1000))\n",
    "scores3 = np.sum(scores3, axis=2)"
   ]
  },
  {
   "cell_type": "code",
   "execution_count": 102,
   "metadata": {
    "scrolled": true
   },
   "outputs": [
    {
     "name": "stdout",
     "output_type": "stream",
     "text": [
      "Done 0\n",
      "Done 16000\n",
      "Done 32000\n",
      "Done 48000\n",
      "Done 64000\n",
      "CPU times: user 2h 46min 50s, sys: 16min 29s, total: 3h 3min 19s\n",
      "Wall time: 6min 9s\n"
     ]
    }
   ],
   "source": [
    "%%time\n",
    "batch_size = 128 \n",
    "background = OrderedDict([('A', 0.25), ('C', 0.25), ('G', 0.25), ('T', 0.25)])\n",
    "scores4 = np.array(scoring_func2(task_idx=0, input_data_list=[x_vis_both], batch_size=batch_size, \n",
    "                               input_references_list=[np.array([background['A'], \n",
    "                                                                background['C'], \n",
    "                                                                background['G'], \n",
    "                                                                background['T']])[None,None,:]],\n",
    "                               progress_update=1000))\n",
    "scores4 = np.sum(scores4, axis=2)"
   ]
  },
  {
   "cell_type": "markdown",
   "metadata": {},
   "source": [
    "## Get nucleotide-level max importance from original and reverse compliment sequences"
   ]
  },
  {
   "cell_type": "markdown",
   "metadata": {},
   "source": [
    "### Select peak names\n",
    "As an edit to Hannah's code I want to also propagate the peak id feature so that I can easily match with differential sequences from our analysis"
   ]
  },
  {
   "cell_type": "code",
   "execution_count": 103,
   "metadata": {},
   "outputs": [
    {
     "data": {
      "text/html": [
       "<div>\n",
       "<style scoped>\n",
       "    .dataframe tbody tr th:only-of-type {\n",
       "        vertical-align: middle;\n",
       "    }\n",
       "\n",
       "    .dataframe tbody tr th {\n",
       "        vertical-align: top;\n",
       "    }\n",
       "\n",
       "    .dataframe thead th {\n",
       "        text-align: right;\n",
       "    }\n",
       "</style>\n",
       "<table border=\"1\" class=\"dataframe\">\n",
       "  <thead>\n",
       "    <tr style=\"text-align: right;\">\n",
       "      <th></th>\n",
       "      <th>Chr</th>\n",
       "      <th>Start</th>\n",
       "      <th>End</th>\n",
       "      <th>Peakid</th>\n",
       "      <th>Stat</th>\n",
       "      <th>Strand</th>\n",
       "      <th>Poised Predictions</th>\n",
       "      <th>Poised Predictions RC</th>\n",
       "      <th>Active Predictions</th>\n",
       "      <th>Active Predictions RC</th>\n",
       "    </tr>\n",
       "  </thead>\n",
       "  <tbody>\n",
       "    <tr>\n",
       "      <td>0</td>\n",
       "      <td>chr5</td>\n",
       "      <td>147894094</td>\n",
       "      <td>147894294</td>\n",
       "      <td>Merged-chr5-147894194-1</td>\n",
       "      <td>0.0</td>\n",
       "      <td>+</td>\n",
       "      <td>0.850177</td>\n",
       "      <td>0.580634</td>\n",
       "      <td>0.930514</td>\n",
       "      <td>0.886086</td>\n",
       "    </tr>\n",
       "    <tr>\n",
       "      <td>1</td>\n",
       "      <td>chr15</td>\n",
       "      <td>53399224</td>\n",
       "      <td>53399424</td>\n",
       "      <td>Merged-chr15-53399324-1</td>\n",
       "      <td>0.0</td>\n",
       "      <td>+</td>\n",
       "      <td>0.843508</td>\n",
       "      <td>0.767881</td>\n",
       "      <td>0.864703</td>\n",
       "      <td>0.922945</td>\n",
       "    </tr>\n",
       "    <tr>\n",
       "      <td>3</td>\n",
       "      <td>chr12</td>\n",
       "      <td>111743421</td>\n",
       "      <td>111743621</td>\n",
       "      <td>Merged-chr12-111743521-1</td>\n",
       "      <td>0.0</td>\n",
       "      <td>+</td>\n",
       "      <td>0.922834</td>\n",
       "      <td>0.916620</td>\n",
       "      <td>0.924718</td>\n",
       "      <td>0.895533</td>\n",
       "    </tr>\n",
       "    <tr>\n",
       "      <td>4</td>\n",
       "      <td>chr11</td>\n",
       "      <td>100582977</td>\n",
       "      <td>100583177</td>\n",
       "      <td>Merged-chr11-100583077-1</td>\n",
       "      <td>0.0</td>\n",
       "      <td>+</td>\n",
       "      <td>0.938389</td>\n",
       "      <td>0.930212</td>\n",
       "      <td>0.939787</td>\n",
       "      <td>0.963610</td>\n",
       "    </tr>\n",
       "    <tr>\n",
       "      <td>5</td>\n",
       "      <td>chr11</td>\n",
       "      <td>98782374</td>\n",
       "      <td>98782574</td>\n",
       "      <td>Merged-chr11-98782474-1</td>\n",
       "      <td>0.0</td>\n",
       "      <td>+</td>\n",
       "      <td>0.059996</td>\n",
       "      <td>0.648414</td>\n",
       "      <td>0.830570</td>\n",
       "      <td>0.707561</td>\n",
       "    </tr>\n",
       "  </tbody>\n",
       "</table>\n",
       "</div>"
      ],
      "text/plain": [
       "     Chr      Start        End                    Peakid  Stat Strand  \\\n",
       "0   chr5  147894094  147894294   Merged-chr5-147894194-1   0.0      +   \n",
       "1  chr15   53399224   53399424   Merged-chr15-53399324-1   0.0      +   \n",
       "3  chr12  111743421  111743621  Merged-chr12-111743521-1   0.0      +   \n",
       "4  chr11  100582977  100583177  Merged-chr11-100583077-1   0.0      +   \n",
       "5  chr11   98782374   98782574   Merged-chr11-98782474-1   0.0      +   \n",
       "\n",
       "   Poised Predictions  Poised Predictions RC  Active Predictions  \\\n",
       "0            0.850177               0.580634            0.930514   \n",
       "1            0.843508               0.767881            0.864703   \n",
       "3            0.922834               0.916620            0.924718   \n",
       "4            0.938389               0.930212            0.939787   \n",
       "5            0.059996               0.648414            0.830570   \n",
       "\n",
       "   Active Predictions RC  \n",
       "0               0.886086  \n",
       "1               0.922945  \n",
       "3               0.895533  \n",
       "4               0.963610  \n",
       "5               0.707561  "
      ]
     },
     "execution_count": 103,
     "metadata": {},
     "output_type": "execute_result"
    }
   ],
   "source": [
    "merged_bed_filter.head()"
   ]
  },
  {
   "cell_type": "code",
   "execution_count": 104,
   "metadata": {},
   "outputs": [
    {
     "data": {
      "text/html": [
       "<div>\n",
       "<style scoped>\n",
       "    .dataframe tbody tr th:only-of-type {\n",
       "        vertical-align: middle;\n",
       "    }\n",
       "\n",
       "    .dataframe tbody tr th {\n",
       "        vertical-align: top;\n",
       "    }\n",
       "\n",
       "    .dataframe thead th {\n",
       "        text-align: right;\n",
       "    }\n",
       "</style>\n",
       "<table border=\"1\" class=\"dataframe\">\n",
       "  <thead>\n",
       "    <tr style=\"text-align: right;\">\n",
       "      <th></th>\n",
       "      <th>Chr</th>\n",
       "      <th>Start</th>\n",
       "      <th>End</th>\n",
       "      <th>Peakid</th>\n",
       "      <th>Stat</th>\n",
       "      <th>Strand</th>\n",
       "      <th>Poised Predictions</th>\n",
       "      <th>Poised Predictions RC</th>\n",
       "      <th>Active Predictions</th>\n",
       "      <th>Active Predictions RC</th>\n",
       "    </tr>\n",
       "  </thead>\n",
       "  <tbody>\n",
       "    <tr>\n",
       "      <td>0</td>\n",
       "      <td>chr5</td>\n",
       "      <td>147894094</td>\n",
       "      <td>147894294</td>\n",
       "      <td>Merged-chr5-147894194-1</td>\n",
       "      <td>0.0</td>\n",
       "      <td>+</td>\n",
       "      <td>0.850177</td>\n",
       "      <td>0.580634</td>\n",
       "      <td>0.930514</td>\n",
       "      <td>0.886086</td>\n",
       "    </tr>\n",
       "    <tr>\n",
       "      <td>1</td>\n",
       "      <td>chr15</td>\n",
       "      <td>53399224</td>\n",
       "      <td>53399424</td>\n",
       "      <td>Merged-chr15-53399324-1</td>\n",
       "      <td>0.0</td>\n",
       "      <td>+</td>\n",
       "      <td>0.843508</td>\n",
       "      <td>0.767881</td>\n",
       "      <td>0.864703</td>\n",
       "      <td>0.922945</td>\n",
       "    </tr>\n",
       "    <tr>\n",
       "      <td>2</td>\n",
       "      <td>chr10</td>\n",
       "      <td>95323530</td>\n",
       "      <td>95323730</td>\n",
       "      <td>Merged-chr10-95323630-1</td>\n",
       "      <td>0.0</td>\n",
       "      <td>+</td>\n",
       "      <td>0.168567</td>\n",
       "      <td>0.238811</td>\n",
       "      <td>0.625731</td>\n",
       "      <td>0.631909</td>\n",
       "    </tr>\n",
       "    <tr>\n",
       "      <td>3</td>\n",
       "      <td>chr12</td>\n",
       "      <td>111743421</td>\n",
       "      <td>111743621</td>\n",
       "      <td>Merged-chr12-111743521-1</td>\n",
       "      <td>0.0</td>\n",
       "      <td>+</td>\n",
       "      <td>0.922834</td>\n",
       "      <td>0.916620</td>\n",
       "      <td>0.924718</td>\n",
       "      <td>0.895533</td>\n",
       "    </tr>\n",
       "    <tr>\n",
       "      <td>4</td>\n",
       "      <td>chr11</td>\n",
       "      <td>100582977</td>\n",
       "      <td>100583177</td>\n",
       "      <td>Merged-chr11-100583077-1</td>\n",
       "      <td>0.0</td>\n",
       "      <td>+</td>\n",
       "      <td>0.938389</td>\n",
       "      <td>0.930212</td>\n",
       "      <td>0.939787</td>\n",
       "      <td>0.963610</td>\n",
       "    </tr>\n",
       "  </tbody>\n",
       "</table>\n",
       "</div>"
      ],
      "text/plain": [
       "     Chr      Start        End                    Peakid  Stat Strand  \\\n",
       "0   chr5  147894094  147894294   Merged-chr5-147894194-1   0.0      +   \n",
       "1  chr15   53399224   53399424   Merged-chr15-53399324-1   0.0      +   \n",
       "2  chr10   95323530   95323730   Merged-chr10-95323630-1   0.0      +   \n",
       "3  chr12  111743421  111743621  Merged-chr12-111743521-1   0.0      +   \n",
       "4  chr11  100582977  100583177  Merged-chr11-100583077-1   0.0      +   \n",
       "\n",
       "   Poised Predictions  Poised Predictions RC  Active Predictions  \\\n",
       "0            0.850177               0.580634            0.930514   \n",
       "1            0.843508               0.767881            0.864703   \n",
       "2            0.168567               0.238811            0.625731   \n",
       "3            0.922834               0.916620            0.924718   \n",
       "4            0.938389               0.930212            0.939787   \n",
       "\n",
       "   Active Predictions RC  \n",
       "0               0.886086  \n",
       "1               0.922945  \n",
       "2               0.631909  \n",
       "3               0.895533  \n",
       "4               0.963610  "
      ]
     },
     "execution_count": 104,
     "metadata": {},
     "output_type": "execute_result"
    }
   ],
   "source": [
    "merged_bed_filter_active.head()"
   ]
  },
  {
   "cell_type": "code",
   "execution_count": 105,
   "metadata": {},
   "outputs": [
    {
     "data": {
      "text/html": [
       "<div>\n",
       "<style scoped>\n",
       "    .dataframe tbody tr th:only-of-type {\n",
       "        vertical-align: middle;\n",
       "    }\n",
       "\n",
       "    .dataframe tbody tr th {\n",
       "        vertical-align: top;\n",
       "    }\n",
       "\n",
       "    .dataframe thead th {\n",
       "        text-align: right;\n",
       "    }\n",
       "</style>\n",
       "<table border=\"1\" class=\"dataframe\">\n",
       "  <thead>\n",
       "    <tr style=\"text-align: right;\">\n",
       "      <th></th>\n",
       "      <th>Chr</th>\n",
       "      <th>Start</th>\n",
       "      <th>End</th>\n",
       "      <th>Peakid</th>\n",
       "      <th>Stat</th>\n",
       "      <th>Strand</th>\n",
       "      <th>Poised Predictions</th>\n",
       "      <th>Poised Predictions RC</th>\n",
       "      <th>Active Predictions</th>\n",
       "      <th>Active Predictions RC</th>\n",
       "    </tr>\n",
       "  </thead>\n",
       "  <tbody>\n",
       "    <tr>\n",
       "      <td>0</td>\n",
       "      <td>chr5</td>\n",
       "      <td>147894094</td>\n",
       "      <td>147894294</td>\n",
       "      <td>Merged-chr5-147894194-1</td>\n",
       "      <td>0.0</td>\n",
       "      <td>+</td>\n",
       "      <td>0.850177</td>\n",
       "      <td>0.580634</td>\n",
       "      <td>0.930514</td>\n",
       "      <td>0.886086</td>\n",
       "    </tr>\n",
       "    <tr>\n",
       "      <td>1</td>\n",
       "      <td>chr15</td>\n",
       "      <td>53399224</td>\n",
       "      <td>53399424</td>\n",
       "      <td>Merged-chr15-53399324-1</td>\n",
       "      <td>0.0</td>\n",
       "      <td>+</td>\n",
       "      <td>0.843508</td>\n",
       "      <td>0.767881</td>\n",
       "      <td>0.864703</td>\n",
       "      <td>0.922945</td>\n",
       "    </tr>\n",
       "    <tr>\n",
       "      <td>3</td>\n",
       "      <td>chr12</td>\n",
       "      <td>111743421</td>\n",
       "      <td>111743621</td>\n",
       "      <td>Merged-chr12-111743521-1</td>\n",
       "      <td>0.0</td>\n",
       "      <td>+</td>\n",
       "      <td>0.922834</td>\n",
       "      <td>0.916620</td>\n",
       "      <td>0.924718</td>\n",
       "      <td>0.895533</td>\n",
       "    </tr>\n",
       "    <tr>\n",
       "      <td>4</td>\n",
       "      <td>chr11</td>\n",
       "      <td>100582977</td>\n",
       "      <td>100583177</td>\n",
       "      <td>Merged-chr11-100583077-1</td>\n",
       "      <td>0.0</td>\n",
       "      <td>+</td>\n",
       "      <td>0.938389</td>\n",
       "      <td>0.930212</td>\n",
       "      <td>0.939787</td>\n",
       "      <td>0.963610</td>\n",
       "    </tr>\n",
       "    <tr>\n",
       "      <td>5</td>\n",
       "      <td>chr11</td>\n",
       "      <td>98782374</td>\n",
       "      <td>98782574</td>\n",
       "      <td>Merged-chr11-98782474-1</td>\n",
       "      <td>0.0</td>\n",
       "      <td>+</td>\n",
       "      <td>0.059996</td>\n",
       "      <td>0.648414</td>\n",
       "      <td>0.830570</td>\n",
       "      <td>0.707561</td>\n",
       "    </tr>\n",
       "  </tbody>\n",
       "</table>\n",
       "</div>"
      ],
      "text/plain": [
       "     Chr      Start        End                    Peakid  Stat Strand  \\\n",
       "0   chr5  147894094  147894294   Merged-chr5-147894194-1   0.0      +   \n",
       "1  chr15   53399224   53399424   Merged-chr15-53399324-1   0.0      +   \n",
       "3  chr12  111743421  111743621  Merged-chr12-111743521-1   0.0      +   \n",
       "4  chr11  100582977  100583177  Merged-chr11-100583077-1   0.0      +   \n",
       "5  chr11   98782374   98782574   Merged-chr11-98782474-1   0.0      +   \n",
       "\n",
       "   Poised Predictions  Poised Predictions RC  Active Predictions  \\\n",
       "0            0.850177               0.580634            0.930514   \n",
       "1            0.843508               0.767881            0.864703   \n",
       "3            0.922834               0.916620            0.924718   \n",
       "4            0.938389               0.930212            0.939787   \n",
       "5            0.059996               0.648414            0.830570   \n",
       "\n",
       "   Active Predictions RC  \n",
       "0               0.886086  \n",
       "1               0.922945  \n",
       "3               0.895533  \n",
       "4               0.963610  \n",
       "5               0.707561  "
      ]
     },
     "execution_count": 105,
     "metadata": {},
     "output_type": "execute_result"
    }
   ],
   "source": [
    "merged_bed_filter_both.head()"
   ]
  },
  {
   "cell_type": "code",
   "execution_count": 191,
   "metadata": {},
   "outputs": [],
   "source": [
    "#building an index for use in all, peak_ids (chr_start_end)\n",
    "#bed_df_both.head()\n",
    "\n",
    "peak_ids_poised = []\n",
    "merge_ids_poised = merged_bed_filter['Peakid'].tolist()\n",
    "for row in range(len(merged_bed_filter)):\n",
    "    peak = str(merged_bed_filter.iloc[row,0]) + \"_\" + str(merged_bed_filter.iloc[row,1]) + \"_\" + str(merged_bed_filter.iloc[row,2])\n",
    "    peak_ids_poised.append(peak)"
   ]
  },
  {
   "cell_type": "code",
   "execution_count": 106,
   "metadata": {},
   "outputs": [],
   "source": [
    "#building an index for use in all, peak_ids (chr_start_end)\n",
    "#bed_df_both.head()\n",
    "\n",
    "peak_ids_active = []\n",
    "merge_ids_active = merged_bed_filter_active['Peakid'].tolist()\n",
    "\n",
    "for row in range(len(merged_bed_filter_active)):\n",
    "    peak = str(merged_bed_filter_active.iloc[row,0]) + \"_\" + str(merged_bed_filter_active.iloc[row,1]) + \"_\" + str(merged_bed_filter_active.iloc[row,2])\n",
    "    peak_ids_active.append(peak)"
   ]
  },
  {
   "cell_type": "code",
   "execution_count": 107,
   "metadata": {},
   "outputs": [],
   "source": [
    "#building an index for use in all, peak_ids (chr_start_end)\n",
    "#merged_bed_filter_both.head()\n",
    "\n",
    "peak_ids_both = []\n",
    "merge_ids_both = merged_bed_filter_both['Peakid'].tolist()\n",
    "for row in range(len(merged_bed_filter_both)):\n",
    "    peak = str(merged_bed_filter_both.iloc[row,0]) + \"_\" + str(merged_bed_filter_both.iloc[row,1]) + \"_\" + str(merged_bed_filter_both.iloc[row,2])\n",
    "    peak_ids_both.append(peak)"
   ]
  },
  {
   "cell_type": "code",
   "execution_count": 110,
   "metadata": {},
   "outputs": [
    {
     "name": "stdout",
     "output_type": "stream",
     "text": [
      "43537\n",
      "['chr5_147894094_147894294', 'chr15_53399224_53399424', 'chr10_95323530_95323730', 'chr12_111743421_111743621', 'chr11_100582977_100583177']\n",
      "37452\n",
      "['chr5_147894094_147894294', 'chr15_53399224_53399424', 'chr12_111743421_111743621', 'chr11_100582977_100583177', 'chr11_98782374_98782574']\n"
     ]
    }
   ],
   "source": [
    "# print(len(peak_ids_poised))\n",
    "# print(peak_ids_poised[:5])\n",
    "# print(merge_ids_poised[:5])\n",
    "print(len(peak_ids_active))\n",
    "print(peak_ids_active[:5])\n",
    "print(len(peak_ids_both))\n",
    "print(peak_ids_both[:5])"
   ]
  },
  {
   "cell_type": "markdown",
   "metadata": {},
   "source": [
    "# Write out scores"
   ]
  },
  {
   "cell_type": "code",
   "execution_count": 111,
   "metadata": {},
   "outputs": [],
   "source": [
    "if not os.path.isdir('./region_scores/'):\n",
    "    os.mkdir('./region_scores/')"
   ]
  },
  {
   "cell_type": "markdown",
   "metadata": {},
   "source": [
    "##  Poised Model\n",
    "- Scores 1 = poised pos data\n",
    "- Scores 2 = active pos data"
   ]
  },
  {
   "cell_type": "markdown",
   "metadata": {},
   "source": [
    "### Poised model, poised data"
   ]
  },
  {
   "cell_type": "code",
   "execution_count": 138,
   "metadata": {},
   "outputs": [
    {
     "data": {
      "text/plain": [
       "(38482, 300)"
      ]
     },
     "execution_count": 138,
     "metadata": {},
     "output_type": "execute_result"
    }
   ],
   "source": [
    "weights1 = []\n",
    "for sample_index in range(len(scores1)//2):\n",
    "    sample_scores1 = np.array([scores1[sample_index*2], scores1[sample_index*2+1][::-1]])\n",
    "    sample_score1 = np.array([sample_scores1[j,i] for i,j in enumerate(np.argmax(np.absolute(sample_scores1), axis=0))])\n",
    "    weights1.append(sample_score1)\n",
    "weights1 = np.array(weights1)\n",
    "weights1.shape"
   ]
  },
  {
   "cell_type": "code",
   "execution_count": 197,
   "metadata": {},
   "outputs": [
    {
     "name": "stdout",
     "output_type": "stream",
     "text": [
      "(38482, 300)\n"
     ]
    }
   ],
   "source": [
    "#writing this to a file so can use in other notebooks\n",
    "#want to include some sort of index here too... maybe peak IDs?\n",
    "\n",
    "control_nt_weights1 = \"./region_scores/poised_model_poised_peak_weights.txt\"\n",
    "weights_df1 = pd.DataFrame(weights1)\n",
    "weights_df1.index = peak_ids_poised\n",
    "print(weights_df1.shape)\n",
    "#control_weights_df.head()\n",
    "weights_df1.to_csv(control_nt_weights1,index = True, sep='\\t')"
   ]
  },
  {
   "cell_type": "markdown",
   "metadata": {},
   "source": [
    "### Poised model, both data"
   ]
  },
  {
   "cell_type": "code",
   "execution_count": 112,
   "metadata": {},
   "outputs": [
    {
     "data": {
      "text/plain": [
       "(37452, 300)"
      ]
     },
     "execution_count": 112,
     "metadata": {},
     "output_type": "execute_result"
    }
   ],
   "source": [
    "weights2 = []\n",
    "for sample_index in range(len(scores2)//2):\n",
    "    sample_scores2 = np.array([scores2[sample_index*2], scores2[sample_index*2+1][::-1]])\n",
    "    sample_score2 = np.array([sample_scores2[j,i] for i,j in enumerate(np.argmax(np.absolute(sample_scores2), axis=0))])\n",
    "    weights2.append(sample_score2)\n",
    "weights2 = np.array(weights2)\n",
    "weights2.shape"
   ]
  },
  {
   "cell_type": "code",
   "execution_count": 114,
   "metadata": {},
   "outputs": [
    {
     "name": "stdout",
     "output_type": "stream",
     "text": [
      "(37452, 300)\n"
     ]
    }
   ],
   "source": [
    "#writing this to a file so can use in other notebooks\n",
    "#want to include some sort of index here too... maybe peak IDs?\n",
    "\n",
    "control_nt_weights2 = \"./region_scores/poised_model_poised_active_peak_weights.txt\"\n",
    "weights_df2 = pd.DataFrame(weights2)\n",
    "weights_df2.index = peak_ids_both\n",
    "print(weights_df2.shape)\n",
    "#control_weights_df.head()\n",
    "weights_df2.to_csv(control_nt_weights2,index = True, sep='\\t')"
   ]
  },
  {
   "cell_type": "markdown",
   "metadata": {},
   "source": [
    "## Active model\n",
    "- Scores 3 = Active pos data\n",
    "- Scores 4 = Active pos data"
   ]
  },
  {
   "cell_type": "markdown",
   "metadata": {},
   "source": [
    "### Active model, Active positional data"
   ]
  },
  {
   "cell_type": "code",
   "execution_count": 115,
   "metadata": {},
   "outputs": [
    {
     "data": {
      "text/plain": [
       "(43537, 300)"
      ]
     },
     "execution_count": 115,
     "metadata": {},
     "output_type": "execute_result"
    }
   ],
   "source": [
    "weights3 = []\n",
    "for sample_index in range(len(scores3)//2):\n",
    "    sample_scores3 = np.array([scores3[sample_index*2], scores3[sample_index*2+1][::-1]])\n",
    "    sample_score3 = np.array([sample_scores3[j,i] for i,j in enumerate(np.argmax(np.absolute(sample_scores3), axis=0))])\n",
    "    weights3.append(sample_score3)\n",
    "weights3 = np.array(weights3)\n",
    "weights3.shape"
   ]
  },
  {
   "cell_type": "code",
   "execution_count": 116,
   "metadata": {},
   "outputs": [
    {
     "name": "stdout",
     "output_type": "stream",
     "text": [
      "(43537, 300)\n"
     ]
    }
   ],
   "source": [
    "#writing this to a file so can use in other notebooks\n",
    "#want to include some sort of index here too... maybe peak IDs?\n",
    "\n",
    "diff_nt_weights3 = \"./region_scores/active_model_active_peak_weights.txt\"\n",
    "weights_df3 = pd.DataFrame(weights3)\n",
    "weights_df3.index = peak_ids_active\n",
    "print(weights_df3.shape)\n",
    "#control_weights_df.head()\n",
    "weights_df3.to_csv(diff_nt_weights3,index = True, sep='\\t')"
   ]
  },
  {
   "cell_type": "markdown",
   "metadata": {},
   "source": [
    "### Active model, active + poised positional data"
   ]
  },
  {
   "cell_type": "code",
   "execution_count": 118,
   "metadata": {},
   "outputs": [
    {
     "data": {
      "text/plain": [
       "(37452, 300)"
      ]
     },
     "execution_count": 118,
     "metadata": {},
     "output_type": "execute_result"
    }
   ],
   "source": [
    "weights4 = []\n",
    "for sample_index in range(len(scores4)//2):\n",
    "    sample_scores4 = np.array([scores4[sample_index*2], scores4[sample_index*2+1][::-1]])\n",
    "    sample_score4 = np.array([sample_scores4[j,i] for i,j in enumerate(np.argmax(np.absolute(sample_scores4), axis=0))])\n",
    "    weights4.append(sample_score4)\n",
    "weights4 = np.array(weights4)\n",
    "weights4.shape"
   ]
  },
  {
   "cell_type": "code",
   "execution_count": 120,
   "metadata": {},
   "outputs": [
    {
     "name": "stdout",
     "output_type": "stream",
     "text": [
      "(37452, 300)\n"
     ]
    }
   ],
   "source": [
    "#writing this to a file so can use in other notebooks\n",
    "#want to include some sort of index here too... maybe peak IDs?\n",
    "\n",
    "diff_nt_weights4 = \"./region_scores/active_model_active_poised_peak_weights.txt\"\n",
    "weights_df4 = pd.DataFrame(weights4)\n",
    "weights_df4.index = peak_ids_both\n",
    "print(weights_df4.shape)\n",
    "# control_weights_df.head()\n",
    "weights_df4.to_csv(diff_nt_weights4,index = True, sep='\\t')"
   ]
  },
  {
   "cell_type": "markdown",
   "metadata": {},
   "source": [
    "### Smooth Weights"
   ]
  },
  {
   "cell_type": "code",
   "execution_count": 198,
   "metadata": {},
   "outputs": [
    {
     "name": "stdout",
     "output_type": "stream",
     "text": [
      "(38482, 300)\n"
     ]
    }
   ],
   "source": [
    "proc_range = 1\n",
    "smooth_weights1 = np.array([[np.mean(np.abs(w[max(0, i-proc_range):min(len(w), i+proc_range+1)]))\n",
    "                         for i in range(len(w))] for w in weights1])\n",
    "print(smooth_weights1.shape)"
   ]
  },
  {
   "cell_type": "code",
   "execution_count": 121,
   "metadata": {},
   "outputs": [
    {
     "name": "stdout",
     "output_type": "stream",
     "text": [
      "(37452, 300)\n"
     ]
    }
   ],
   "source": [
    "proc_range = 1\n",
    "smooth_weights2 = np.array([[np.mean(np.abs(w[max(0, i-proc_range):min(len(w), i+proc_range+1)]))\n",
    "                         for i in range(len(w))] for w in weights2])\n",
    "print(smooth_weights2.shape)"
   ]
  },
  {
   "cell_type": "code",
   "execution_count": 122,
   "metadata": {},
   "outputs": [
    {
     "name": "stdout",
     "output_type": "stream",
     "text": [
      "(43537, 300)\n"
     ]
    }
   ],
   "source": [
    "proc_range = 1\n",
    "smooth_weights3 = np.array([[np.mean(np.abs(w[max(0, i-proc_range):min(len(w), i+proc_range+1)]))\n",
    "                         for i in range(len(w))] for w in weights3])\n",
    "print(smooth_weights3.shape)"
   ]
  },
  {
   "cell_type": "code",
   "execution_count": 123,
   "metadata": {},
   "outputs": [
    {
     "name": "stdout",
     "output_type": "stream",
     "text": [
      "(37452, 300)\n"
     ]
    }
   ],
   "source": [
    "proc_range = 1\n",
    "smooth_weights4 = np.array([[np.mean(np.abs(w[max(0, i-proc_range):min(len(w), i+proc_range+1)]))\n",
    "                         for i in range(len(w))] for w in weights4])\n",
    "print(smooth_weights4.shape)"
   ]
  },
  {
   "cell_type": "markdown",
   "metadata": {},
   "source": [
    "# Visualize importance scores for individual site\n",
    "\n",
    "For now we will just use score1 and score3 since they are the ones that were properly trained."
   ]
  },
  {
   "cell_type": "code",
   "execution_count": 200,
   "metadata": {},
   "outputs": [],
   "source": [
    "# active_pos_data[0]"
   ]
  },
  {
   "cell_type": "code",
   "execution_count": 182,
   "metadata": {
    "scrolled": true
   },
   "outputs": [],
   "source": [
    "# both_pos_data[0]"
   ]
  },
  {
   "cell_type": "code",
   "execution_count": 212,
   "metadata": {
    "scrolled": false
   },
   "outputs": [
    {
     "ename": "IndexError",
     "evalue": "index 0 is out of bounds for axis 0 with size 0",
     "output_type": "error",
     "traceback": [
      "\u001b[0;31m---------------------------------------------------------------------------\u001b[0m",
      "\u001b[0;31mIndexError\u001b[0m                                Traceback (most recent call last)",
      "\u001b[0;32m<ipython-input-212-5d65b197461c>\u001b[0m in \u001b[0;36m<module>\u001b[0;34m\u001b[0m\n\u001b[1;32m      4\u001b[0m \u001b[0msns\u001b[0m\u001b[0;34m.\u001b[0m\u001b[0mset\u001b[0m\u001b[0;34m(\u001b[0m\u001b[0mstyle\u001b[0m\u001b[0;34m=\u001b[0m\u001b[0;34m'white'\u001b[0m\u001b[0;34m,\u001b[0m \u001b[0mfont_scale\u001b[0m\u001b[0;34m=\u001b[0m\u001b[0;36m1.5\u001b[0m\u001b[0;34m)\u001b[0m\u001b[0;34m\u001b[0m\u001b[0;34m\u001b[0m\u001b[0m\n\u001b[1;32m      5\u001b[0m \u001b[0mplt\u001b[0m\u001b[0;34m.\u001b[0m\u001b[0mfigure\u001b[0m\u001b[0;34m(\u001b[0m\u001b[0mfigsize\u001b[0m\u001b[0;34m=\u001b[0m\u001b[0;34m(\u001b[0m\u001b[0;36m17\u001b[0m\u001b[0;34m,\u001b[0m\u001b[0;36m3.2\u001b[0m\u001b[0;34m)\u001b[0m\u001b[0;34m)\u001b[0m\u001b[0;34m\u001b[0m\u001b[0;34m\u001b[0m\u001b[0m\n\u001b[0;32m----> 6\u001b[0;31m \u001b[0mw\u001b[0m \u001b[0;34m=\u001b[0m \u001b[0mnp\u001b[0m\u001b[0;34m.\u001b[0m\u001b[0mabs\u001b[0m\u001b[0;34m(\u001b[0m\u001b[0msmooth_weights1\u001b[0m\u001b[0;34m[\u001b[0m\u001b[0mnp\u001b[0m\u001b[0;34m.\u001b[0m\u001b[0marray\u001b[0m\u001b[0;34m(\u001b[0m\u001b[0mpoised_pos_data\u001b[0m\u001b[0;34m)\u001b[0m\u001b[0;34m[\u001b[0m\u001b[0;34m:\u001b[0m\u001b[0;34m,\u001b[0m\u001b[0;34m-\u001b[0m\u001b[0;36m1\u001b[0m\u001b[0;34m]\u001b[0m \u001b[0;34m==\u001b[0m \u001b[0ms2\u001b[0m\u001b[0;34m]\u001b[0m\u001b[0;34m[\u001b[0m\u001b[0;36m0\u001b[0m\u001b[0;34m]\u001b[0m\u001b[0;34m)\u001b[0m\u001b[0;34m\u001b[0m\u001b[0;34m\u001b[0m\u001b[0m\n\u001b[0m\u001b[1;32m      7\u001b[0m \u001b[0mplt\u001b[0m\u001b[0;34m.\u001b[0m\u001b[0mscatter\u001b[0m\u001b[0;34m(\u001b[0m\u001b[0mnp\u001b[0m\u001b[0;34m.\u001b[0m\u001b[0marange\u001b[0m\u001b[0;34m(\u001b[0m\u001b[0mlen\u001b[0m\u001b[0;34m(\u001b[0m\u001b[0mw\u001b[0m\u001b[0;34m)\u001b[0m\u001b[0;34m)\u001b[0m\u001b[0;34m,\u001b[0m \u001b[0mw\u001b[0m\u001b[0;34m,\u001b[0m \u001b[0ms\u001b[0m\u001b[0;34m=\u001b[0m\u001b[0;36m10\u001b[0m\u001b[0;34m,\u001b[0m \u001b[0mc\u001b[0m\u001b[0;34m=\u001b[0m\u001b[0;34m'#3A90E3'\u001b[0m\u001b[0;34m,\u001b[0m\u001b[0mzorder\u001b[0m\u001b[0;34m=\u001b[0m\u001b[0;36m10\u001b[0m\u001b[0;34m)\u001b[0m\u001b[0;34m\u001b[0m\u001b[0;34m\u001b[0m\u001b[0m\n\u001b[1;32m      8\u001b[0m \u001b[0mplt\u001b[0m\u001b[0;34m.\u001b[0m\u001b[0maxhline\u001b[0m\u001b[0;34m(\u001b[0m\u001b[0mnp\u001b[0m\u001b[0;34m.\u001b[0m\u001b[0msort\u001b[0m\u001b[0;34m(\u001b[0m\u001b[0mw\u001b[0m\u001b[0;34m)\u001b[0m\u001b[0;34m[\u001b[0m\u001b[0;36m240\u001b[0m\u001b[0;34m]\u001b[0m\u001b[0;34m,\u001b[0m \u001b[0mc\u001b[0m\u001b[0;34m=\u001b[0m\u001b[0;34m'orangered'\u001b[0m\u001b[0;34m,\u001b[0m \u001b[0mlinestyle\u001b[0m\u001b[0;34m=\u001b[0m\u001b[0;34m'--'\u001b[0m\u001b[0;34m,\u001b[0m \u001b[0mlinewidth\u001b[0m\u001b[0;34m=\u001b[0m\u001b[0;36m3\u001b[0m\u001b[0;34m)\u001b[0m\u001b[0;34m\u001b[0m\u001b[0;34m\u001b[0m\u001b[0m\n",
      "\u001b[0;31mIndexError\u001b[0m: index 0 is out of bounds for axis 0 with size 0"
     ]
    },
    {
     "data": {
      "text/plain": [
       "<Figure size 1224x230.4 with 0 Axes>"
      ]
     },
     "metadata": {},
     "output_type": "display_data"
    }
   ],
   "source": [
    "s = 'chr5_147894044_147894344_C57'\n",
    "s2 = 'chr19_17276031_17276331_C57'\n",
    "\n",
    "sns.set(style='white', font_scale=1.5)\n",
    "plt.figure(figsize=(17,3.2))\n",
    "w = np.abs(smooth_weights1[np.array(poised_pos_data)[:,-1] == s2][0])\n",
    "plt.scatter(np.arange(len(w)), w, s=10, c='#3A90E3',zorder=10)\n",
    "plt.axhline(np.sort(w)[240], c='orangered', linestyle='--', linewidth=3)\n",
    "plt.xlim(0,300)\n",
    "plt.xlabel('position')\n",
    "plt.ylabel('abs. DeepLIFT score')\n",
    "sns.despine(top=True, bottom=True)\n",
    "plt.tight_layout()"
   ]
  },
  {
   "cell_type": "code",
   "execution_count": 213,
   "metadata": {
    "scrolled": false
   },
   "outputs": [],
   "source": [
    "# s = 'chr5_147894044_147894344_C57'\n",
    "\n",
    "# sns.set(style='white', font_scale=1.5)\n",
    "# plt.figure(figsize=(17,3.2))\n",
    "# w = np.abs(smooth_weights3[np.array(active_pos_data)[:,-1] == s][0])\n",
    "# plt.scatter(np.arange(len(w)), w, s=10, c='#3A90E3',zorder=10)\n",
    "# plt.axhline(np.sort(w)[240], c='orangered', linestyle='--', linewidth=3)\n",
    "# plt.xlim(0,300)\n",
    "# plt.xlabel('position')\n",
    "# plt.ylabel('abs. DeepLIFT score')\n",
    "# sns.despine(top=True, bottom=True)\n",
    "# plt.tight_layout()"
   ]
  },
  {
   "cell_type": "code",
   "execution_count": null,
   "metadata": {},
   "outputs": [],
   "source": []
  },
  {
   "cell_type": "code",
   "execution_count": null,
   "metadata": {},
   "outputs": [],
   "source": []
  },
  {
   "cell_type": "code",
   "execution_count": null,
   "metadata": {},
   "outputs": [],
   "source": []
  },
  {
   "cell_type": "code",
   "execution_count": null,
   "metadata": {},
   "outputs": [],
   "source": []
  }
 ],
 "metadata": {
  "kernelspec": {
   "display_name": "zs-deeplift",
   "language": "python",
   "name": "zs-deeplift"
  },
  "language_info": {
   "codemirror_mode": {
    "name": "ipython",
    "version": 3
   },
   "file_extension": ".py",
   "mimetype": "text/x-python",
   "name": "python",
   "nbconvert_exporter": "python",
   "pygments_lexer": "ipython3",
   "version": "3.7.4"
  }
 },
 "nbformat": 4,
 "nbformat_minor": 2
}
