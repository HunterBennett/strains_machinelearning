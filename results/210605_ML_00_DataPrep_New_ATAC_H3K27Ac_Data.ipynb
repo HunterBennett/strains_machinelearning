{
 "cells": [
  {
   "cell_type": "markdown",
   "metadata": {},
   "source": [
    "#### Summary:\n",
    "This notebook will be used to process the raw ATAC data and call peaks (first unfiltered with Homer, then reproducible with IDR). I'll then use the H3K27ac data to call positive and negative peaks from both control and NASH treated data. Compared to previous iterations, I'll be raising our H3K27Ac threshold here to 32 (rather than 16).\n",
    "\n",
    "Output files:\n",
    "- strain_treat_annot.txt: original peak annotation file \n",
    "- strain_treat_filt_annot.txt: filtered peaks with H3K27ac > 16 and \"intron\" or \"Intergenic\"\n",
    "- strain_treat_filt_annot_cut.bed: bed file of ^ with chrY and chrUn peaks removed"
   ]
  },
  {
   "cell_type": "code",
   "execution_count": 1,
   "metadata": {},
   "outputs": [],
   "source": [
    "import pandas as pd\n",
    "import numpy as np\n",
    "import matplotlib.pyplot as plt\n",
    "import seaborn as sns\n",
    "%matplotlib inline\n",
    "import csv\n",
    "import os\n",
    "from scipy.stats.stats import pearsonr,spearmanr\n",
    "from os import listdir\n",
    "import fnmatch"
   ]
  },
  {
   "cell_type": "markdown",
   "metadata": {},
   "source": [
    "# Import poised and active enhancers from prior analysis"
   ]
  },
  {
   "cell_type": "code",
   "execution_count": 2,
   "metadata": {},
   "outputs": [],
   "source": [
    "dataDirectory = '/home/h1bennet/strains/data/ATAC/control_cohort2/'\n",
    "workingDirectory = '/home/h1bennet/strains_machinelearning/results/00_New_ATAC_H3K27Ac_Model/'\n",
    "if not os.path.isdir(workingDirectory):\n",
    "    os.mkdir(workingDirectory)\n",
    "os.chdir(workingDirectory)\n"
   ]
  },
  {
   "cell_type": "code",
   "execution_count": 3,
   "metadata": {},
   "outputs": [],
   "source": [
    "poised_enhancers = pd.read_csv(\n",
    "    '/home/h1bennet/strains/results/06_Strains_Control_Cohort2_ATAC/poised_enhancers/C57Bl6J_poised_enhancer_peaks.txt',\n",
    "    sep='\\t')\n",
    "\n",
    "active_enhancers = pd.read_csv(\n",
    "    '/home/h1bennet/strains/results/06b_Strains_Control_Combined_H3K27Ac/active_enhancers/C57Bl6J_active_enhancer_peaks.txt',\n",
    "    sep='\\t')"
   ]
  },
  {
   "cell_type": "markdown",
   "metadata": {},
   "source": [
    "# Convert peak file to BED"
   ]
  },
  {
   "cell_type": "markdown",
   "metadata": {},
   "source": [
    "Bed file format requires:\n",
    "- chrom - name of the chromosome or scaffold. Any valid seq_region_name can be used, and chromosome names can be given with or without the 'chr' prefix.\n",
    "- chromStart - Start position of the feature in standard chromosomal coordinates (i.e. first base is 0).\n",
    "- chromEnd - End position of the feature in standard chromosomal coordinates\n",
    "\n",
    "Optional columns: name, score, strand, thickStart, thickEnd, itemRgb, blockCount, blockSizes, blockStarts\n",
    "\n",
    "from: https://m.ensembl.org/info/website/upload/bed.html"
   ]
  },
  {
   "cell_type": "code",
   "execution_count": 51,
   "metadata": {},
   "outputs": [],
   "source": [
    "if not os.path.isdir('./bed_files/'):\n",
    "    os.mkdir('./bed_files/')\n",
    "    \n",
    "if not os.path.isdir('./bg_files/'):\n",
    "    os.mkdir('./bg_files/')"
   ]
  },
  {
   "cell_type": "markdown",
   "metadata": {},
   "source": [
    "### Control"
   ]
  },
  {
   "cell_type": "code",
   "execution_count": 52,
   "metadata": {},
   "outputs": [
    {
     "name": "stdout",
     "output_type": "stream",
     "text": [
      "37146 poised enhancers\n",
      "37141 filtered poised enhancers\n"
     ]
    }
   ],
   "source": [
    "s\n",
    "\n",
    "# remove chrY and chrUn\n",
    "print(poised_enhancers.shape[0], 'poised enhancers')\n",
    "chr_bool_filter = ~poised_bed.Chr.str.contains('Y|M|random|Un')\n",
    "poised_bed = poised_bed.reindex(poised_bed.index[chr_bool_filter])\n",
    "print(poised_bed.shape[0], 'filtered poised enhancers')\n",
    "\n",
    "# write out\n",
    "poised_bed.to_csv('./bed_files/poised_enhancers.bed',\n",
    "                  sep='\\t',\n",
    "                  index=False,\n",
    "                  header=False)"
   ]
  },
  {
   "cell_type": "code",
   "execution_count": 53,
   "metadata": {},
   "outputs": [
    {
     "name": "stdout",
     "output_type": "stream",
     "text": [
      "36151 active enhancers\n",
      "36151 filtered active enhancers\n"
     ]
    }
   ],
   "source": [
    "#just going to use the required cols (and maybe strand and score? why not, I guess)\n",
    "save_cols = ['chr', 'start', 'end', 'PeakID', 'strand']\n",
    "active_bed = active_enhancers.loc[:,save_cols]\n",
    "active_bed.columns = active_bed.columns.str.capitalize()\n",
    "\n",
    "# remove chrY and chrUn\n",
    "print(active_enhancers.shape[0], 'active enhancers')\n",
    "chr_bool_filter = ~active_bed.Chr.str.contains('Y|M|random|Un')\n",
    "active_bed = active_bed.reindex(active_bed.index[chr_bool_filter])\n",
    "print(active_bed.shape[0], 'filtered active enhancers')\n",
    "\n",
    "# write out\n",
    "active_bed.to_csv('./bed_files/active_enhancers.bed',\n",
    "                  sep='\\t',\n",
    "                  index=False,\n",
    "                  header=False)"
   ]
  },
  {
   "cell_type": "markdown",
   "metadata": {},
   "source": [
    "# Generate backgrounds sets"
   ]
  },
  {
   "cell_type": "markdown",
   "metadata": {},
   "source": [
    "## Random matched-GC content sets"
   ]
  },
  {
   "cell_type": "markdown",
   "metadata": {},
   "source": [
    "Bed file is the positives we've just chosen (only matching GC content). Make sure to remove the top row (col names) in terminal with sed '1d' before running the script! Col names are the same for all the C57 output files so not a huge loss to just delete them and then overwrite the file."
   ]
  },
  {
   "cell_type": "markdown",
   "metadata": {},
   "source": [
    "### Poised"
   ]
  },
  {
   "cell_type": "code",
   "execution_count": 54,
   "metadata": {
    "scrolled": true
   },
   "outputs": [
    {
     "name": "stdout",
     "output_type": "stream",
     "text": [
      "/home/h1bennet/strains_machinelearning/results/00_New_ATAC_H3K27Ac_Model/bg_files/poised_enhancersbg\n",
      "reading genome mm10\n",
      "fasta file does not exist: chr20\n",
      "fasta file does not exist: chr21\n",
      "fasta file does not exist: chr22\n",
      "done reading genome\n",
      "0 0\n",
      "target GC: 0.3869313593539183 background GC: 0.3857134248005751 target length: 200 numTargetPositions 3715 backgroundPositions 3715\n",
      "0 0\n",
      "target GC: 0.43455035002686665 background GC: 0.43279295498806014 target length: 200 numTargetPositions 3714 backgroundPositions 3714\n",
      "0 0\n",
      "target GC: 0.46161954765744995 background GC: 0.45883801241497696 target length: 200 numTargetPositions 3714 backgroundPositions 3714\n",
      "0 0\n",
      "target GC: 0.48474690360790457 background GC: 0.48054423627681725 target length: 200 numTargetPositions 3714 backgroundPositions 3714\n",
      "0 0\n",
      "target GC: 0.5067366720516281 background GC: 0.5006028018228057 target length: 200 numTargetPositions 3714 backgroundPositions 3714\n",
      "0 0\n",
      "target GC: 0.531763597199713 background GC: 0.5236472457314232 target length: 200 numTargetPositions 3714 backgroundPositions 3714\n",
      "0 0\n",
      "target GC: 0.5642514808830689 background GC: 0.5519708940487985 target length: 200 numTargetPositions 3714 backgroundPositions 3714\n",
      "0 0\n",
      "target GC: 0.6131583198706767 background GC: 0.6019043179363546 target length: 200 numTargetPositions 3714 backgroundPositions 3714\n",
      "0 0\n",
      "target GC: 0.6730061927839697 background GC: 0.6613914809366387 target length: 200 numTargetPositions 3714 backgroundPositions 3714\n",
      "0 0\n",
      "target GC: 0.7499959612276857 background GC: 0.7427188237594013 target length: 200 numTargetPositions 3714 backgroundPositions 3714\n"
     ]
    }
   ],
   "source": [
    "%%bash\n",
    "bed_file=\"/home/h1bennet/strains_machinelearning/results/00_New_ATAC_H3K27Ac_Model/bed_files/poised_enhancers.bed\" #+ peaks, no chrY, no chrUn\n",
    "output=${bed_file/.bed/bg}\n",
    "output=${output/bed_files/bg_files}\n",
    "echo $output\n",
    "python /home/zes017/Spacing/Codes/generate_background_coordinates.py $bed_file $output"
   ]
  },
  {
   "cell_type": "markdown",
   "metadata": {},
   "source": [
    "### Active"
   ]
  },
  {
   "cell_type": "code",
   "execution_count": 55,
   "metadata": {},
   "outputs": [
    {
     "name": "stdout",
     "output_type": "stream",
     "text": [
      "/home/h1bennet/strains_machinelearning/results/00_New_ATAC_H3K27Ac_Model/bg_files/active_enhancersbg\n",
      "reading genome mm10\n",
      "fasta file does not exist: chr20\n",
      "fasta file does not exist: chr21\n",
      "fasta file does not exist: chr22\n",
      "done reading genome\n",
      "0 0\n",
      "target GC: 0.38043694690260227 background GC: 0.37887030555183443 target length: 200 numTargetPositions 3616 backgroundPositions 3616\n",
      "0 0\n",
      "target GC: 0.4299349930843112 background GC: 0.4270487121790182 target length: 200 numTargetPositions 3615 backgroundPositions 3615\n",
      "0 0\n",
      "target GC: 0.4580912863069906 background GC: 0.45702469671002427 target length: 200 numTargetPositions 3615 backgroundPositions 3615\n",
      "0 0\n",
      "target GC: 0.48124343015207727 background GC: 0.47530122554578763 target length: 200 numTargetPositions 3615 backgroundPositions 3615\n",
      "0 0\n",
      "target GC: 0.5039100968187408 background GC: 0.49764180480715403 target length: 200 numTargetPositions 3615 backgroundPositions 3615\n",
      "0 0\n",
      "target GC: 0.5289474412170776 background GC: 0.5208329032568113 target length: 200 numTargetPositions 3615 backgroundPositions 3615\n",
      "0 0\n",
      "target GC: 0.5606307053941133 background GC: 0.5483674297942448 target length: 200 numTargetPositions 3615 backgroundPositions 3615\n",
      "0 0\n",
      "target GC: 0.6078893499307596 background GC: 0.597437432477915 target length: 200 numTargetPositions 3615 backgroundPositions 3615\n",
      "0 0\n",
      "target GC: 0.669309820193545 background GC: 0.6576316205967868 target length: 200 numTargetPositions 3615 backgroundPositions 3615\n",
      "0 0\n",
      "target GC: 0.7486307053940873 background GC: 0.7415096027468823 target length: 200 numTargetPositions 3615 backgroundPositions 3615\n"
     ]
    }
   ],
   "source": [
    "%%bash\n",
    "bed_file=\"/home/h1bennet/strains_machinelearning/results/00_New_ATAC_H3K27Ac_Model/bed_files/active_enhancers.bed\" #+ peaks, no chrY, no chrUn\n",
    "output=${bed_file/.bed/bg}\n",
    "output=${output/bed_files/bg_files}\n",
    "echo $output\n",
    "python /home/zes017/Spacing/Codes/generate_background_coordinates.py $bed_file $output"
   ]
  },
  {
   "cell_type": "code",
   "execution_count": null,
   "metadata": {},
   "outputs": [],
   "source": []
  }
 ],
 "metadata": {
  "kernelspec": {
   "display_name": "dataviz",
   "language": "python",
   "name": "dataviz"
  },
  "language_info": {
   "codemirror_mode": {
    "name": "ipython",
    "version": 3
   },
   "file_extension": ".py",
   "mimetype": "text/x-python",
   "name": "python",
   "nbconvert_exporter": "python",
   "pygments_lexer": "ipython3",
   "version": "3.7.5"
  }
 },
 "nbformat": 4,
 "nbformat_minor": 1
}
