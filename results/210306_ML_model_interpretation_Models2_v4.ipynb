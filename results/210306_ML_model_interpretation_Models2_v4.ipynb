{
 "cells": [
  {
   "cell_type": "markdown",
   "metadata": {},
   "source": [
    "#### Summary:\n",
    "This is based on my second version model interpretation notebook, modified from one Zeyang shared. It reads in the positive peak sequences (based on methods from the previous notebook) and then uses DeepLift to calculate nt importance scores for all of them. Then it has some preliminary visualization techniques. Here we are using it to repeat previous interpretation methods on my new set of models.\n",
    "\n",
    "#### Changes from the original version:\n",
    "- Combining peaks from control and AMLN sets into one peak set... use mergePeaks and then take the union; if they overlap, take the 300bp center\n",
    "- Remove peaks not predicted to be positive (based on model.predict and a 0.05 threshold) --> consider if we want to standardize these by the 2 model's predictions???\n",
    "- Going to considering predictions from Zeyang's IL4 model so generating importance scores from this (BUT NOT cutting down peaks based on them)\n",
    "\n",
    "#### New Considerations - CHANGES FROM PREV V3 NOTEBOOK:\n",
    "- Which peaks sets to generate importance scores from??? --> start with the same one as used previously in v2(all peaks found in BOTH datasets, then narrow down based on if the models predict them + or not)"
   ]
  },
  {
   "cell_type": "code",
   "execution_count": 1,
   "metadata": {},
   "outputs": [],
   "source": [
    "import pandas as pd\n",
    "import numpy as np"
   ]
  },
  {
   "cell_type": "code",
   "execution_count": 2,
   "metadata": {},
   "outputs": [],
   "source": [
    "import seaborn as sns\n",
    "import matplotlib.pyplot as plt"
   ]
  },
  {
   "cell_type": "code",
   "execution_count": 3,
   "metadata": {},
   "outputs": [],
   "source": [
    "from itertools import compress"
   ]
  },
  {
   "cell_type": "markdown",
   "metadata": {},
   "source": [
    "# Read in the combined peak file"
   ]
  },
  {
   "cell_type": "code",
   "execution_count": 4,
   "metadata": {},
   "outputs": [
    {
     "name": "stdout",
     "output_type": "stream",
     "text": [
      "23391\n"
     ]
    },
    {
     "data": {
      "text/html": [
       "<div>\n",
       "<style scoped>\n",
       "    .dataframe tbody tr th:only-of-type {\n",
       "        vertical-align: middle;\n",
       "    }\n",
       "\n",
       "    .dataframe tbody tr th {\n",
       "        vertical-align: top;\n",
       "    }\n",
       "\n",
       "    .dataframe thead th {\n",
       "        text-align: right;\n",
       "    }\n",
       "</style>\n",
       "<table border=\"1\" class=\"dataframe\">\n",
       "  <thead>\n",
       "    <tr style=\"text-align: right;\">\n",
       "      <th></th>\n",
       "      <th>#name (cmd = mergePeaks -d given ./C57_control_filt_annot_cut.bed ./C57_AMLNDiet_filt_annot_cut.bed)</th>\n",
       "      <th>chr</th>\n",
       "      <th>start</th>\n",
       "      <th>end</th>\n",
       "      <th>strand</th>\n",
       "      <th>Stat</th>\n",
       "      <th>Parent files</th>\n",
       "      <th>Total subpeaks</th>\n",
       "      <th>./C57_control_filt_annot_cut.bed</th>\n",
       "      <th>./C57_AMLNDiet_filt_annot_cut.bed</th>\n",
       "    </tr>\n",
       "  </thead>\n",
       "  <tbody>\n",
       "    <tr>\n",
       "      <td>0</td>\n",
       "      <td>Merged-chr8-40595479-1</td>\n",
       "      <td>chr8</td>\n",
       "      <td>40594980</td>\n",
       "      <td>40595979</td>\n",
       "      <td>+</td>\n",
       "      <td>0.0</td>\n",
       "      <td>./C57_AMLNDiet_filt_annot_cut.bed</td>\n",
       "      <td>1</td>\n",
       "      <td>NaN</td>\n",
       "      <td>default-4066</td>\n",
       "    </tr>\n",
       "    <tr>\n",
       "      <td>1</td>\n",
       "      <td>Merged-chr17-47395761-1</td>\n",
       "      <td>chr17</td>\n",
       "      <td>47395262</td>\n",
       "      <td>47396261</td>\n",
       "      <td>+</td>\n",
       "      <td>0.0</td>\n",
       "      <td>./C57_AMLNDiet_filt_annot_cut.bed</td>\n",
       "      <td>1</td>\n",
       "      <td>NaN</td>\n",
       "      <td>default-4069</td>\n",
       "    </tr>\n",
       "    <tr>\n",
       "      <td>2</td>\n",
       "      <td>Merged-chr6-127351804-1</td>\n",
       "      <td>chr6</td>\n",
       "      <td>127351305</td>\n",
       "      <td>127352304</td>\n",
       "      <td>+</td>\n",
       "      <td>0.0</td>\n",
       "      <td>./C57_AMLNDiet_filt_annot_cut.bed</td>\n",
       "      <td>1</td>\n",
       "      <td>NaN</td>\n",
       "      <td>default-5677</td>\n",
       "    </tr>\n",
       "    <tr>\n",
       "      <td>3</td>\n",
       "      <td>Merged-chr18-36727834-1</td>\n",
       "      <td>chr18</td>\n",
       "      <td>36727335</td>\n",
       "      <td>36728334</td>\n",
       "      <td>+</td>\n",
       "      <td>0.0</td>\n",
       "      <td>./C57_AMLNDiet_filt_annot_cut.bed</td>\n",
       "      <td>1</td>\n",
       "      <td>NaN</td>\n",
       "      <td>default-5679</td>\n",
       "    </tr>\n",
       "    <tr>\n",
       "      <td>4</td>\n",
       "      <td>Merged-chr12-3854603-1</td>\n",
       "      <td>chr12</td>\n",
       "      <td>3854104</td>\n",
       "      <td>3855103</td>\n",
       "      <td>+</td>\n",
       "      <td>0.0</td>\n",
       "      <td>./C57_AMLNDiet_filt_annot_cut.bed</td>\n",
       "      <td>1</td>\n",
       "      <td>NaN</td>\n",
       "      <td>default-4076</td>\n",
       "    </tr>\n",
       "  </tbody>\n",
       "</table>\n",
       "</div>"
      ],
      "text/plain": [
       "  #name (cmd = mergePeaks -d given ./C57_control_filt_annot_cut.bed ./C57_AMLNDiet_filt_annot_cut.bed)  \\\n",
       "0                             Merged-chr8-40595479-1                                                     \n",
       "1                            Merged-chr17-47395761-1                                                     \n",
       "2                            Merged-chr6-127351804-1                                                     \n",
       "3                            Merged-chr18-36727834-1                                                     \n",
       "4                             Merged-chr12-3854603-1                                                     \n",
       "\n",
       "     chr      start        end strand  Stat  \\\n",
       "0   chr8   40594980   40595979      +   0.0   \n",
       "1  chr17   47395262   47396261      +   0.0   \n",
       "2   chr6  127351305  127352304      +   0.0   \n",
       "3  chr18   36727335   36728334      +   0.0   \n",
       "4  chr12    3854104    3855103      +   0.0   \n",
       "\n",
       "                        Parent files  Total subpeaks  \\\n",
       "0  ./C57_AMLNDiet_filt_annot_cut.bed               1   \n",
       "1  ./C57_AMLNDiet_filt_annot_cut.bed               1   \n",
       "2  ./C57_AMLNDiet_filt_annot_cut.bed               1   \n",
       "3  ./C57_AMLNDiet_filt_annot_cut.bed               1   \n",
       "4  ./C57_AMLNDiet_filt_annot_cut.bed               1   \n",
       "\n",
       "  ./C57_control_filt_annot_cut.bed ./C57_AMLNDiet_filt_annot_cut.bed  \n",
       "0                              NaN                      default-4066  \n",
       "1                              NaN                      default-4069  \n",
       "2                              NaN                      default-5677  \n",
       "3                              NaN                      default-5679  \n",
       "4                              NaN                      default-4076  "
      ]
     },
     "execution_count": 4,
     "metadata": {},
     "output_type": "execute_result"
    }
   ],
   "source": [
    "#reading in the mergePeaks file (should be the union!)\n",
    "cur_dir = \"/home/hmummey/data/ATAC/combined_peaks/\"\n",
    "file_name = \"mergePeaks_C57_control_C57_AMLNDiet_given.txt\"\n",
    "merged_peaks = pd.read_table(cur_dir+file_name)\n",
    "print(len(merged_peaks))\n",
    "merged_peaks.head()"
   ]
  },
  {
   "cell_type": "markdown",
   "metadata": {},
   "source": [
    "### Convert to a .bed file"
   ]
  },
  {
   "cell_type": "markdown",
   "metadata": {},
   "source": [
    "Bed file format requires:\n",
    "- chrom - name of the chromosome or scaffold. Any valid seq_region_name can be used, and chromosome names can be given with or without the 'chr' prefix.\n",
    "- chromStart - Start position of the feature in standard chromosomal coordinates (i.e. first base is 0).\n",
    "- chromEnd - End position of the feature in standard chromosomal coordinates\n",
    "\n",
    "Optional columns: name, score, strand, thickStart, thickEnd, itemRgb, blockCount, blockSizes, blockStarts\n",
    "\n",
    "from: https://m.ensembl.org/info/website/upload/bed.html"
   ]
  },
  {
   "cell_type": "code",
   "execution_count": 5,
   "metadata": {},
   "outputs": [
    {
     "name": "stdout",
     "output_type": "stream",
     "text": [
      "23391\n"
     ]
    },
    {
     "data": {
      "text/html": [
       "<div>\n",
       "<style scoped>\n",
       "    .dataframe tbody tr th:only-of-type {\n",
       "        vertical-align: middle;\n",
       "    }\n",
       "\n",
       "    .dataframe tbody tr th {\n",
       "        vertical-align: top;\n",
       "    }\n",
       "\n",
       "    .dataframe thead th {\n",
       "        text-align: right;\n",
       "    }\n",
       "</style>\n",
       "<table border=\"1\" class=\"dataframe\">\n",
       "  <thead>\n",
       "    <tr style=\"text-align: right;\">\n",
       "      <th></th>\n",
       "      <th>chr</th>\n",
       "      <th>start</th>\n",
       "      <th>end</th>\n",
       "      <th>strand</th>\n",
       "    </tr>\n",
       "  </thead>\n",
       "  <tbody>\n",
       "    <tr>\n",
       "      <td>0</td>\n",
       "      <td>chr8</td>\n",
       "      <td>40594980</td>\n",
       "      <td>40595979</td>\n",
       "      <td>+</td>\n",
       "    </tr>\n",
       "    <tr>\n",
       "      <td>1</td>\n",
       "      <td>chr17</td>\n",
       "      <td>47395262</td>\n",
       "      <td>47396261</td>\n",
       "      <td>+</td>\n",
       "    </tr>\n",
       "    <tr>\n",
       "      <td>2</td>\n",
       "      <td>chr6</td>\n",
       "      <td>127351305</td>\n",
       "      <td>127352304</td>\n",
       "      <td>+</td>\n",
       "    </tr>\n",
       "    <tr>\n",
       "      <td>3</td>\n",
       "      <td>chr18</td>\n",
       "      <td>36727335</td>\n",
       "      <td>36728334</td>\n",
       "      <td>+</td>\n",
       "    </tr>\n",
       "    <tr>\n",
       "      <td>4</td>\n",
       "      <td>chr12</td>\n",
       "      <td>3854104</td>\n",
       "      <td>3855103</td>\n",
       "      <td>+</td>\n",
       "    </tr>\n",
       "  </tbody>\n",
       "</table>\n",
       "</div>"
      ],
      "text/plain": [
       "     chr      start        end strand\n",
       "0   chr8   40594980   40595979      +\n",
       "1  chr17   47395262   47396261      +\n",
       "2   chr6  127351305  127352304      +\n",
       "3  chr18   36727335   36728334      +\n",
       "4  chr12    3854104    3855103      +"
      ]
     },
     "execution_count": 5,
     "metadata": {},
     "output_type": "execute_result"
    }
   ],
   "source": [
    "save_cols = [1,2,3,4]\n",
    "bed_df = merged_peaks.iloc[:,save_cols]\n",
    "print(len(bed_df))\n",
    "bed_df.head()"
   ]
  },
  {
   "cell_type": "code",
   "execution_count": 21,
   "metadata": {},
   "outputs": [],
   "source": [
    "#save this bc\n",
    "#save_name = \"/home/hmummey/data/ATAC/combined_peaks/mergePeaks_C57_control_C57_AMLNDiet_given.bed\"\n",
    "#bed_df.to_csv(save_name, index=False, sep=\"\\t\")"
   ]
  },
  {
   "cell_type": "markdown",
   "metadata": {},
   "source": [
    "# Read sequences\n",
    "Adapted from the previous notebook since we don't have fasta files for the + peaks"
   ]
  },
  {
   "cell_type": "code",
   "execution_count": 6,
   "metadata": {},
   "outputs": [],
   "source": [
    "from __future__ import print_function\n",
    "import numpy as np\n",
    "import pandas as pd\n",
    "from collections import Counter\n",
    "\n",
    "import sys\n",
    "import random\n",
    "\n",
    "import os\n",
    "import fnmatch\n",
    "\n",
    "import sys"
   ]
  },
  {
   "cell_type": "code",
   "execution_count": 7,
   "metadata": {},
   "outputs": [],
   "source": [
    "#both of these can be imported to python in the terminal in zs-deeplift env\n",
    "\n",
    "from Bio import SeqIO\n",
    "from Bio.Seq import Seq"
   ]
  },
  {
   "cell_type": "markdown",
   "metadata": {},
   "source": [
    "#### Load in the mm10 genome"
   ]
  },
  {
   "cell_type": "code",
   "execution_count": 8,
   "metadata": {},
   "outputs": [],
   "source": [
    "def load_genome(ref_path):\n",
    "    ref_dict = {}\n",
    "    for seq in SeqIO.parse(ref_path, \"fasta\"):\n",
    "        chromID = seq.id\n",
    "        chromSeq = (str(seq.seq)).upper()\n",
    "        ref_dict[chromID] = chromSeq\n",
    "    return ref_dict"
   ]
  },
  {
   "cell_type": "code",
   "execution_count": 9,
   "metadata": {},
   "outputs": [],
   "source": [
    "ref_path = \"/home/zes017/genomes/mm10/mm10.fa\"\n",
    "genomes = load_genome(ref_path)"
   ]
  },
  {
   "cell_type": "markdown",
   "metadata": {},
   "source": [
    "#### Prepare data from a BED/peak file\n",
    "Almost the correct output format! Just need one more term in the returned list for each element in this format: 'chr5_140648065_140648415_C57'"
   ]
  },
  {
   "cell_type": "code",
   "execution_count": 10,
   "metadata": {},
   "outputs": [],
   "source": [
    "def data_prep(path, genomes, label, strain, size=500, rep=1, shift=None):\n",
    "    print (\"Scaled to %d\" % (size))\n",
    "    if shift is None:\n",
    "        shifts = size//rep*np.arange(-rep//2+1,rep//2+1)\n",
    "    elif type(shift) is int:\n",
    "        shifts = np.abs(shift)*np.arange(-rep//2+1,rep//2+1)\n",
    "    elif type(shift) is list:\n",
    "        if len(shift) != rep:\n",
    "            raise TypeError(\"Number of shift unequal to replicates\")\n",
    "        shifts = np.array(shift)\n",
    "    if rep == 1 and shift is not None:\n",
    "        random_shift = True\n",
    "        print(\"Random shifting within %s\" % (str(-np.abs(shift))+'~'+str(np.abs(shift))))\n",
    "    else:\n",
    "        random_shift = False\n",
    "        print(\"Generate replicates by shifting %s bp\" % (','.join(shifts.astype(str))))\n",
    "    \n",
    "    data_list = []\n",
    "    for line in open(path):\n",
    "        elems = line.split()\n",
    "        chromID = elems[0]\n",
    "        start, end = int(elems[1]), int(elems[2])\n",
    "        length = end-start\n",
    "        mid = (start+end)//2\n",
    "        for s in shifts:\n",
    "            if random_shift:\n",
    "                new_mid = mid + np.random.choice(np.arange(-np.abs(shift), np.abs(shift)+1))\n",
    "            else:\n",
    "                new_mid = mid + s\n",
    "            start = new_mid - size//2\n",
    "            end = new_mid + size//2\n",
    "            seq = genomes[chromID][start:end]\n",
    "            if len(seq) != size:\n",
    "                continue\n",
    "                \n",
    "            #created combined name term, ex: chr5_140648065_140648415_C57\n",
    "            k = chromID + \"_\" + str(start) + \"_\" + str(end) + \"_\" + strain\n",
    "\n",
    "            data_point = (seq, label, chromID, start, end, k)\n",
    "            data_list.append(data_point)\n",
    "    return data_list"
   ]
  },
  {
   "cell_type": "code",
   "execution_count": 11,
   "metadata": {},
   "outputs": [
    {
     "name": "stdout",
     "output_type": "stream",
     "text": [
      "Scaled to 300\n",
      "Generate replicates by shifting 0 bp\n",
      "23391\n"
     ]
    }
   ],
   "source": [
    "#control --> delete first col!\n",
    "data_path = \"/home/hmummey/data/ATAC/combined_peaks/round3/mergePeaks_C57_control_C57_AMLNDiet_given_all_round2.bed\"\n",
    "orig_data = data_prep(data_path, genomes, 1, \"C57\", size=300, rep=1, shift=None)\n",
    "print(len(orig_data))"
   ]
  },
  {
   "cell_type": "code",
   "execution_count": 12,
   "metadata": {},
   "outputs": [
    {
     "name": "stdout",
     "output_type": "stream",
     "text": [
      "('CTCAAGTCAGAAAATCCCCGAGGTTTTCACCTCTTCTGTCACAGCAGTCTGGAAAGGGCCAGGCTTACTGGGCTGGGAGTTTCTCTGGAAAAGAAATGGCAAGTGACACACAGCTTTCAGTCTGGGTGATGCAGGGCTCCGGTTACTATGCGCAAATGAGTCACATTGGTGGTTAATTCTAAGGGGAAAGTCATCAAAGCAGCAGCATGGAGAAAGTACCATTCAGTGGCTGTGCTTCACTCTCTCTCTCTCCTTCCTTGTTCAAGGACAGCTGAATAGTTGAGAAACAAAGACATCCGA', 1, 'chr8', 40595329, 40595629, 'chr8_40595329_40595629_C57')\n"
     ]
    }
   ],
   "source": [
    "print(orig_data[0])"
   ]
  },
  {
   "cell_type": "markdown",
   "metadata": {},
   "source": [
    "# Convert to one hot encode sequences"
   ]
  },
  {
   "cell_type": "code",
   "execution_count": 13,
   "metadata": {},
   "outputs": [],
   "source": [
    "import random\n",
    "from Bio import Seq\n",
    "\n",
    "def dataset2onehot(dataset, shuffle=True):\n",
    "    nucleotides = [\"A\", \"T\", \"C\", \"G\"]\n",
    "    def seq2onehot(seq):\n",
    "        onehot_list = []\n",
    "        for nuc in seq:\n",
    "            if nuc == \"N\":\n",
    "                onehot = [0.25 for _ in range(len(nucleotides))]\n",
    "                onehot_list.append(onehot)\n",
    "            else:\n",
    "                onehot = [0 for _ in range(len(nucleotides))]\n",
    "                onehot[nucleotides.index(nuc)] = 1\n",
    "                onehot_list.append(onehot)\n",
    "        return onehot_list\n",
    "    \n",
    "    def rc(seq):\n",
    "        return str((Seq.Seq(seq)).reverse_complement())\n",
    "    \n",
    "    onehot_dataset = []\n",
    "    for (seq, label, chromID, start, end, ID) in dataset:\n",
    "        onehot_dataset.append((seq2onehot(seq), label, (chromID, start, end, \"+\")))\n",
    "        onehot_dataset.append((seq2onehot(rc(seq)), label, (chromID, start, end, \"-\")))\n",
    "    \n",
    "    if shuffle:\n",
    "        random.shuffle(onehot_dataset)\n",
    "    \n",
    "    x_list, y_list, info_list = [], [], [] \n",
    "    for (x, y, info) in onehot_dataset:\n",
    "        x_list.append(x)\n",
    "        y_list.append(y)\n",
    "        info_list.append(info)\n",
    "    return np.array(x_list), np.array(y_list), info_list"
   ]
  },
  {
   "cell_type": "code",
   "execution_count": 14,
   "metadata": {},
   "outputs": [],
   "source": [
    "x_vis, y_vis, info_vis = dataset2onehot(orig_data, False) #combined!"
   ]
  },
  {
   "cell_type": "code",
   "execution_count": 15,
   "metadata": {},
   "outputs": [
    {
     "name": "stdout",
     "output_type": "stream",
     "text": [
      "(46782, 300, 4)\n",
      "(46782,)\n"
     ]
    }
   ],
   "source": [
    "print(x_vis.shape)\n",
    "print(y_vis.shape)"
   ]
  },
  {
   "cell_type": "code",
   "execution_count": 16,
   "metadata": {},
   "outputs": [
    {
     "name": "stdout",
     "output_type": "stream",
     "text": [
      "23391\n"
     ]
    }
   ],
   "source": [
    "print(len(orig_data))"
   ]
  },
  {
   "cell_type": "markdown",
   "metadata": {},
   "source": [
    "# Filter data for positive peaks"
   ]
  },
  {
   "cell_type": "code",
   "execution_count": 17,
   "metadata": {
    "scrolled": true
   },
   "outputs": [
    {
     "name": "stderr",
     "output_type": "stream",
     "text": [
      "Using TensorFlow backend.\n"
     ]
    }
   ],
   "source": [
    "#need to import the model first!\n",
    "import keras\n",
    "from keras.models import model_from_json"
   ]
  },
  {
   "cell_type": "markdown",
   "metadata": {},
   "source": [
    "### Homeostatic model"
   ]
  },
  {
   "cell_type": "code",
   "execution_count": 18,
   "metadata": {
    "scrolled": true
   },
   "outputs": [
    {
     "name": "stdout",
     "output_type": "stream",
     "text": [
      "WARNING:tensorflow:From /gpfs/data01/glasslab/home/hmummey/.conda/envs/zs-deeplift/lib/python3.7/site-packages/tensorflow_core/python/ops/resource_variable_ops.py:1630: calling BaseResourceVariable.__init__ (from tensorflow.python.ops.resource_variable_ops) with constraint is deprecated and will be removed in a future version.\n",
      "Instructions for updating:\n",
      "If using Keras pass *_constraint arguments to layers.\n",
      "WARNING:tensorflow:From /gpfs/data01/glasslab/home/hmummey/.conda/envs/zs-deeplift/lib/python3.7/site-packages/keras/backend/tensorflow_backend.py:4070: The name tf.nn.max_pool is deprecated. Please use tf.nn.max_pool2d instead.\n",
      "\n",
      "WARNING:tensorflow:From /gpfs/data01/glasslab/home/hmummey/.conda/envs/zs-deeplift/lib/python3.7/site-packages/tensorflow_core/python/ops/nn_impl.py:183: where (from tensorflow.python.ops.array_ops) is deprecated and will be removed in a future version.\n",
      "Instructions for updating:\n",
      "Use tf.where in 2.0, which has the same broadcast rule as np.where\n"
     ]
    }
   ],
   "source": [
    "#homeostatic model first\n",
    "keras_model_weights = \"/home/hmummey/model/210301_NCoRWT_secondset/modelWeights.300bp.NCoRWT.controlhomeo.epo20.RandomShift0bp.h5\"\n",
    "keras_model_json = \"/home/hmummey/model/210301_NCoRWT_secondset/modelWeights.300bp.NCoRWT.controlhomeo.epo20.RandomShift0bp.json\"\n",
    "\n",
    "keras_model = model_from_json(open(keras_model_json).read())\n",
    "keras_model.load_weights(keras_model_weights)\n",
    "keras_model.compile(loss=keras.losses.binary_crossentropy,\n",
    "        optimizer=keras.optimizers.Adam(lr=1e-2),\n",
    "        metrics=['accuracy'])"
   ]
  },
  {
   "cell_type": "code",
   "execution_count": 19,
   "metadata": {},
   "outputs": [
    {
     "name": "stdout",
     "output_type": "stream",
     "text": [
      "WARNING:tensorflow:From /gpfs/data01/glasslab/home/hmummey/.conda/envs/zs-deeplift/lib/python3.7/site-packages/keras/backend/tensorflow_backend.py:422: The name tf.global_variables is deprecated. Please use tf.compat.v1.global_variables instead.\n",
      "\n"
     ]
    }
   ],
   "source": [
    "peak_preds = keras_model.predict(x_vis).flatten()"
   ]
  },
  {
   "cell_type": "code",
   "execution_count": 24,
   "metadata": {},
   "outputs": [
    {
     "name": "stdout",
     "output_type": "stream",
     "text": [
      "46782\n",
      "33122\n"
     ]
    },
    {
     "data": {
      "text/plain": [
       "(array([ 5459.,  2462.,  2066.,  1831.,  1842.,  1692.,  1837.,  2619.,\n",
       "         5703., 21271.]),\n",
       " array([3.2782555e-07, 1.0000029e-01, 2.0000026e-01, 3.0000022e-01,\n",
       "        4.0000018e-01, 5.0000018e-01, 6.0000014e-01, 7.0000011e-01,\n",
       "        8.0000007e-01, 9.0000004e-01, 1.0000000e+00], dtype=float32),\n",
       " <a list of 10 Patch objects>)"
      ]
     },
     "execution_count": 24,
     "metadata": {},
     "output_type": "execute_result"
    },
    {
     "data": {
      "image/png": "[encoded data removed]",
      "text/plain": [
       "<Figure size 432x288 with 1 Axes>"
      ]
     },
     "metadata": {
      "needs_background": "light"
     },
     "output_type": "display_data"
    }
   ],
   "source": [
    "print(len(peak_preds))\n",
    "print(sum(i > 0.5 for i in peak_preds))\n",
    "plt.hist(peak_preds,color='skyblue')"
   ]
  },
  {
   "cell_type": "markdown",
   "metadata": {},
   "source": [
    "### Differential Model"
   ]
  },
  {
   "cell_type": "code",
   "execution_count": 21,
   "metadata": {},
   "outputs": [],
   "source": [
    "#differential model second\n",
    "keras_model_weights2 = \"/home/hmummey/model/210301_NCoRWT_secondset/modelWeights.300bp.NCoRWT.AMLNdiff.epo20.RandomShift0bp.h5\"\n",
    "keras_model_json2 = \"/home/hmummey/model/210301_NCoRWT_secondset/modelWeights.300bp.NCoRWT.AMLNdiff.epo20.RandomShift0bp.json\"\n",
    "\n",
    "keras_model2 = model_from_json(open(keras_model_json2).read())\n",
    "keras_model2.load_weights(keras_model_weights2)\n",
    "keras_model2.compile(loss=keras.losses.binary_crossentropy,\n",
    "        optimizer=keras.optimizers.Adam(lr=1e-2),\n",
    "        metrics=['accuracy'])"
   ]
  },
  {
   "cell_type": "code",
   "execution_count": 22,
   "metadata": {},
   "outputs": [],
   "source": [
    "peak_preds2 = keras_model2.predict(x_vis).flatten()"
   ]
  },
  {
   "cell_type": "code",
   "execution_count": 25,
   "metadata": {},
   "outputs": [
    {
     "name": "stdout",
     "output_type": "stream",
     "text": [
      "46782\n",
      "19880\n"
     ]
    },
    {
     "data": {
      "text/plain": [
       "(array([14743.,  4744.,  3222.,  2280.,  1913.,  1879.,  2482.,  3082.,\n",
       "         3897.,  8540.]),\n",
       " array([0. , 0.1, 0.2, 0.3, 0.4, 0.5, 0.6, 0.7, 0.8, 0.9, 1. ],\n",
       "       dtype=float32),\n",
       " <a list of 10 Patch objects>)"
      ]
     },
     "execution_count": 25,
     "metadata": {},
     "output_type": "execute_result"
    },
    {
     "data": {
      "image/png": "[encoded data removed]",
      "text/plain": [
       "<Figure size 432x288 with 1 Axes>"
      ]
     },
     "metadata": {
      "needs_background": "light"
     },
     "output_type": "display_data"
    }
   ],
   "source": [
    "print(len(peak_preds2))\n",
    "print(sum(i > 0.5 for i in peak_preds2))\n",
    "plt.hist(peak_preds2,color='red')"
   ]
  },
  {
   "cell_type": "markdown",
   "metadata": {},
   "source": [
    "### Cutting down the data lists"
   ]
  },
  {
   "cell_type": "markdown",
   "metadata": {},
   "source": [
    "### Keep seqs where at least one of preds for (seq and rc) is above threshold"
   ]
  },
  {
   "cell_type": "code",
   "execution_count": 26,
   "metadata": {},
   "outputs": [],
   "source": [
    "#easiest thing is to just put both in the df then can be modular about cutting this down\n",
    "homeo_preds = peak_preds[::2]\n",
    "homeo_preds_rc = peak_preds[1::2]\n",
    "diff_preds = peak_preds2[::2]\n",
    "diff_preds_rc = peak_preds2[1::2]"
   ]
  },
  {
   "cell_type": "code",
   "execution_count": 27,
   "metadata": {
    "scrolled": true
   },
   "outputs": [
    {
     "name": "stderr",
     "output_type": "stream",
     "text": [
      "/gpfs/data01/glasslab/home/hmummey/.conda/envs/zs-deeplift/lib/python3.7/site-packages/ipykernel_launcher.py:1: SettingWithCopyWarning: \n",
      "A value is trying to be set on a copy of a slice from a DataFrame.\n",
      "Try using .loc[row_indexer,col_indexer] = value instead\n",
      "\n",
      "See the caveats in the documentation: http://pandas.pydata.org/pandas-docs/stable/user_guide/indexing.html#returning-a-view-versus-a-copy\n",
      "  \"\"\"Entry point for launching an IPython kernel.\n",
      "/gpfs/data01/glasslab/home/hmummey/.conda/envs/zs-deeplift/lib/python3.7/site-packages/ipykernel_launcher.py:2: SettingWithCopyWarning: \n",
      "A value is trying to be set on a copy of a slice from a DataFrame.\n",
      "Try using .loc[row_indexer,col_indexer] = value instead\n",
      "\n",
      "See the caveats in the documentation: http://pandas.pydata.org/pandas-docs/stable/user_guide/indexing.html#returning-a-view-versus-a-copy\n",
      "  \n",
      "/gpfs/data01/glasslab/home/hmummey/.conda/envs/zs-deeplift/lib/python3.7/site-packages/ipykernel_launcher.py:3: SettingWithCopyWarning: \n",
      "A value is trying to be set on a copy of a slice from a DataFrame.\n",
      "Try using .loc[row_indexer,col_indexer] = value instead\n",
      "\n",
      "See the caveats in the documentation: http://pandas.pydata.org/pandas-docs/stable/user_guide/indexing.html#returning-a-view-versus-a-copy\n",
      "  This is separate from the ipykernel package so we can avoid doing imports until\n",
      "/gpfs/data01/glasslab/home/hmummey/.conda/envs/zs-deeplift/lib/python3.7/site-packages/ipykernel_launcher.py:4: SettingWithCopyWarning: \n",
      "A value is trying to be set on a copy of a slice from a DataFrame.\n",
      "Try using .loc[row_indexer,col_indexer] = value instead\n",
      "\n",
      "See the caveats in the documentation: http://pandas.pydata.org/pandas-docs/stable/user_guide/indexing.html#returning-a-view-versus-a-copy\n",
      "  after removing the cwd from sys.path.\n"
     ]
    }
   ],
   "source": [
    "bed_df[\"Homeostatic Predictions\"] = homeo_preds\n",
    "bed_df[\"Homeostatic Predictions RC\"] = homeo_preds_rc\n",
    "bed_df[\"Differential Predictions\"] = diff_preds\n",
    "bed_df[\"Differential Predictions RC\"] = diff_preds_rc"
   ]
  },
  {
   "cell_type": "code",
   "execution_count": 28,
   "metadata": {},
   "outputs": [
    {
     "name": "stdout",
     "output_type": "stream",
     "text": [
      "23391\n"
     ]
    },
    {
     "data": {
      "text/html": [
       "<div>\n",
       "<style scoped>\n",
       "    .dataframe tbody tr th:only-of-type {\n",
       "        vertical-align: middle;\n",
       "    }\n",
       "\n",
       "    .dataframe tbody tr th {\n",
       "        vertical-align: top;\n",
       "    }\n",
       "\n",
       "    .dataframe thead th {\n",
       "        text-align: right;\n",
       "    }\n",
       "</style>\n",
       "<table border=\"1\" class=\"dataframe\">\n",
       "  <thead>\n",
       "    <tr style=\"text-align: right;\">\n",
       "      <th></th>\n",
       "      <th>chr</th>\n",
       "      <th>start</th>\n",
       "      <th>end</th>\n",
       "      <th>strand</th>\n",
       "      <th>Homeostatic Predictions</th>\n",
       "      <th>Homeostatic Predictions RC</th>\n",
       "      <th>Differential Predictions</th>\n",
       "      <th>Differential Predictions RC</th>\n",
       "    </tr>\n",
       "  </thead>\n",
       "  <tbody>\n",
       "    <tr>\n",
       "      <td>0</td>\n",
       "      <td>chr8</td>\n",
       "      <td>40594980</td>\n",
       "      <td>40595979</td>\n",
       "      <td>+</td>\n",
       "      <td>0.931042</td>\n",
       "      <td>0.896996</td>\n",
       "      <td>0.999982</td>\n",
       "      <td>0.998347</td>\n",
       "    </tr>\n",
       "    <tr>\n",
       "      <td>1</td>\n",
       "      <td>chr17</td>\n",
       "      <td>47395262</td>\n",
       "      <td>47396261</td>\n",
       "      <td>+</td>\n",
       "      <td>0.925941</td>\n",
       "      <td>0.945431</td>\n",
       "      <td>0.889835</td>\n",
       "      <td>0.820193</td>\n",
       "    </tr>\n",
       "    <tr>\n",
       "      <td>2</td>\n",
       "      <td>chr6</td>\n",
       "      <td>127351305</td>\n",
       "      <td>127352304</td>\n",
       "      <td>+</td>\n",
       "      <td>0.044167</td>\n",
       "      <td>0.472229</td>\n",
       "      <td>0.753739</td>\n",
       "      <td>0.786870</td>\n",
       "    </tr>\n",
       "    <tr>\n",
       "      <td>3</td>\n",
       "      <td>chr18</td>\n",
       "      <td>36727335</td>\n",
       "      <td>36728334</td>\n",
       "      <td>+</td>\n",
       "      <td>0.502969</td>\n",
       "      <td>0.830902</td>\n",
       "      <td>0.875302</td>\n",
       "      <td>0.787264</td>\n",
       "    </tr>\n",
       "    <tr>\n",
       "      <td>4</td>\n",
       "      <td>chr12</td>\n",
       "      <td>3854104</td>\n",
       "      <td>3855103</td>\n",
       "      <td>+</td>\n",
       "      <td>0.697546</td>\n",
       "      <td>0.739788</td>\n",
       "      <td>0.848480</td>\n",
       "      <td>0.584783</td>\n",
       "    </tr>\n",
       "  </tbody>\n",
       "</table>\n",
       "</div>"
      ],
      "text/plain": [
       "     chr      start        end strand  Homeostatic Predictions  \\\n",
       "0   chr8   40594980   40595979      +                 0.931042   \n",
       "1  chr17   47395262   47396261      +                 0.925941   \n",
       "2   chr6  127351305  127352304      +                 0.044167   \n",
       "3  chr18   36727335   36728334      +                 0.502969   \n",
       "4  chr12    3854104    3855103      +                 0.697546   \n",
       "\n",
       "   Homeostatic Predictions RC  Differential Predictions  \\\n",
       "0                    0.896996                  0.999982   \n",
       "1                    0.945431                  0.889835   \n",
       "2                    0.472229                  0.753739   \n",
       "3                    0.830902                  0.875302   \n",
       "4                    0.739788                  0.848480   \n",
       "\n",
       "   Differential Predictions RC  \n",
       "0                     0.998347  \n",
       "1                     0.820193  \n",
       "2                     0.786870  \n",
       "3                     0.787264  \n",
       "4                     0.584783  "
      ]
     },
     "execution_count": 28,
     "metadata": {},
     "output_type": "execute_result"
    }
   ],
   "source": [
    "print(len(bed_df))\n",
    "bed_df.head()"
   ]
  },
  {
   "cell_type": "code",
   "execution_count": 29,
   "metadata": {},
   "outputs": [],
   "source": [
    "save_name = \"/home/hmummey/data/ATAC/combined_peaks/round3/mergePeaks_C57_control_C57_AMLNDiet_given_all_round2_with_predictions.bed\"\n",
    "bed_df.to_csv(save_name, index=False, header=True, sep=\"\\t\")"
   ]
  },
  {
   "cell_type": "markdown",
   "metadata": {},
   "source": [
    "### Cut down bed df and then remake the dataset"
   ]
  },
  {
   "cell_type": "markdown",
   "metadata": {},
   "source": [
    "Homeostatic model predicts positive"
   ]
  },
  {
   "cell_type": "code",
   "execution_count": 31,
   "metadata": {},
   "outputs": [
    {
     "name": "stdout",
     "output_type": "stream",
     "text": [
      "17909\n"
     ]
    }
   ],
   "source": [
    "#first cut (just take a row if one passes)\n",
    "save_rows1 = []\n",
    "for i in range(len(bed_df)):\n",
    "    if bed_df.iloc[i,4] > 0.5 or bed_df.iloc[i,5] > 0.5:\n",
    "        save_rows1.append(i)\n",
    "        \n",
    "print(len(save_rows1))"
   ]
  },
  {
   "cell_type": "code",
   "execution_count": 32,
   "metadata": {},
   "outputs": [
    {
     "name": "stdout",
     "output_type": "stream",
     "text": [
      "17909\n"
     ]
    },
    {
     "data": {
      "text/html": [
       "<div>\n",
       "<style scoped>\n",
       "    .dataframe tbody tr th:only-of-type {\n",
       "        vertical-align: middle;\n",
       "    }\n",
       "\n",
       "    .dataframe tbody tr th {\n",
       "        vertical-align: top;\n",
       "    }\n",
       "\n",
       "    .dataframe thead th {\n",
       "        text-align: right;\n",
       "    }\n",
       "</style>\n",
       "<table border=\"1\" class=\"dataframe\">\n",
       "  <thead>\n",
       "    <tr style=\"text-align: right;\">\n",
       "      <th></th>\n",
       "      <th>chr</th>\n",
       "      <th>start</th>\n",
       "      <th>end</th>\n",
       "      <th>strand</th>\n",
       "      <th>Homeostatic Predictions</th>\n",
       "      <th>Homeostatic Predictions RC</th>\n",
       "      <th>Differential Predictions</th>\n",
       "      <th>Differential Predictions RC</th>\n",
       "    </tr>\n",
       "  </thead>\n",
       "  <tbody>\n",
       "    <tr>\n",
       "      <td>0</td>\n",
       "      <td>chr8</td>\n",
       "      <td>40594980</td>\n",
       "      <td>40595979</td>\n",
       "      <td>+</td>\n",
       "      <td>0.931042</td>\n",
       "      <td>0.896996</td>\n",
       "      <td>0.999982</td>\n",
       "      <td>0.998347</td>\n",
       "    </tr>\n",
       "    <tr>\n",
       "      <td>1</td>\n",
       "      <td>chr17</td>\n",
       "      <td>47395262</td>\n",
       "      <td>47396261</td>\n",
       "      <td>+</td>\n",
       "      <td>0.925941</td>\n",
       "      <td>0.945431</td>\n",
       "      <td>0.889835</td>\n",
       "      <td>0.820193</td>\n",
       "    </tr>\n",
       "    <tr>\n",
       "      <td>3</td>\n",
       "      <td>chr18</td>\n",
       "      <td>36727335</td>\n",
       "      <td>36728334</td>\n",
       "      <td>+</td>\n",
       "      <td>0.502969</td>\n",
       "      <td>0.830902</td>\n",
       "      <td>0.875302</td>\n",
       "      <td>0.787264</td>\n",
       "    </tr>\n",
       "    <tr>\n",
       "      <td>4</td>\n",
       "      <td>chr12</td>\n",
       "      <td>3854104</td>\n",
       "      <td>3855103</td>\n",
       "      <td>+</td>\n",
       "      <td>0.697546</td>\n",
       "      <td>0.739788</td>\n",
       "      <td>0.848480</td>\n",
       "      <td>0.584783</td>\n",
       "    </tr>\n",
       "    <tr>\n",
       "      <td>5</td>\n",
       "      <td>chr6</td>\n",
       "      <td>108740159</td>\n",
       "      <td>108741158</td>\n",
       "      <td>+</td>\n",
       "      <td>0.864241</td>\n",
       "      <td>0.827894</td>\n",
       "      <td>0.999877</td>\n",
       "      <td>0.935835</td>\n",
       "    </tr>\n",
       "  </tbody>\n",
       "</table>\n",
       "</div>"
      ],
      "text/plain": [
       "     chr      start        end strand  Homeostatic Predictions  \\\n",
       "0   chr8   40594980   40595979      +                 0.931042   \n",
       "1  chr17   47395262   47396261      +                 0.925941   \n",
       "3  chr18   36727335   36728334      +                 0.502969   \n",
       "4  chr12    3854104    3855103      +                 0.697546   \n",
       "5   chr6  108740159  108741158      +                 0.864241   \n",
       "\n",
       "   Homeostatic Predictions RC  Differential Predictions  \\\n",
       "0                    0.896996                  0.999982   \n",
       "1                    0.945431                  0.889835   \n",
       "3                    0.830902                  0.875302   \n",
       "4                    0.739788                  0.848480   \n",
       "5                    0.827894                  0.999877   \n",
       "\n",
       "   Differential Predictions RC  \n",
       "0                     0.998347  \n",
       "1                     0.820193  \n",
       "3                     0.787264  \n",
       "4                     0.584783  \n",
       "5                     0.935835  "
      ]
     },
     "execution_count": 32,
     "metadata": {},
     "output_type": "execute_result"
    }
   ],
   "source": [
    "bed_df_control = bed_df.iloc[save_rows1,:]\n",
    "print(len(bed_df_control))\n",
    "bed_df_control.head()"
   ]
  },
  {
   "cell_type": "code",
   "execution_count": 33,
   "metadata": {},
   "outputs": [],
   "source": [
    "save_name = \"/home/hmummey/data/ATAC/combined_peaks/round3/mergePeaks_C57_control_C57_AMLNDiet_given_all_round2_with_predictions_homeo+.bed\"\n",
    "bed_df_control.to_csv(save_name, index=False, header=False, sep=\"\\t\")"
   ]
  },
  {
   "cell_type": "markdown",
   "metadata": {},
   "source": [
    "save_name = \"/home/hmummey/data/ATAC/combined_peaks/mergePeaks_C57_control_C57_AMLNDiet_given_with_predictions_control+_withhead.bed\"\n",
    "bed_df_control.to_csv(save_name, index=False, header=True, sep=\"\\t\")"
   ]
  },
  {
   "cell_type": "markdown",
   "metadata": {},
   "source": [
    "Differential model predicts positive"
   ]
  },
  {
   "cell_type": "code",
   "execution_count": 34,
   "metadata": {},
   "outputs": [
    {
     "name": "stdout",
     "output_type": "stream",
     "text": [
      "12322\n"
     ]
    }
   ],
   "source": [
    "save_rows2 = []\n",
    "for i in range(len(bed_df)):\n",
    "    if bed_df.iloc[i,6] > 0.5 or bed_df.iloc[i,7] > 0.5:\n",
    "        save_rows2.append(i)\n",
    "        \n",
    "print(len(save_rows2))"
   ]
  },
  {
   "cell_type": "code",
   "execution_count": 36,
   "metadata": {},
   "outputs": [
    {
     "name": "stdout",
     "output_type": "stream",
     "text": [
      "12322\n"
     ]
    },
    {
     "data": {
      "text/html": [
       "<div>\n",
       "<style scoped>\n",
       "    .dataframe tbody tr th:only-of-type {\n",
       "        vertical-align: middle;\n",
       "    }\n",
       "\n",
       "    .dataframe tbody tr th {\n",
       "        vertical-align: top;\n",
       "    }\n",
       "\n",
       "    .dataframe thead th {\n",
       "        text-align: right;\n",
       "    }\n",
       "</style>\n",
       "<table border=\"1\" class=\"dataframe\">\n",
       "  <thead>\n",
       "    <tr style=\"text-align: right;\">\n",
       "      <th></th>\n",
       "      <th>chr</th>\n",
       "      <th>start</th>\n",
       "      <th>end</th>\n",
       "      <th>strand</th>\n",
       "      <th>Homeostatic Predictions</th>\n",
       "      <th>Homeostatic Predictions RC</th>\n",
       "      <th>Differential Predictions</th>\n",
       "      <th>Differential Predictions RC</th>\n",
       "    </tr>\n",
       "  </thead>\n",
       "  <tbody>\n",
       "    <tr>\n",
       "      <td>0</td>\n",
       "      <td>chr8</td>\n",
       "      <td>40594980</td>\n",
       "      <td>40595979</td>\n",
       "      <td>+</td>\n",
       "      <td>0.931042</td>\n",
       "      <td>0.896996</td>\n",
       "      <td>0.999982</td>\n",
       "      <td>0.998347</td>\n",
       "    </tr>\n",
       "    <tr>\n",
       "      <td>1</td>\n",
       "      <td>chr17</td>\n",
       "      <td>47395262</td>\n",
       "      <td>47396261</td>\n",
       "      <td>+</td>\n",
       "      <td>0.925941</td>\n",
       "      <td>0.945431</td>\n",
       "      <td>0.889835</td>\n",
       "      <td>0.820193</td>\n",
       "    </tr>\n",
       "    <tr>\n",
       "      <td>2</td>\n",
       "      <td>chr6</td>\n",
       "      <td>127351305</td>\n",
       "      <td>127352304</td>\n",
       "      <td>+</td>\n",
       "      <td>0.044167</td>\n",
       "      <td>0.472229</td>\n",
       "      <td>0.753739</td>\n",
       "      <td>0.786870</td>\n",
       "    </tr>\n",
       "    <tr>\n",
       "      <td>3</td>\n",
       "      <td>chr18</td>\n",
       "      <td>36727335</td>\n",
       "      <td>36728334</td>\n",
       "      <td>+</td>\n",
       "      <td>0.502969</td>\n",
       "      <td>0.830902</td>\n",
       "      <td>0.875302</td>\n",
       "      <td>0.787264</td>\n",
       "    </tr>\n",
       "    <tr>\n",
       "      <td>4</td>\n",
       "      <td>chr12</td>\n",
       "      <td>3854104</td>\n",
       "      <td>3855103</td>\n",
       "      <td>+</td>\n",
       "      <td>0.697546</td>\n",
       "      <td>0.739788</td>\n",
       "      <td>0.848480</td>\n",
       "      <td>0.584783</td>\n",
       "    </tr>\n",
       "  </tbody>\n",
       "</table>\n",
       "</div>"
      ],
      "text/plain": [
       "     chr      start        end strand  Homeostatic Predictions  \\\n",
       "0   chr8   40594980   40595979      +                 0.931042   \n",
       "1  chr17   47395262   47396261      +                 0.925941   \n",
       "2   chr6  127351305  127352304      +                 0.044167   \n",
       "3  chr18   36727335   36728334      +                 0.502969   \n",
       "4  chr12    3854104    3855103      +                 0.697546   \n",
       "\n",
       "   Homeostatic Predictions RC  Differential Predictions  \\\n",
       "0                    0.896996                  0.999982   \n",
       "1                    0.945431                  0.889835   \n",
       "2                    0.472229                  0.753739   \n",
       "3                    0.830902                  0.875302   \n",
       "4                    0.739788                  0.848480   \n",
       "\n",
       "   Differential Predictions RC  \n",
       "0                     0.998347  \n",
       "1                     0.820193  \n",
       "2                     0.786870  \n",
       "3                     0.787264  \n",
       "4                     0.584783  "
      ]
     },
     "execution_count": 36,
     "metadata": {},
     "output_type": "execute_result"
    }
   ],
   "source": [
    "bed_df_diff = bed_df.iloc[save_rows2,:]\n",
    "print(len(bed_df_diff))\n",
    "bed_df_diff.head()"
   ]
  },
  {
   "cell_type": "code",
   "execution_count": 37,
   "metadata": {},
   "outputs": [],
   "source": [
    "save_name = \"/home/hmummey/data/ATAC/combined_peaks/round3/mergePeaks_C57_control_C57_AMLNDiet_given_all_round2_with_predictions_diff+.bed\"\n",
    "bed_df_diff.to_csv(save_name, index=False, header=False, sep=\"\\t\")"
   ]
  },
  {
   "cell_type": "markdown",
   "metadata": {},
   "source": [
    "save_name = \"/home/hmummey/data/ATAC/combined_peaks/mergePeaks_C57_control_C57_AMLNDiet_given_with_predictions_amln+_withhead.bed\"\n",
    "bed_df_amln.to_csv(save_name, index=False, header=True, sep=\"\\t\")"
   ]
  },
  {
   "cell_type": "code",
   "execution_count": 38,
   "metadata": {},
   "outputs": [
    {
     "name": "stdout",
     "output_type": "stream",
     "text": [
      "10077\n"
     ]
    }
   ],
   "source": [
    "save_rows3 = []\n",
    "for i in range(len(bed_df)):\n",
    "    if bed_df.iloc[i,6] > 0.5 or bed_df.iloc[i,7] > 0.5:\n",
    "        if bed_df.iloc[i,4] > 0.5 or bed_df.iloc[i,5] > 0.5:\n",
    "            save_rows3.append(i)\n",
    "        \n",
    "print(len(save_rows3))"
   ]
  },
  {
   "cell_type": "code",
   "execution_count": 39,
   "metadata": {},
   "outputs": [
    {
     "name": "stdout",
     "output_type": "stream",
     "text": [
      "10077\n"
     ]
    },
    {
     "data": {
      "text/html": [
       "<div>\n",
       "<style scoped>\n",
       "    .dataframe tbody tr th:only-of-type {\n",
       "        vertical-align: middle;\n",
       "    }\n",
       "\n",
       "    .dataframe tbody tr th {\n",
       "        vertical-align: top;\n",
       "    }\n",
       "\n",
       "    .dataframe thead th {\n",
       "        text-align: right;\n",
       "    }\n",
       "</style>\n",
       "<table border=\"1\" class=\"dataframe\">\n",
       "  <thead>\n",
       "    <tr style=\"text-align: right;\">\n",
       "      <th></th>\n",
       "      <th>chr</th>\n",
       "      <th>start</th>\n",
       "      <th>end</th>\n",
       "      <th>strand</th>\n",
       "      <th>Homeostatic Predictions</th>\n",
       "      <th>Homeostatic Predictions RC</th>\n",
       "      <th>Differential Predictions</th>\n",
       "      <th>Differential Predictions RC</th>\n",
       "    </tr>\n",
       "  </thead>\n",
       "  <tbody>\n",
       "    <tr>\n",
       "      <td>0</td>\n",
       "      <td>chr8</td>\n",
       "      <td>40594980</td>\n",
       "      <td>40595979</td>\n",
       "      <td>+</td>\n",
       "      <td>0.931042</td>\n",
       "      <td>0.896996</td>\n",
       "      <td>0.999982</td>\n",
       "      <td>0.998347</td>\n",
       "    </tr>\n",
       "    <tr>\n",
       "      <td>1</td>\n",
       "      <td>chr17</td>\n",
       "      <td>47395262</td>\n",
       "      <td>47396261</td>\n",
       "      <td>+</td>\n",
       "      <td>0.925941</td>\n",
       "      <td>0.945431</td>\n",
       "      <td>0.889835</td>\n",
       "      <td>0.820193</td>\n",
       "    </tr>\n",
       "    <tr>\n",
       "      <td>3</td>\n",
       "      <td>chr18</td>\n",
       "      <td>36727335</td>\n",
       "      <td>36728334</td>\n",
       "      <td>+</td>\n",
       "      <td>0.502969</td>\n",
       "      <td>0.830902</td>\n",
       "      <td>0.875302</td>\n",
       "      <td>0.787264</td>\n",
       "    </tr>\n",
       "    <tr>\n",
       "      <td>4</td>\n",
       "      <td>chr12</td>\n",
       "      <td>3854104</td>\n",
       "      <td>3855103</td>\n",
       "      <td>+</td>\n",
       "      <td>0.697546</td>\n",
       "      <td>0.739788</td>\n",
       "      <td>0.848480</td>\n",
       "      <td>0.584783</td>\n",
       "    </tr>\n",
       "    <tr>\n",
       "      <td>5</td>\n",
       "      <td>chr6</td>\n",
       "      <td>108740159</td>\n",
       "      <td>108741158</td>\n",
       "      <td>+</td>\n",
       "      <td>0.864241</td>\n",
       "      <td>0.827894</td>\n",
       "      <td>0.999877</td>\n",
       "      <td>0.935835</td>\n",
       "    </tr>\n",
       "  </tbody>\n",
       "</table>\n",
       "</div>"
      ],
      "text/plain": [
       "     chr      start        end strand  Homeostatic Predictions  \\\n",
       "0   chr8   40594980   40595979      +                 0.931042   \n",
       "1  chr17   47395262   47396261      +                 0.925941   \n",
       "3  chr18   36727335   36728334      +                 0.502969   \n",
       "4  chr12    3854104    3855103      +                 0.697546   \n",
       "5   chr6  108740159  108741158      +                 0.864241   \n",
       "\n",
       "   Homeostatic Predictions RC  Differential Predictions  \\\n",
       "0                    0.896996                  0.999982   \n",
       "1                    0.945431                  0.889835   \n",
       "3                    0.830902                  0.875302   \n",
       "4                    0.739788                  0.848480   \n",
       "5                    0.827894                  0.999877   \n",
       "\n",
       "   Differential Predictions RC  \n",
       "0                     0.998347  \n",
       "1                     0.820193  \n",
       "3                     0.787264  \n",
       "4                     0.584783  \n",
       "5                     0.935835  "
      ]
     },
     "execution_count": 39,
     "metadata": {},
     "output_type": "execute_result"
    }
   ],
   "source": [
    "bed_df_both = bed_df.iloc[save_rows3,:]\n",
    "print(len(bed_df_both))\n",
    "bed_df_both.head()"
   ]
  },
  {
   "cell_type": "code",
   "execution_count": 40,
   "metadata": {},
   "outputs": [],
   "source": [
    "save_name = \"/home/hmummey/data/ATAC/combined_peaks/round3/mergePeaks_C57_control_C57_AMLNDiet_given_all_round2_with_predictions_both+.bed\"\n",
    "bed_df_both.to_csv(save_name, index=False, header=False, sep=\"\\t\")"
   ]
  },
  {
   "cell_type": "markdown",
   "metadata": {},
   "source": [
    "save_name = \"/home/hmummey/data/ATAC/combined_peaks/mergePeaks_C57_control_C57_AMLNDiet_given_with_predictions_both+_withhead.bed\"\n",
    "bed_df_both.to_csv(save_name, index=False, header=True, sep=\"\\t\")"
   ]
  },
  {
   "cell_type": "markdown",
   "metadata": {},
   "source": [
    "## Now remake the datasets"
   ]
  },
  {
   "cell_type": "code",
   "execution_count": 43,
   "metadata": {},
   "outputs": [
    {
     "name": "stdout",
     "output_type": "stream",
     "text": [
      "Scaled to 300\n",
      "Generate replicates by shifting 0 bp\n",
      "17909\n"
     ]
    }
   ],
   "source": [
    "#control+ --> delete first col!\n",
    "data_path = \"/home/hmummey/data/ATAC/combined_peaks/round3/mergePeaks_C57_control_C57_AMLNDiet_given_all_round2_with_predictions_homeo+.bed\"\n",
    "homeo_pos_data = data_prep(data_path, genomes, 1, \"C57\", size=300, rep=1, shift=None)\n",
    "print(len(homeo_pos_data))"
   ]
  },
  {
   "cell_type": "code",
   "execution_count": 42,
   "metadata": {},
   "outputs": [
    {
     "name": "stdout",
     "output_type": "stream",
     "text": [
      "Scaled to 300\n",
      "Generate replicates by shifting 0 bp\n",
      "12322\n"
     ]
    }
   ],
   "source": [
    "#amln+ --> delete first col!\n",
    "data_path = \"/home/hmummey/data/ATAC/combined_peaks/round3/mergePeaks_C57_control_C57_AMLNDiet_given_all_round2_with_predictions_diff+.bed\"\n",
    "diff_pos_data = data_prep(data_path, genomes, 1, \"C57\", size=300, rep=1, shift=None)\n",
    "print(len(diff_pos_data))"
   ]
  },
  {
   "cell_type": "code",
   "execution_count": 41,
   "metadata": {},
   "outputs": [
    {
     "name": "stdout",
     "output_type": "stream",
     "text": [
      "Scaled to 300\n",
      "Generate replicates by shifting 0 bp\n",
      "10077\n"
     ]
    }
   ],
   "source": [
    "#amln+ AND control+ --> delete first col!\n",
    "data_path = \"/home/hmummey/data/ATAC/combined_peaks/round3/mergePeaks_C57_control_C57_AMLNDiet_given_all_round2_with_predictions_both+.bed\"\n",
    "both_pos_data = data_prep(data_path, genomes, 1, \"C57\", size=300, rep=1, shift=None)\n",
    "print(len(both_pos_data))"
   ]
  },
  {
   "cell_type": "markdown",
   "metadata": {},
   "source": [
    "# Score nucleotide importance with DeepLIFT\n",
    "## Do this twice for each model... the overlap set and the individual set"
   ]
  },
  {
   "cell_type": "code",
   "execution_count": 44,
   "metadata": {},
   "outputs": [],
   "source": [
    "import deeplift\n",
    "from deeplift.layers import NonlinearMxtsMode\n",
    "import deeplift.conversion.kerasapi_conversion as kc\n",
    "from collections import OrderedDict\n",
    "from deeplift.util import get_shuffle_seq_ref_function\n",
    "from deeplift.dinuc_shuffle import dinuc_shuffle"
   ]
  },
  {
   "cell_type": "markdown",
   "metadata": {},
   "source": [
    "## Define scoring function"
   ]
  },
  {
   "cell_type": "code",
   "execution_count": 45,
   "metadata": {
    "scrolled": true
   },
   "outputs": [
    {
     "name": "stdout",
     "output_type": "stream",
     "text": [
      "nonlinear_mxts_mode is set to: DeepLIFT_GenomicsDefault\n",
      "WARNING:tensorflow:From /gpfs/data01/glasslab/home/hmummey/.conda/envs/zs-deeplift/lib/python3.7/site-packages/deeplift/layers/core.py:207: The name tf.placeholder is deprecated. Please use tf.compat.v1.placeholder instead.\n",
      "\n",
      "For layer 2 the preceding linear layer is 0 of type Conv1D;\n",
      "In accordance with nonlinear_mxts_mode=DeepLIFT_GenomicsDefault we are setting the NonlinearMxtsMode to Rescale\n",
      "Heads-up: current implementation assumes maxpool layer is followed by a linear transformation (conv/dense layer)\n",
      "For layer 7 the preceding linear layer is 5 of type Conv1D;\n",
      "In accordance with nonlinear_mxts_mode=DeepLIFT_GenomicsDefault we are setting the NonlinearMxtsMode to Rescale\n",
      "Heads-up: current implementation assumes maxpool layer is followed by a linear transformation (conv/dense layer)\n",
      "For layer 12 the preceding linear layer is 10 of type Conv1D;\n",
      "In accordance with nonlinear_mxts_mode=DeepLIFT_GenomicsDefault we are setting the NonlinearMxtsMode to Rescale\n",
      "For layer 16 the preceding linear layer is 15 of type Dense;\n",
      "In accordance with nonlinear_mxts_modeDeepLIFT_GenomicsDefault we are setting the NonlinearMxtsMode to RevealCancel\n",
      "Heads-up: I assume sigmoid is the output layer, not an intermediate one; if it's an intermediate layer then please bug me and I will implement the grad func\n",
      "For layer 18 the preceding linear layer is 17 of type Dense;\n",
      "In accordance with nonlinear_mxts_modeDeepLIFT_GenomicsDefault we are setting the NonlinearMxtsMode to RevealCancel\n",
      "TARGET LAYER SET TO 17\n",
      "WARNING:tensorflow:From /gpfs/data01/glasslab/home/hmummey/.conda/envs/zs-deeplift/lib/python3.7/site-packages/deeplift/layers/core.py:455: The name tf.variables_initializer is deprecated. Please use tf.compat.v1.variables_initializer instead.\n",
      "\n",
      "WARNING:tensorflow:From /gpfs/data01/glasslab/home/hmummey/.conda/envs/zs-deeplift/lib/python3.7/site-packages/deeplift/layers/core.py:471: The name tf.assign is deprecated. Please use tf.compat.v1.assign instead.\n",
      "\n",
      "WARNING:tensorflow:From /gpfs/data01/glasslab/home/hmummey/.conda/envs/zs-deeplift/lib/python3.7/site-packages/deeplift/layers/core.py:473: The name tf.scatter_update is deprecated. Please use tf.compat.v1.scatter_update instead.\n",
      "\n"
     ]
    }
   ],
   "source": [
    "#control model\n",
    "#already compiled... making new one here that I'm not compiling\n",
    "keras_model_weights = \"/home/hmummey/model/210301_NCoRWT_secondset/modelWeights.300bp.NCoRWT.controlhomeo.epo20.RandomShift0bp.h5\"\n",
    "keras_model_json = \"/home/hmummey/model/210301_NCoRWT_secondset/modelWeights.300bp.NCoRWT.controlhomeo.epo20.RandomShift0bp.json\"\n",
    "\n",
    "keras_model1 = model_from_json(open(keras_model_json).read())\n",
    "keras_model1.load_weights(keras_model_weights)\n",
    "\n",
    "#new to run\n",
    "nonlinear_mxts_mode = NonlinearMxtsMode.DeepLIFT_GenomicsDefault\n",
    "deeplift_method = kc.convert_model_from_saved_files(\n",
    "            h5_file=keras_model_weights,\n",
    "            json_file=keras_model_json,\n",
    "            nonlinear_mxts_mode=nonlinear_mxts_mode)\n",
    "scoring_func = deeplift_method.get_target_contribs_func(find_scores_layer_idx=0, target_layer_idx=-2)"
   ]
  },
  {
   "cell_type": "code",
   "execution_count": 46,
   "metadata": {
    "scrolled": true
   },
   "outputs": [
    {
     "name": "stdout",
     "output_type": "stream",
     "text": [
      "nonlinear_mxts_mode is set to: DeepLIFT_GenomicsDefault\n",
      "For layer 2 the preceding linear layer is 0 of type Conv1D;\n",
      "In accordance with nonlinear_mxts_mode=DeepLIFT_GenomicsDefault we are setting the NonlinearMxtsMode to Rescale\n",
      "Heads-up: current implementation assumes maxpool layer is followed by a linear transformation (conv/dense layer)\n",
      "For layer 7 the preceding linear layer is 5 of type Conv1D;\n",
      "In accordance with nonlinear_mxts_mode=DeepLIFT_GenomicsDefault we are setting the NonlinearMxtsMode to Rescale\n",
      "Heads-up: current implementation assumes maxpool layer is followed by a linear transformation (conv/dense layer)\n",
      "For layer 12 the preceding linear layer is 10 of type Conv1D;\n",
      "In accordance with nonlinear_mxts_mode=DeepLIFT_GenomicsDefault we are setting the NonlinearMxtsMode to Rescale\n",
      "For layer 16 the preceding linear layer is 15 of type Dense;\n",
      "In accordance with nonlinear_mxts_modeDeepLIFT_GenomicsDefault we are setting the NonlinearMxtsMode to RevealCancel\n",
      "Heads-up: I assume sigmoid is the output layer, not an intermediate one; if it's an intermediate layer then please bug me and I will implement the grad func\n",
      "For layer 18 the preceding linear layer is 17 of type Dense;\n",
      "In accordance with nonlinear_mxts_modeDeepLIFT_GenomicsDefault we are setting the NonlinearMxtsMode to RevealCancel\n",
      "TARGET LAYER SET TO 17\n"
     ]
    }
   ],
   "source": [
    "#control model\n",
    "#already compiled... making new one here that I'm not compiling\n",
    "keras_model_weights2 = \"/home/hmummey/model/210301_NCoRWT_secondset/modelWeights.300bp.NCoRWT.AMLNdiff.epo20.RandomShift0bp.h5\"\n",
    "keras_model_json2 = \"/home/hmummey/model/210301_NCoRWT_secondset/modelWeights.300bp.NCoRWT.AMLNdiff.epo20.RandomShift0bp.json\"\n",
    "\n",
    "keras_model2 = model_from_json(open(keras_model_json2).read())\n",
    "keras_model2.load_weights(keras_model_weights2)\n",
    "\n",
    "#new to run\n",
    "nonlinear_mxts_mode = NonlinearMxtsMode.DeepLIFT_GenomicsDefault\n",
    "deeplift_method2 = kc.convert_model_from_saved_files(\n",
    "            h5_file=keras_model_weights2,\n",
    "            json_file=keras_model_json2,\n",
    "            nonlinear_mxts_mode=nonlinear_mxts_mode)\n",
    "scoring_func2 = deeplift_method2.get_target_contribs_func(find_scores_layer_idx=0, target_layer_idx=-2)"
   ]
  },
  {
   "cell_type": "markdown",
   "metadata": {},
   "source": [
    "## Specify reference and compute importance"
   ]
  },
  {
   "cell_type": "code",
   "execution_count": 47,
   "metadata": {},
   "outputs": [],
   "source": [
    "#making 3 onehotseqs from all 3 pos data sets\n",
    "x_vis_homeo, y_vis_homeo, info_vis_homeo = dataset2onehot(homeo_pos_data, False)\n",
    "x_vis_diff, y_vis_diff, info_vis_diff = dataset2onehot(diff_pos_data, False)\n",
    "x_vis_both, y_vis_both, info_vis_both = dataset2onehot(both_pos_data, False)"
   ]
  },
  {
   "cell_type": "code",
   "execution_count": 48,
   "metadata": {},
   "outputs": [
    {
     "name": "stdout",
     "output_type": "stream",
     "text": [
      "(35818, 300, 4)\n",
      "(35818,)\n",
      "(24644, 300, 4)\n",
      "(24644,)\n",
      "(20154, 300, 4)\n",
      "(20154,)\n"
     ]
    }
   ],
   "source": [
    "print(x_vis_homeo.shape)\n",
    "print(y_vis_homeo.shape)\n",
    "print(x_vis_diff.shape)\n",
    "print(y_vis_diff.shape)\n",
    "print(x_vis_both.shape)\n",
    "print(y_vis_both.shape)"
   ]
  },
  {
   "cell_type": "markdown",
   "metadata": {},
   "source": [
    "### Homeostatic model \n",
    "- Scores 1 = homeo pos data\n",
    "- Scores 2 = both pos data"
   ]
  },
  {
   "cell_type": "code",
   "execution_count": 50,
   "metadata": {
    "scrolled": true
   },
   "outputs": [
    {
     "name": "stdout",
     "output_type": "stream",
     "text": [
      "Done 0\n",
      "Done 16000\n",
      "Done 32000\n"
     ]
    }
   ],
   "source": [
    "batch_size = 128\n",
    "background = OrderedDict([('A', 0.25), ('C', 0.25), ('G', 0.25), ('T', 0.25)])\n",
    "scores1 = np.array(scoring_func(task_idx=0, input_data_list=[x_vis_homeo], batch_size=batch_size, \n",
    "                               input_references_list=[np.array([background['A'], \n",
    "                                                                background['C'], \n",
    "                                                                background['G'], \n",
    "                                                                background['T']])[None,None,:]],\n",
    "                               progress_update=1000))\n",
    "scores1 = np.sum(scores1, axis=2)"
   ]
  },
  {
   "cell_type": "code",
   "execution_count": 51,
   "metadata": {
    "scrolled": true
   },
   "outputs": [
    {
     "name": "stdout",
     "output_type": "stream",
     "text": [
      "Done 0\n",
      "Done 16000\n"
     ]
    }
   ],
   "source": [
    "batch_size = 128 \n",
    "background = OrderedDict([('A', 0.25), ('C', 0.25), ('G', 0.25), ('T', 0.25)])\n",
    "scores2 = np.array(scoring_func(task_idx=0, input_data_list=[x_vis_both], batch_size=batch_size, \n",
    "                               input_references_list=[np.array([background['A'], \n",
    "                                                                background['C'], \n",
    "                                                                background['G'], \n",
    "                                                                background['T']])[None,None,:]],\n",
    "                               progress_update=1000))\n",
    "scores2 = np.sum(scores2, axis=2)"
   ]
  },
  {
   "cell_type": "markdown",
   "metadata": {},
   "source": [
    "### Differential model\n",
    "- Scores 3 = diff pos data\n",
    "- Scores 4 = both pos data"
   ]
  },
  {
   "cell_type": "code",
   "execution_count": 52,
   "metadata": {
    "scrolled": true
   },
   "outputs": [
    {
     "name": "stdout",
     "output_type": "stream",
     "text": [
      "Done 0\n",
      "Done 16000\n"
     ]
    }
   ],
   "source": [
    "batch_size = 128 \n",
    "background = OrderedDict([('A', 0.25), ('C', 0.25), ('G', 0.25), ('T', 0.25)])\n",
    "scores3 = np.array(scoring_func2(task_idx=0, input_data_list=[x_vis_diff], batch_size=batch_size, \n",
    "                               input_references_list=[np.array([background['A'], \n",
    "                                                                background['C'], \n",
    "                                                                background['G'], \n",
    "                                                                background['T']])[None,None,:]],\n",
    "                               progress_update=1000))\n",
    "scores3 = np.sum(scores3, axis=2)"
   ]
  },
  {
   "cell_type": "code",
   "execution_count": 53,
   "metadata": {
    "scrolled": true
   },
   "outputs": [
    {
     "name": "stdout",
     "output_type": "stream",
     "text": [
      "Done 0\n",
      "Done 16000\n"
     ]
    }
   ],
   "source": [
    "batch_size = 128 \n",
    "background = OrderedDict([('A', 0.25), ('C', 0.25), ('G', 0.25), ('T', 0.25)])\n",
    "scores4 = np.array(scoring_func2(task_idx=0, input_data_list=[x_vis_both], batch_size=batch_size, \n",
    "                               input_references_list=[np.array([background['A'], \n",
    "                                                                background['C'], \n",
    "                                                                background['G'], \n",
    "                                                                background['T']])[None,None,:]],\n",
    "                               progress_update=1000))\n",
    "scores4 = np.sum(scores4, axis=2)"
   ]
  },
  {
   "cell_type": "markdown",
   "metadata": {},
   "source": [
    "## Get nucleotide-level max importance from original and reverse compliment sequences"
   ]
  },
  {
   "cell_type": "code",
   "execution_count": 58,
   "metadata": {},
   "outputs": [
    {
     "data": {
      "text/html": [
       "<div>\n",
       "<style scoped>\n",
       "    .dataframe tbody tr th:only-of-type {\n",
       "        vertical-align: middle;\n",
       "    }\n",
       "\n",
       "    .dataframe tbody tr th {\n",
       "        vertical-align: top;\n",
       "    }\n",
       "\n",
       "    .dataframe thead th {\n",
       "        text-align: right;\n",
       "    }\n",
       "</style>\n",
       "<table border=\"1\" class=\"dataframe\">\n",
       "  <thead>\n",
       "    <tr style=\"text-align: right;\">\n",
       "      <th></th>\n",
       "      <th>chr</th>\n",
       "      <th>start</th>\n",
       "      <th>end</th>\n",
       "      <th>strand</th>\n",
       "      <th>Homeostatic Predictions</th>\n",
       "      <th>Homeostatic Predictions RC</th>\n",
       "      <th>Differential Predictions</th>\n",
       "      <th>Differential Predictions RC</th>\n",
       "    </tr>\n",
       "  </thead>\n",
       "  <tbody>\n",
       "    <tr>\n",
       "      <td>0</td>\n",
       "      <td>chr8</td>\n",
       "      <td>40594980</td>\n",
       "      <td>40595979</td>\n",
       "      <td>+</td>\n",
       "      <td>0.931042</td>\n",
       "      <td>0.896996</td>\n",
       "      <td>0.999982</td>\n",
       "      <td>0.998347</td>\n",
       "    </tr>\n",
       "    <tr>\n",
       "      <td>1</td>\n",
       "      <td>chr17</td>\n",
       "      <td>47395262</td>\n",
       "      <td>47396261</td>\n",
       "      <td>+</td>\n",
       "      <td>0.925941</td>\n",
       "      <td>0.945431</td>\n",
       "      <td>0.889835</td>\n",
       "      <td>0.820193</td>\n",
       "    </tr>\n",
       "    <tr>\n",
       "      <td>3</td>\n",
       "      <td>chr18</td>\n",
       "      <td>36727335</td>\n",
       "      <td>36728334</td>\n",
       "      <td>+</td>\n",
       "      <td>0.502969</td>\n",
       "      <td>0.830902</td>\n",
       "      <td>0.875302</td>\n",
       "      <td>0.787264</td>\n",
       "    </tr>\n",
       "    <tr>\n",
       "      <td>4</td>\n",
       "      <td>chr12</td>\n",
       "      <td>3854104</td>\n",
       "      <td>3855103</td>\n",
       "      <td>+</td>\n",
       "      <td>0.697546</td>\n",
       "      <td>0.739788</td>\n",
       "      <td>0.848480</td>\n",
       "      <td>0.584783</td>\n",
       "    </tr>\n",
       "    <tr>\n",
       "      <td>5</td>\n",
       "      <td>chr6</td>\n",
       "      <td>108740159</td>\n",
       "      <td>108741158</td>\n",
       "      <td>+</td>\n",
       "      <td>0.864241</td>\n",
       "      <td>0.827894</td>\n",
       "      <td>0.999877</td>\n",
       "      <td>0.935835</td>\n",
       "    </tr>\n",
       "  </tbody>\n",
       "</table>\n",
       "</div>"
      ],
      "text/plain": [
       "     chr      start        end strand  Homeostatic Predictions  \\\n",
       "0   chr8   40594980   40595979      +                 0.931042   \n",
       "1  chr17   47395262   47396261      +                 0.925941   \n",
       "3  chr18   36727335   36728334      +                 0.502969   \n",
       "4  chr12    3854104    3855103      +                 0.697546   \n",
       "5   chr6  108740159  108741158      +                 0.864241   \n",
       "\n",
       "   Homeostatic Predictions RC  Differential Predictions  \\\n",
       "0                    0.896996                  0.999982   \n",
       "1                    0.945431                  0.889835   \n",
       "3                    0.830902                  0.875302   \n",
       "4                    0.739788                  0.848480   \n",
       "5                    0.827894                  0.999877   \n",
       "\n",
       "   Differential Predictions RC  \n",
       "0                     0.998347  \n",
       "1                     0.820193  \n",
       "3                     0.787264  \n",
       "4                     0.584783  \n",
       "5                     0.935835  "
      ]
     },
     "execution_count": 58,
     "metadata": {},
     "output_type": "execute_result"
    }
   ],
   "source": [
    "bed_df_control.head()"
   ]
  },
  {
   "cell_type": "code",
   "execution_count": 59,
   "metadata": {},
   "outputs": [
    {
     "data": {
      "text/html": [
       "<div>\n",
       "<style scoped>\n",
       "    .dataframe tbody tr th:only-of-type {\n",
       "        vertical-align: middle;\n",
       "    }\n",
       "\n",
       "    .dataframe tbody tr th {\n",
       "        vertical-align: top;\n",
       "    }\n",
       "\n",
       "    .dataframe thead th {\n",
       "        text-align: right;\n",
       "    }\n",
       "</style>\n",
       "<table border=\"1\" class=\"dataframe\">\n",
       "  <thead>\n",
       "    <tr style=\"text-align: right;\">\n",
       "      <th></th>\n",
       "      <th>chr</th>\n",
       "      <th>start</th>\n",
       "      <th>end</th>\n",
       "      <th>strand</th>\n",
       "      <th>Homeostatic Predictions</th>\n",
       "      <th>Homeostatic Predictions RC</th>\n",
       "      <th>Differential Predictions</th>\n",
       "      <th>Differential Predictions RC</th>\n",
       "    </tr>\n",
       "  </thead>\n",
       "  <tbody>\n",
       "    <tr>\n",
       "      <td>0</td>\n",
       "      <td>chr8</td>\n",
       "      <td>40594980</td>\n",
       "      <td>40595979</td>\n",
       "      <td>+</td>\n",
       "      <td>0.931042</td>\n",
       "      <td>0.896996</td>\n",
       "      <td>0.999982</td>\n",
       "      <td>0.998347</td>\n",
       "    </tr>\n",
       "    <tr>\n",
       "      <td>1</td>\n",
       "      <td>chr17</td>\n",
       "      <td>47395262</td>\n",
       "      <td>47396261</td>\n",
       "      <td>+</td>\n",
       "      <td>0.925941</td>\n",
       "      <td>0.945431</td>\n",
       "      <td>0.889835</td>\n",
       "      <td>0.820193</td>\n",
       "    </tr>\n",
       "    <tr>\n",
       "      <td>2</td>\n",
       "      <td>chr6</td>\n",
       "      <td>127351305</td>\n",
       "      <td>127352304</td>\n",
       "      <td>+</td>\n",
       "      <td>0.044167</td>\n",
       "      <td>0.472229</td>\n",
       "      <td>0.753739</td>\n",
       "      <td>0.786870</td>\n",
       "    </tr>\n",
       "    <tr>\n",
       "      <td>3</td>\n",
       "      <td>chr18</td>\n",
       "      <td>36727335</td>\n",
       "      <td>36728334</td>\n",
       "      <td>+</td>\n",
       "      <td>0.502969</td>\n",
       "      <td>0.830902</td>\n",
       "      <td>0.875302</td>\n",
       "      <td>0.787264</td>\n",
       "    </tr>\n",
       "    <tr>\n",
       "      <td>4</td>\n",
       "      <td>chr12</td>\n",
       "      <td>3854104</td>\n",
       "      <td>3855103</td>\n",
       "      <td>+</td>\n",
       "      <td>0.697546</td>\n",
       "      <td>0.739788</td>\n",
       "      <td>0.848480</td>\n",
       "      <td>0.584783</td>\n",
       "    </tr>\n",
       "  </tbody>\n",
       "</table>\n",
       "</div>"
      ],
      "text/plain": [
       "     chr      start        end strand  Homeostatic Predictions  \\\n",
       "0   chr8   40594980   40595979      +                 0.931042   \n",
       "1  chr17   47395262   47396261      +                 0.925941   \n",
       "2   chr6  127351305  127352304      +                 0.044167   \n",
       "3  chr18   36727335   36728334      +                 0.502969   \n",
       "4  chr12    3854104    3855103      +                 0.697546   \n",
       "\n",
       "   Homeostatic Predictions RC  Differential Predictions  \\\n",
       "0                    0.896996                  0.999982   \n",
       "1                    0.945431                  0.889835   \n",
       "2                    0.472229                  0.753739   \n",
       "3                    0.830902                  0.875302   \n",
       "4                    0.739788                  0.848480   \n",
       "\n",
       "   Differential Predictions RC  \n",
       "0                     0.998347  \n",
       "1                     0.820193  \n",
       "2                     0.786870  \n",
       "3                     0.787264  \n",
       "4                     0.584783  "
      ]
     },
     "execution_count": 59,
     "metadata": {},
     "output_type": "execute_result"
    }
   ],
   "source": [
    "bed_df_diff.head()"
   ]
  },
  {
   "cell_type": "code",
   "execution_count": 60,
   "metadata": {},
   "outputs": [
    {
     "data": {
      "text/html": [
       "<div>\n",
       "<style scoped>\n",
       "    .dataframe tbody tr th:only-of-type {\n",
       "        vertical-align: middle;\n",
       "    }\n",
       "\n",
       "    .dataframe tbody tr th {\n",
       "        vertical-align: top;\n",
       "    }\n",
       "\n",
       "    .dataframe thead th {\n",
       "        text-align: right;\n",
       "    }\n",
       "</style>\n",
       "<table border=\"1\" class=\"dataframe\">\n",
       "  <thead>\n",
       "    <tr style=\"text-align: right;\">\n",
       "      <th></th>\n",
       "      <th>chr</th>\n",
       "      <th>start</th>\n",
       "      <th>end</th>\n",
       "      <th>strand</th>\n",
       "      <th>Homeostatic Predictions</th>\n",
       "      <th>Homeostatic Predictions RC</th>\n",
       "      <th>Differential Predictions</th>\n",
       "      <th>Differential Predictions RC</th>\n",
       "    </tr>\n",
       "  </thead>\n",
       "  <tbody>\n",
       "    <tr>\n",
       "      <td>0</td>\n",
       "      <td>chr8</td>\n",
       "      <td>40594980</td>\n",
       "      <td>40595979</td>\n",
       "      <td>+</td>\n",
       "      <td>0.931042</td>\n",
       "      <td>0.896996</td>\n",
       "      <td>0.999982</td>\n",
       "      <td>0.998347</td>\n",
       "    </tr>\n",
       "    <tr>\n",
       "      <td>1</td>\n",
       "      <td>chr17</td>\n",
       "      <td>47395262</td>\n",
       "      <td>47396261</td>\n",
       "      <td>+</td>\n",
       "      <td>0.925941</td>\n",
       "      <td>0.945431</td>\n",
       "      <td>0.889835</td>\n",
       "      <td>0.820193</td>\n",
       "    </tr>\n",
       "    <tr>\n",
       "      <td>3</td>\n",
       "      <td>chr18</td>\n",
       "      <td>36727335</td>\n",
       "      <td>36728334</td>\n",
       "      <td>+</td>\n",
       "      <td>0.502969</td>\n",
       "      <td>0.830902</td>\n",
       "      <td>0.875302</td>\n",
       "      <td>0.787264</td>\n",
       "    </tr>\n",
       "    <tr>\n",
       "      <td>4</td>\n",
       "      <td>chr12</td>\n",
       "      <td>3854104</td>\n",
       "      <td>3855103</td>\n",
       "      <td>+</td>\n",
       "      <td>0.697546</td>\n",
       "      <td>0.739788</td>\n",
       "      <td>0.848480</td>\n",
       "      <td>0.584783</td>\n",
       "    </tr>\n",
       "    <tr>\n",
       "      <td>5</td>\n",
       "      <td>chr6</td>\n",
       "      <td>108740159</td>\n",
       "      <td>108741158</td>\n",
       "      <td>+</td>\n",
       "      <td>0.864241</td>\n",
       "      <td>0.827894</td>\n",
       "      <td>0.999877</td>\n",
       "      <td>0.935835</td>\n",
       "    </tr>\n",
       "  </tbody>\n",
       "</table>\n",
       "</div>"
      ],
      "text/plain": [
       "     chr      start        end strand  Homeostatic Predictions  \\\n",
       "0   chr8   40594980   40595979      +                 0.931042   \n",
       "1  chr17   47395262   47396261      +                 0.925941   \n",
       "3  chr18   36727335   36728334      +                 0.502969   \n",
       "4  chr12    3854104    3855103      +                 0.697546   \n",
       "5   chr6  108740159  108741158      +                 0.864241   \n",
       "\n",
       "   Homeostatic Predictions RC  Differential Predictions  \\\n",
       "0                    0.896996                  0.999982   \n",
       "1                    0.945431                  0.889835   \n",
       "3                    0.830902                  0.875302   \n",
       "4                    0.739788                  0.848480   \n",
       "5                    0.827894                  0.999877   \n",
       "\n",
       "   Differential Predictions RC  \n",
       "0                     0.998347  \n",
       "1                     0.820193  \n",
       "3                     0.787264  \n",
       "4                     0.584783  \n",
       "5                     0.935835  "
      ]
     },
     "execution_count": 60,
     "metadata": {},
     "output_type": "execute_result"
    }
   ],
   "source": [
    "bed_df_both.head()"
   ]
  },
  {
   "cell_type": "code",
   "execution_count": 54,
   "metadata": {},
   "outputs": [],
   "source": [
    "#building an index for use in all, peak_ids (chr_start_end)\n",
    "#bed_df_both.head()\n",
    "\n",
    "peak_ids_homeo = []\n",
    "for row in range(len(bed_df_control)):\n",
    "    peak = str(bed_df_control.iloc[row,0]) + \"_\" + str(bed_df_control.iloc[row,1]) + \"_\" + str(bed_df_control.iloc[row,2])\n",
    "    peak_ids_homeo.append(peak)"
   ]
  },
  {
   "cell_type": "code",
   "execution_count": 55,
   "metadata": {},
   "outputs": [],
   "source": [
    "#building an index for use in all, peak_ids (chr_start_end)\n",
    "#bed_df_both.head()\n",
    "\n",
    "peak_ids_diff = []\n",
    "for row in range(len(bed_df_diff)):\n",
    "    peak = str(bed_df_diff.iloc[row,0]) + \"_\" + str(bed_df_diff.iloc[row,1]) + \"_\" + str(bed_df_diff.iloc[row,2])\n",
    "    peak_ids_diff.append(peak)"
   ]
  },
  {
   "cell_type": "code",
   "execution_count": 56,
   "metadata": {},
   "outputs": [],
   "source": [
    "#building an index for use in all, peak_ids (chr_start_end)\n",
    "#bed_df_both.head()\n",
    "\n",
    "peak_ids_both = []\n",
    "for row in range(len(bed_df_both)):\n",
    "    peak = str(bed_df_both.iloc[row,0]) + \"_\" + str(bed_df_both.iloc[row,1]) + \"_\" + str(bed_df_both.iloc[row,2])\n",
    "    peak_ids_both.append(peak)"
   ]
  },
  {
   "cell_type": "code",
   "execution_count": 61,
   "metadata": {},
   "outputs": [
    {
     "name": "stdout",
     "output_type": "stream",
     "text": [
      "17909\n",
      "['chr8_40594980_40595979', 'chr17_47395262_47396261', 'chr18_36727335_36728334', 'chr12_3854104_3855103', 'chr6_108740159_108741158']\n",
      "12322\n",
      "['chr8_40594980_40595979', 'chr17_47395262_47396261', 'chr6_127351305_127352304', 'chr18_36727335_36728334', 'chr12_3854104_3855103']\n",
      "10077\n",
      "['chr8_40594980_40595979', 'chr17_47395262_47396261', 'chr18_36727335_36728334', 'chr12_3854104_3855103', 'chr6_108740159_108741158']\n"
     ]
    }
   ],
   "source": [
    "print(len(peak_ids_homeo))\n",
    "print(peak_ids_homeo[:5])\n",
    "print(len(peak_ids_diff))\n",
    "print(peak_ids_diff[:5])\n",
    "print(len(peak_ids_both))\n",
    "print(peak_ids_both[:5])"
   ]
  },
  {
   "cell_type": "markdown",
   "metadata": {},
   "source": [
    "### Homeostatic\n",
    "- Scores 1 = homeo pos data\n",
    "- Scores 2 = both pos data"
   ]
  },
  {
   "cell_type": "code",
   "execution_count": 62,
   "metadata": {},
   "outputs": [
    {
     "data": {
      "text/plain": [
       "(17909, 300)"
      ]
     },
     "execution_count": 62,
     "metadata": {},
     "output_type": "execute_result"
    }
   ],
   "source": [
    "weights1 = []\n",
    "for sample_index in range(len(scores1)//2):\n",
    "    sample_scores1 = np.array([scores1[sample_index*2], scores1[sample_index*2+1][::-1]])\n",
    "    sample_score1 = np.array([sample_scores1[j,i] for i,j in enumerate(np.argmax(np.absolute(sample_scores1), axis=0))])\n",
    "    weights1.append(sample_score1)\n",
    "weights1 = np.array(weights1)\n",
    "weights1.shape"
   ]
  },
  {
   "cell_type": "code",
   "execution_count": 64,
   "metadata": {},
   "outputs": [
    {
     "name": "stdout",
     "output_type": "stream",
     "text": [
      "(17909, 300)\n"
     ]
    }
   ],
   "source": [
    "#writing this to a file so can use in other notebooks\n",
    "#want to include some sort of index here too... maybe peak IDs?\n",
    "\n",
    "control_nt_weights1 = \"/home/hmummey/model/210301_NCoRWT_secondset/C57_homeostatic_nt_weights_unionpeaks_homeo+.txt\"\n",
    "weights_df1 = pd.DataFrame(weights1)\n",
    "weights_df1.index = peak_ids_homeo\n",
    "print(weights_df1.shape)\n",
    "#control_weights_df.head()\n",
    "weights_df1.to_csv(control_nt_weights1,index = True, sep='\\t')"
   ]
  },
  {
   "cell_type": "code",
   "execution_count": 66,
   "metadata": {},
   "outputs": [
    {
     "data": {
      "text/plain": [
       "(10077, 300)"
      ]
     },
     "execution_count": 66,
     "metadata": {},
     "output_type": "execute_result"
    }
   ],
   "source": [
    "weights2 = []\n",
    "for sample_index in range(len(scores2)//2):\n",
    "    sample_scores2 = np.array([scores2[sample_index*2], scores2[sample_index*2+1][::-1]])\n",
    "    sample_score2 = np.array([sample_scores2[j,i] for i,j in enumerate(np.argmax(np.absolute(sample_scores2), axis=0))])\n",
    "    weights2.append(sample_score2)\n",
    "weights2 = np.array(weights2)\n",
    "weights2.shape"
   ]
  },
  {
   "cell_type": "code",
   "execution_count": 68,
   "metadata": {},
   "outputs": [
    {
     "name": "stdout",
     "output_type": "stream",
     "text": [
      "(10077, 300)\n"
     ]
    }
   ],
   "source": [
    "#writing this to a file so can use in other notebooks\n",
    "#want to include some sort of index here too... maybe peak IDs?\n",
    "\n",
    "control_nt_weights2 = \"/home/hmummey/model/210301_NCoRWT_secondset/C57_homeostatic_nt_weights_unionpeaks_both+.txt\"\n",
    "weights_df2 = pd.DataFrame(weights2)\n",
    "weights_df2.index = peak_ids_both\n",
    "print(weights_df2.shape)\n",
    "#control_weights_df.head()\n",
    "weights_df2.to_csv(control_nt_weights2,index = True, sep='\\t')"
   ]
  },
  {
   "cell_type": "markdown",
   "metadata": {},
   "source": [
    "### Differential model\n",
    "- Scores 3 = diff pos data\n",
    "- Scores 4 = both pos data"
   ]
  },
  {
   "cell_type": "code",
   "execution_count": 70,
   "metadata": {},
   "outputs": [
    {
     "data": {
      "text/plain": [
       "(12322, 300)"
      ]
     },
     "execution_count": 70,
     "metadata": {},
     "output_type": "execute_result"
    }
   ],
   "source": [
    "weights3 = []\n",
    "for sample_index in range(len(scores3)//2):\n",
    "    sample_scores3 = np.array([scores3[sample_index*2], scores3[sample_index*2+1][::-1]])\n",
    "    sample_score3 = np.array([sample_scores3[j,i] for i,j in enumerate(np.argmax(np.absolute(sample_scores3), axis=0))])\n",
    "    weights3.append(sample_score3)\n",
    "weights3 = np.array(weights3)\n",
    "weights3.shape"
   ]
  },
  {
   "cell_type": "code",
   "execution_count": 72,
   "metadata": {},
   "outputs": [
    {
     "name": "stdout",
     "output_type": "stream",
     "text": [
      "(12322, 300)\n"
     ]
    }
   ],
   "source": [
    "#writing this to a file so can use in other notebooks\n",
    "#want to include some sort of index here too... maybe peak IDs?\n",
    "\n",
    "diff_nt_weights3 = \"/home/hmummey/model/210301_NCoRWT_secondset/C57_AMLN_diff_nt_weights_unionpeaks_diff+.txt\"\n",
    "weights_df3 = pd.DataFrame(weights3)\n",
    "weights_df3.index = peak_ids_diff\n",
    "print(weights_df3.shape)\n",
    "#control_weights_df.head()\n",
    "weights_df3.to_csv(diff_nt_weights3,index = True, sep='\\t')"
   ]
  },
  {
   "cell_type": "code",
   "execution_count": 73,
   "metadata": {},
   "outputs": [
    {
     "data": {
      "text/plain": [
       "(10077, 300)"
      ]
     },
     "execution_count": 73,
     "metadata": {},
     "output_type": "execute_result"
    }
   ],
   "source": [
    "weights4 = []\n",
    "for sample_index in range(len(scores4)//2):\n",
    "    sample_scores4 = np.array([scores4[sample_index*2], scores4[sample_index*2+1][::-1]])\n",
    "    sample_score4 = np.array([sample_scores4[j,i] for i,j in enumerate(np.argmax(np.absolute(sample_scores4), axis=0))])\n",
    "    weights4.append(sample_score4)\n",
    "weights4 = np.array(weights4)\n",
    "weights4.shape"
   ]
  },
  {
   "cell_type": "code",
   "execution_count": 74,
   "metadata": {},
   "outputs": [
    {
     "name": "stdout",
     "output_type": "stream",
     "text": [
      "(10077, 300)\n"
     ]
    }
   ],
   "source": [
    "#writing this to a file so can use in other notebooks\n",
    "#want to include some sort of index here too... maybe peak IDs?\n",
    "\n",
    "diff_nt_weights4 = \"/home/hmummey/model/210301_NCoRWT_secondset/C57_AMLN_diff_nt_weights_unionpeaks_both+.txt\"\n",
    "weights_df4 = pd.DataFrame(weights4)\n",
    "weights_df4.index = peak_ids_both\n",
    "print(weights_df4.shape)\n",
    "#control_weights_df.head()\n",
    "weights_df4.to_csv(diff_nt_weights4,index = True, sep='\\t')"
   ]
  },
  {
   "cell_type": "markdown",
   "metadata": {},
   "source": [
    "### Smooth Weights"
   ]
  },
  {
   "cell_type": "code",
   "execution_count": 65,
   "metadata": {},
   "outputs": [
    {
     "name": "stdout",
     "output_type": "stream",
     "text": [
      "(17909, 300)\n"
     ]
    }
   ],
   "source": [
    "proc_range = 1\n",
    "smooth_weights1 = np.array([[np.mean(np.abs(w[max(0, i-proc_range):min(len(w), i+proc_range+1)]))\n",
    "                         for i in range(len(w))] for w in weights1])\n",
    "print(smooth_weights1.shape)"
   ]
  },
  {
   "cell_type": "code",
   "execution_count": 69,
   "metadata": {},
   "outputs": [
    {
     "name": "stdout",
     "output_type": "stream",
     "text": [
      "(10077, 300)\n"
     ]
    }
   ],
   "source": [
    "proc_range = 1\n",
    "smooth_weights2 = np.array([[np.mean(np.abs(w[max(0, i-proc_range):min(len(w), i+proc_range+1)]))\n",
    "                         for i in range(len(w))] for w in weights2])\n",
    "print(smooth_weights2.shape)"
   ]
  },
  {
   "cell_type": "code",
   "execution_count": 75,
   "metadata": {},
   "outputs": [
    {
     "name": "stdout",
     "output_type": "stream",
     "text": [
      "(12322, 300)\n"
     ]
    }
   ],
   "source": [
    "proc_range = 1\n",
    "smooth_weights3 = np.array([[np.mean(np.abs(w[max(0, i-proc_range):min(len(w), i+proc_range+1)]))\n",
    "                         for i in range(len(w))] for w in weights3])\n",
    "print(smooth_weights3.shape)"
   ]
  },
  {
   "cell_type": "code",
   "execution_count": 76,
   "metadata": {},
   "outputs": [
    {
     "name": "stdout",
     "output_type": "stream",
     "text": [
      "(10077, 300)\n"
     ]
    }
   ],
   "source": [
    "proc_range = 1\n",
    "smooth_weights4 = np.array([[np.mean(np.abs(w[max(0, i-proc_range):min(len(w), i+proc_range+1)]))\n",
    "                         for i in range(len(w))] for w in weights4])\n",
    "print(smooth_weights4.shape)"
   ]
  },
  {
   "cell_type": "markdown",
   "metadata": {},
   "source": [
    "# Visualize importance scores for individual site"
   ]
  },
  {
   "cell_type": "code",
   "execution_count": 77,
   "metadata": {},
   "outputs": [
    {
     "data": {
      "text/plain": [
       "('CTCAAGTCAGAAAATCCCCGAGGTTTTCACCTCTTCTGTCACAGCAGTCTGGAAAGGGCCAGGCTTACTGGGCTGGGAGTTTCTCTGGAAAAGAAATGGCAAGTGACACACAGCTTTCAGTCTGGGTGATGCAGGGCTCCGGTTACTATGCGCAAATGAGTCACATTGGTGGTTAATTCTAAGGGGAAAGTCATCAAAGCAGCAGCATGGAGAAAGTACCATTCAGTGGCTGTGCTTCACTCTCTCTCTCTCCTTCCTTGTTCAAGGACAGCTGAATAGTTGAGAAACAAAGACATCCGA',\n",
       " 1,\n",
       " 'chr8',\n",
       " 40595329,\n",
       " 40595629,\n",
       " 'chr8_40595329_40595629_C57')"
      ]
     },
     "execution_count": 77,
     "metadata": {},
     "output_type": "execute_result"
    }
   ],
   "source": [
    "homeo_pos_data[0]"
   ]
  },
  {
   "cell_type": "code",
   "execution_count": 78,
   "metadata": {},
   "outputs": [
    {
     "data": {
      "text/plain": [
       "('CTCAAGTCAGAAAATCCCCGAGGTTTTCACCTCTTCTGTCACAGCAGTCTGGAAAGGGCCAGGCTTACTGGGCTGGGAGTTTCTCTGGAAAAGAAATGGCAAGTGACACACAGCTTTCAGTCTGGGTGATGCAGGGCTCCGGTTACTATGCGCAAATGAGTCACATTGGTGGTTAATTCTAAGGGGAAAGTCATCAAAGCAGCAGCATGGAGAAAGTACCATTCAGTGGCTGTGCTTCACTCTCTCTCTCTCCTTCCTTGTTCAAGGACAGCTGAATAGTTGAGAAACAAAGACATCCGA',\n",
       " 1,\n",
       " 'chr8',\n",
       " 40595329,\n",
       " 40595629,\n",
       " 'chr8_40595329_40595629_C57')"
      ]
     },
     "execution_count": 78,
     "metadata": {},
     "output_type": "execute_result"
    }
   ],
   "source": [
    "diff_pos_data[0]"
   ]
  },
  {
   "cell_type": "code",
   "execution_count": 79,
   "metadata": {},
   "outputs": [
    {
     "data": {
      "text/plain": [
       "('CTCAAGTCAGAAAATCCCCGAGGTTTTCACCTCTTCTGTCACAGCAGTCTGGAAAGGGCCAGGCTTACTGGGCTGGGAGTTTCTCTGGAAAAGAAATGGCAAGTGACACACAGCTTTCAGTCTGGGTGATGCAGGGCTCCGGTTACTATGCGCAAATGAGTCACATTGGTGGTTAATTCTAAGGGGAAAGTCATCAAAGCAGCAGCATGGAGAAAGTACCATTCAGTGGCTGTGCTTCACTCTCTCTCTCTCCTTCCTTGTTCAAGGACAGCTGAATAGTTGAGAAACAAAGACATCCGA',\n",
       " 1,\n",
       " 'chr8',\n",
       " 40595329,\n",
       " 40595629,\n",
       " 'chr8_40595329_40595629_C57')"
      ]
     },
     "execution_count": 79,
     "metadata": {},
     "output_type": "execute_result"
    }
   ],
   "source": [
    "both_pos_data[0]"
   ]
  },
  {
   "cell_type": "code",
   "execution_count": 80,
   "metadata": {
    "scrolled": false
   },
   "outputs": [
    {
     "data": {
      "image/png": "[encoded data removed]",
      "text/plain": [
       "<Figure size 1224x230.4 with 1 Axes>"
      ]
     },
     "metadata": {},
     "output_type": "display_data"
    }
   ],
   "source": [
    "s = 'chr8_40595329_40595629_C57'\n",
    "\n",
    "sns.set(style='white', font_scale=1.5)\n",
    "plt.figure(figsize=(17,3.2))\n",
    "w = np.abs(smooth_weights1[np.array(homeo_pos_data)[:,-1] == s][0])\n",
    "plt.scatter(np.arange(len(w)), w, s=60, c='#3A90E3',zorder=10)\n",
    "plt.axhline(np.sort(w)[240], c='orangered', linestyle='--', linewidth=3)\n",
    "plt.xlim(0,300)\n",
    "plt.xlabel('position')\n",
    "plt.ylabel('abs. DeepLIFT score')\n",
    "sns.despine(top=True, bottom=True)\n",
    "plt.tight_layout()"
   ]
  },
  {
   "cell_type": "code",
   "execution_count": 81,
   "metadata": {
    "scrolled": false
   },
   "outputs": [
    {
     "data": {
      "image/png": "[encoded data removed]",
      "text/plain": [
       "<Figure size 1224x230.4 with 1 Axes>"
      ]
     },
     "metadata": {},
     "output_type": "display_data"
    }
   ],
   "source": [
    "s = 'chr8_40595329_40595629_C57'\n",
    "\n",
    "sns.set(style='white', font_scale=1.5)\n",
    "plt.figure(figsize=(17,3.2))\n",
    "w = np.abs(smooth_weights2[np.array(both_pos_data)[:,-1] == s][0])\n",
    "plt.scatter(np.arange(len(w)), w, s=60, c='#3A90E3',zorder=10)\n",
    "plt.axhline(np.sort(w)[240], c='orangered', linestyle='--', linewidth=3)\n",
    "plt.xlim(0,300)\n",
    "plt.xlabel('position')\n",
    "plt.ylabel('abs. DeepLIFT score')\n",
    "sns.despine(top=True, bottom=True)\n",
    "plt.tight_layout()"
   ]
  },
  {
   "cell_type": "code",
   "execution_count": 82,
   "metadata": {
    "scrolled": false
   },
   "outputs": [
    {
     "data": {
      "image/png": "[encoded data removed]",
      "text/plain": [
       "<Figure size 1224x230.4 with 1 Axes>"
      ]
     },
     "metadata": {},
     "output_type": "display_data"
    }
   ],
   "source": [
    "s = 'chr8_40595329_40595629_C57'\n",
    "\n",
    "sns.set(style='white', font_scale=1.5)\n",
    "plt.figure(figsize=(17,3.2))\n",
    "w = np.abs(smooth_weights3[np.array(diff_pos_data)[:,-1] == s][0])\n",
    "plt.scatter(np.arange(len(w)), w, s=60, c='#3A90E3',zorder=10)\n",
    "plt.axhline(np.sort(w)[240], c='orangered', linestyle='--', linewidth=3)\n",
    "plt.xlim(0,300)\n",
    "plt.xlabel('position')\n",
    "plt.ylabel('abs. DeepLIFT score')\n",
    "sns.despine(top=True, bottom=True)\n",
    "plt.tight_layout()"
   ]
  },
  {
   "cell_type": "code",
   "execution_count": 83,
   "metadata": {
    "scrolled": false
   },
   "outputs": [
    {
     "data": {
      "image/png": "[encoded data removed]",
      "text/plain": [
       "<Figure size 1224x230.4 with 1 Axes>"
      ]
     },
     "metadata": {},
     "output_type": "display_data"
    }
   ],
   "source": [
    "s = 'chr8_40595329_40595629_C57'\n",
    "\n",
    "sns.set(style='white', font_scale=1.5)\n",
    "plt.figure(figsize=(17,3.2))\n",
    "w = np.abs(smooth_weights4[np.array(both_pos_data)[:,-1] == s][0])\n",
    "plt.scatter(np.arange(len(w)), w, s=60, c='#3A90E3',zorder=10)\n",
    "plt.axhline(np.sort(w)[240], c='orangered', linestyle='--', linewidth=3)\n",
    "plt.xlim(0,300)\n",
    "plt.xlabel('position')\n",
    "plt.ylabel('abs. DeepLIFT score')\n",
    "sns.despine(top=True, bottom=True)\n",
    "plt.tight_layout()"
   ]
  },
  {
   "cell_type": "code",
   "execution_count": null,
   "metadata": {},
   "outputs": [],
   "source": []
  },
  {
   "cell_type": "code",
   "execution_count": null,
   "metadata": {},
   "outputs": [],
   "source": []
  },
  {
   "cell_type": "code",
   "execution_count": null,
   "metadata": {},
   "outputs": [],
   "source": []
  },
  {
   "cell_type": "code",
   "execution_count": null,
   "metadata": {},
   "outputs": [],
   "source": []
  }
 ],
 "metadata": {
  "kernelspec": {
   "display_name": "zs-deeplift",
   "language": "python",
   "name": "zs-deeplift"
  },
  "language_info": {
   "codemirror_mode": {
    "name": "ipython",
    "version": 3
   },
   "file_extension": ".py",
   "mimetype": "text/x-python",
   "name": "python",
   "nbconvert_exporter": "python",
   "pygments_lexer": "ipython3",
   "version": "3.7.4"
  }
 },
 "nbformat": 4,
 "nbformat_minor": 2
}
