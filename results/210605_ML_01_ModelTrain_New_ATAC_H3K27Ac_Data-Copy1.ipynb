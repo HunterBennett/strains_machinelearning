{
 "cells": [
  {
   "cell_type": "markdown",
   "metadata": {},
   "source": [
    "#### Summary:\n",
    "In this notebook I will make 2 new DL CNN models based on active enhancers: one for homeostatic KCs (based on peaks from control C57 KCs) and one for differential peaks in NASH (based on peaks specific for AMLN C57 KCs, with control peaks as background). For the second model I will also adjust the partitioning of data to maximize the amount of data in the training set, by getting rid of a testing set."
   ]
  },
  {
   "cell_type": "code",
   "execution_count": 1,
   "metadata": {},
   "outputs": [],
   "source": [
    "from __future__ import print_function\n",
    "import numpy as np\n",
    "import pandas as pd\n",
    "from collections import Counter\n",
    "import sys\n",
    "import random\n",
    "import os\n",
    "import fnmatch\n",
    "import sys\n",
    "\n",
    "#both of these can be imported to python in the terminal in zs-deeplift env\n",
    "from Bio import SeqIO\n",
    "from Bio.Seq import Seq"
   ]
  },
  {
   "cell_type": "code",
   "execution_count": 2,
   "metadata": {},
   "outputs": [],
   "source": [
    "dataDirectory = '/home/h1bennet/strains/data/ATAC/control_cohort2/'\n",
    "workingDirectory = '/home/h1bennet//strains_machinelearning/results/00_New_ATAC_H3K27Ac_Model/'\n",
    "if not os.path.isdir(workingDirectory):\n",
    "    os.mkdir(workingDirectory)\n",
    "os.chdir(workingDirectory)\n"
   ]
  },
  {
   "cell_type": "markdown",
   "metadata": {},
   "source": [
    "# prepare data"
   ]
  },
  {
   "cell_type": "code",
   "execution_count": 3,
   "metadata": {},
   "outputs": [],
   "source": [
    "def load_genome(ref_path):\n",
    "    ref_dict = {}\n",
    "    for seq in SeqIO.parse(ref_path, \"fasta\"):\n",
    "        chromID = seq.id\n",
    "        chromSeq = (str(seq.seq)).upper()\n",
    "        ref_dict[chromID] = chromSeq\n",
    "    return ref_dict"
   ]
  },
  {
   "cell_type": "code",
   "execution_count": 4,
   "metadata": {},
   "outputs": [],
   "source": [
    "ref_path = \"/home/zes017/genomes/mm10/mm10.fa\"\n",
    "genomes = load_genome(ref_path)"
   ]
  },
  {
   "cell_type": "markdown",
   "metadata": {},
   "source": [
    "### BED/peak file"
   ]
  },
  {
   "cell_type": "code",
   "execution_count": 5,
   "metadata": {},
   "outputs": [],
   "source": [
    "def data_prep(path, genomes, label, size=500, rep=1, shift=None):\n",
    "    print (\"Scaled to %d\" % (size))\n",
    "    if shift is None:\n",
    "        shifts = size//rep*np.arange(-rep//2+1,rep//2+1)\n",
    "    elif type(shift) is int:\n",
    "        shifts = np.abs(shift)*np.arange(-rep//2+1,rep//2+1)\n",
    "    elif type(shift) is list:\n",
    "        if len(shift) != rep:\n",
    "            raise TypeError(\"Number of shift unequal to replicates\")\n",
    "        shifts = np.array(shift)\n",
    "    if rep == 1 and shift is not None:\n",
    "        random_shift = True\n",
    "        print(\"Random shifting within %s\" % (str(-np.abs(shift))+'~'+str(np.abs(shift))))\n",
    "    else:\n",
    "        random_shift = False\n",
    "        print(\"Generate replicates by shifting %s bp\" % (','.join(shifts.astype(str))))\n",
    "    \n",
    "    data_list = []\n",
    "    for line in open(path):\n",
    "        elems = line.split()\n",
    "        chromID = elems[0]\n",
    "        start, end = int(elems[1]), int(elems[2])\n",
    "        length = end-start\n",
    "        mid = (start+end)//2\n",
    "        for s in shifts:\n",
    "            if random_shift:\n",
    "                new_mid = mid + np.random.choice(np.arange(-np.abs(shift), np.abs(shift)+1))\n",
    "            else:\n",
    "                new_mid = mid + s\n",
    "            start = new_mid - size//2\n",
    "            end = new_mid + size//2\n",
    "            seq = genomes[chromID][start:end]\n",
    "            if len(seq) != size:\n",
    "                continue\n",
    "            data_point = (seq, label, chromID, start, end)\n",
    "            data_list.append(data_point)\n",
    "    return data_list"
   ]
  },
  {
   "cell_type": "code",
   "execution_count": 6,
   "metadata": {
    "scrolled": true
   },
   "outputs": [
    {
     "name": "stdout",
     "output_type": "stream",
     "text": [
      "Scaled to 300\n",
      "Generate replicates by shifting 0 bp\n",
      "Scaled to 300\n",
      "Generate replicates by shifting 0 bp\n",
      "37141 37141\n"
     ]
    }
   ],
   "source": [
    "# poised model\n",
    "pos_data_path = \"/home/h1bennet/strains_machinelearning/results/00_New_ATAC_H3K27Ac_Model/bed_files/poised_enhancers.bed\"\n",
    "pos_data_poised = data_prep(pos_data_path, genomes, 1, size=300, rep=1, shift=None)\n",
    "neg_data_path = \"/home/h1bennet/strains_machinelearning/results/00_New_ATAC_H3K27Ac_Model/bg_files/poised_enhancersbg.bed\"\n",
    "neg_data_poised = data_prep(neg_data_path, genomes, 0, size=300, rep=1, shift=None)\n",
    "\n",
    "print(len(pos_data_poised), len(neg_data_poised))"
   ]
  },
  {
   "cell_type": "code",
   "execution_count": 7,
   "metadata": {},
   "outputs": [
    {
     "name": "stdout",
     "output_type": "stream",
     "text": [
      "Scaled to 300\n",
      "Generate replicates by shifting 0 bp\n",
      "Scaled to 300\n",
      "Generate replicates by shifting 0 bp\n",
      "36151 36151\n"
     ]
    }
   ],
   "source": [
    "# active model\n",
    "pos_data_active_path = \"/home/h1bennet/strains_machinelearning/results/00_New_ATAC_H3K27Ac_Model/bed_files/active_enhancers.bed\"\n",
    "pos_data_active = data_prep(pos_data_active_path, genomes, 1, size=300, rep=1, shift=None)\n",
    "neg_data_active_path = \"/home/h1bennet/strains_machinelearning/results/00_New_ATAC_H3K27Ac_Model/bg_files/active_enhancersbg.bed\"\n",
    "neg_data_active = data_prep(neg_data_active_path, genomes, 0, size=300, rep=1, shift=None)\n",
    "\n",
    "print(len(pos_data_active), len(neg_data_active))"
   ]
  },
  {
   "cell_type": "code",
   "execution_count": 8,
   "metadata": {},
   "outputs": [],
   "source": [
    "def create_dataset(dataset, train, valid, test):\n",
    "    for data_point in dataset:\n",
    "        chromID = data_point[2]\n",
    "        if chromID == \"chr8\":\n",
    "            valid.append(data_point)\n",
    "        elif chromID == \"chr9\":\n",
    "            test.append(data_point)\n",
    "        else:\n",
    "            train.append(data_point)\n",
    "\n",
    "#version that eliminates the test set\n",
    "def create_dataset2(dataset, train, valid):\n",
    "    for data_point in dataset:\n",
    "        chromID = data_point[2]\n",
    "        if chromID == \"chr8\":\n",
    "            valid.append(data_point)\n",
    "#         elif chromID == \"chr9\":\n",
    "#             test.append(data_point) #just take this out?\n",
    "        else:\n",
    "            train.append(data_point)\n",
    "            \n",
    "def dataset2onehot(dataset, shuffle=True):\n",
    "    nucleotides = [\"A\", \"T\", \"C\", \"G\"]\n",
    "    def seq2onehot(seq):\n",
    "        onehot_list = []\n",
    "        for nuc in seq:\n",
    "            if nuc == \"N\":\n",
    "                onehot = [0.25 for _ in range(len(nucleotides))]\n",
    "                onehot_list.append(onehot)\n",
    "            else:\n",
    "                onehot = [0 for _ in range(len(nucleotides))]\n",
    "                onehot[nucleotides.index(nuc)] = 1\n",
    "                onehot_list.append(onehot)\n",
    "        return onehot_list\n",
    "    \n",
    "    def rc(seq):\n",
    "        return str((Seq(seq)).reverse_complement())\n",
    "    \n",
    "    onehot_dataset = []\n",
    "    for (seq, label, chromID, start, end) in dataset:\n",
    "        onehot_dataset.append((seq2onehot(seq), label, (chromID, start, end, \"+\")))\n",
    "        onehot_dataset.append((seq2onehot(rc(seq)), label, (chromID, start, end, \"-\")))\n",
    "    \n",
    "    if shuffle:\n",
    "        random.shuffle(onehot_dataset)\n",
    "    \n",
    "    x_list, y_list, info_list = [], [], [] \n",
    "    for (x, y, info) in onehot_dataset:\n",
    "        x_list.append(x)\n",
    "        y_list.append(y)\n",
    "        info_list.append(info)\n",
    "    return np.array(x_list), np.array(y_list), info_list"
   ]
  },
  {
   "cell_type": "code",
   "execution_count": 9,
   "metadata": {},
   "outputs": [],
   "source": [
    "#poised\n",
    "train_raw, valid_raw, test_raw = [], [], []\n",
    "create_dataset(pos_data_poised, train_raw, valid_raw, test_raw)\n",
    "create_dataset(neg_data_poised, train_raw, valid_raw, test_raw)\n",
    "x_train, y_train, info_train = dataset2onehot(train_raw)\n",
    "x_valid, y_valid, info_valid = dataset2onehot(valid_raw)\n",
    "x_test, y_test, info_test = dataset2onehot(test_raw)"
   ]
  },
  {
   "cell_type": "code",
   "execution_count": 10,
   "metadata": {},
   "outputs": [
    {
     "name": "stdout",
     "output_type": "stream",
     "text": [
      "Training set:\n",
      "(133490, 300, 4)\n",
      "(133490,)\n",
      "Validation set:\n",
      "(7454, 300, 4)\n",
      "(7454,)\n",
      "Testing set:\n",
      "(7620, 300, 4)\n",
      "(7620,)\n"
     ]
    }
   ],
   "source": [
    "print('Training set:')\n",
    "print(x_train.shape)\n",
    "print(y_train.shape)\n",
    "print('Validation set:')\n",
    "print(x_valid.shape)\n",
    "print(y_valid.shape)\n",
    "print('Testing set:')\n",
    "print(x_test.shape)\n",
    "print(y_test.shape)"
   ]
  },
  {
   "cell_type": "code",
   "execution_count": 11,
   "metadata": {},
   "outputs": [],
   "source": [
    "#active\n",
    "train_raw_active, valid_raw_active, test_raw_active = [], [], []\n",
    "create_dataset(pos_data_active, train_raw_active, valid_raw_active, test_raw_active)\n",
    "create_dataset(neg_data_active, train_raw_active, valid_raw_active, test_raw_active)\n",
    "x_train_active, y_train_active, info_train_active = dataset2onehot(train_raw_active)\n",
    "x_valid_active, y_valid_active, info_valid_active = dataset2onehot(valid_raw_active)\n",
    "x_test_active, y_test_active, info_test_active = dataset2onehot(test_raw_active)"
   ]
  },
  {
   "cell_type": "code",
   "execution_count": 12,
   "metadata": {},
   "outputs": [
    {
     "name": "stdout",
     "output_type": "stream",
     "text": [
      "Training set:\n",
      "(130154, 300, 4)\n",
      "(130154,)\n",
      "Validation set:\n",
      "(7164, 300, 4)\n",
      "(7164, 300, 4)\n",
      "Testing set:\n",
      "(7286, 300, 4)\n",
      "(7286,)\n"
     ]
    }
   ],
   "source": [
    "print('Training set:')\n",
    "print(x_train_active.shape)\n",
    "print(y_train_active.shape)\n",
    "print('Validation set:')\n",
    "print(x_valid_active.shape)\n",
    "print(x_valid_active.shape)\n",
    "print('Testing set:')\n",
    "print(x_test_active.shape)\n",
    "print(y_test_active.shape)"
   ]
  },
  {
   "cell_type": "markdown",
   "metadata": {},
   "source": [
    "# Construct the model"
   ]
  },
  {
   "cell_type": "code",
   "execution_count": 13,
   "metadata": {},
   "outputs": [
    {
     "name": "stderr",
     "output_type": "stream",
     "text": [
      "Using TensorFlow backend.\n"
     ]
    }
   ],
   "source": [
    "# Train model in keras\n",
    "#\n",
    "import keras\n",
    "from keras.models import Sequential\n",
    "from keras.layers import Dense, Dropout, Flatten, BatchNormalization, Activation\n",
    "from keras.layers import Conv1D, GlobalAveragePooling1D, MaxPooling1D\n",
    "import tensorflow.keras.backend as K"
   ]
  },
  {
   "cell_type": "code",
   "execution_count": 14,
   "metadata": {},
   "outputs": [],
   "source": [
    "batch_size = 128\n",
    "num_classes = 1\n",
    "seq_size = 300\n",
    "n_channels = 4\n",
    "input_shape = (seq_size, n_channels)"
   ]
  },
  {
   "cell_type": "markdown",
   "metadata": {},
   "source": [
    "# Poised Enhancers"
   ]
  },
  {
   "cell_type": "code",
   "execution_count": 15,
   "metadata": {},
   "outputs": [
    {
     "name": "stdout",
     "output_type": "stream",
     "text": [
      "WARNING:tensorflow:From /home/h1bennet/anaconda3/envs/zs-deeplift/lib/python3.7/site-packages/tensorflow_core/python/ops/resource_variable_ops.py:1630: calling BaseResourceVariable.__init__ (from tensorflow.python.ops.resource_variable_ops) with constraint is deprecated and will be removed in a future version.\n",
      "Instructions for updating:\n",
      "If using Keras pass *_constraint arguments to layers.\n",
      "WARNING:tensorflow:From /home/h1bennet/anaconda3/envs/zs-deeplift/lib/python3.7/site-packages/keras/backend/tensorflow_backend.py:4070: The name tf.nn.max_pool is deprecated. Please use tf.nn.max_pool2d instead.\n",
      "\n"
     ]
    }
   ],
   "source": [
    "# model structure\n",
    "model = Sequential()\n",
    "# conv1\n",
    "model.add(Conv1D(320, kernel_size=8, strides=1, padding='valid',\n",
    "    kernel_initializer=keras.initializers.TruncatedNormal(stddev=1e-2),\n",
    "    kernel_regularizer=keras.regularizers.l2(5e-7),\n",
    "    bias_initializer=keras.initializers.Constant(value=0),\n",
    "    activity_regularizer=keras.regularizers.l1(1e-8),\n",
    "    input_shape=input_shape, name='conv1'))\n",
    "model.add(BatchNormalization(name = \"bn1\"))\n",
    "model.add(Activation('relu'))\n",
    "model.add(MaxPooling1D(pool_size=4, strides=4, padding='same'))\n",
    "model.add(Dropout(0.2))\n",
    "\n",
    "# conv2\n",
    "model.add(Conv1D(480, kernel_size=8, strides=1, padding='valid',\n",
    "    kernel_initializer=keras.initializers.TruncatedNormal(stddev=1e-2),\n",
    "    kernel_regularizer=keras.regularizers.l2(5e-7),\n",
    "    bias_initializer=keras.initializers.Constant(value=0),\n",
    "    activity_regularizer=keras.regularizers.l1(1e-8),\n",
    "    name='conv2'))\n",
    "model.add(BatchNormalization(name = \"bn2\"))\n",
    "model.add(Activation('relu'))\n",
    "model.add(MaxPooling1D(pool_size=4, strides=4, padding='same'))\n",
    "model.add(Dropout(0.2))\n",
    "\n",
    "# conv3\n",
    "model.add(Conv1D(960, kernel_size=8, strides=1, padding='valid',\n",
    "    kernel_initializer=keras.initializers.TruncatedNormal(stddev=1e-2),\n",
    "    kernel_regularizer=keras.regularizers.l2(5e-7),\n",
    "    bias_initializer=keras.initializers.Constant(value=0),\n",
    "    activity_regularizer=keras.regularizers.l1(1e-8),\n",
    "    name='conv3'))\n",
    "model.add(BatchNormalization(name = \"bn3\"))\n",
    "model.add(Activation('relu'))\n",
    "model.add(Dropout(0.5))\n",
    "\n",
    "model.add(Flatten())\n",
    "\n",
    "# fc1\n",
    "model.add(Dense(925,\n",
    "    kernel_initializer=keras.initializers.TruncatedNormal(stddev=1e-2),\n",
    "    kernel_regularizer=keras.regularizers.l2(5e-7),\n",
    "    bias_initializer=keras.initializers.Constant(value=0),\n",
    "    activity_regularizer=keras.regularizers.l1(1e-8)))\n",
    "model.add(Activation('relu'))\n",
    "\n",
    "# output\n",
    "model.add(Dense(num_classes,\n",
    "    kernel_initializer=keras.initializers.TruncatedNormal(stddev=1e-2),\n",
    "    kernel_regularizer=keras.regularizers.l2(5e-7),\n",
    "    bias_initializer=keras.initializers.Constant(value=0),\n",
    "    activity_regularizer=keras.regularizers.l1(1e-8)))\n",
    "model.add(Activation('sigmoid'))\n",
    "# end"
   ]
  },
  {
   "cell_type": "code",
   "execution_count": 16,
   "metadata": {},
   "outputs": [],
   "source": [
    "import tensorflow as tf\n",
    "def load_from_tf(name):\n",
    "    return tf.train.load_variable(\"/home/zes017/AD/data/AgentBind/benchmarking_dnase/data/model\", name=name)"
   ]
  },
  {
   "cell_type": "code",
   "execution_count": 17,
   "metadata": {},
   "outputs": [],
   "source": [
    "model.get_layer(\"conv1\").set_weights(\n",
    "    [load_from_tf('conv1/weights/ExponentialMovingAverage'),\n",
    "    load_from_tf('conv1/biases/ExponentialMovingAverage')])\n",
    "model.get_layer(\"conv2\").set_weights(\n",
    "    [load_from_tf('conv2/weights/ExponentialMovingAverage'),\n",
    "    load_from_tf('conv2/biases/ExponentialMovingAverage')])\n",
    "model.get_layer(\"conv3\").set_weights(\n",
    "    [load_from_tf('conv3/weights/ExponentialMovingAverage'),\n",
    "    load_from_tf('conv3/biases/ExponentialMovingAverage')])\n",
    "model.get_layer(\"bn1\").set_weights(\n",
    "    [load_from_tf('conv1/batch_normalization/gamma/ExponentialMovingAverage'),\n",
    "     load_from_tf('conv1/batch_normalization/beta/ExponentialMovingAverage'),\n",
    "    np.zeros(model.get_layer(\"bn1\").weights[2].shape),\n",
    "    np.zeros(model.get_layer(\"bn1\").weights[3].shape)])\n",
    "model.get_layer(\"bn2\").set_weights(\n",
    "    [load_from_tf('conv2/batch_normalization/gamma/ExponentialMovingAverage'),\n",
    "     load_from_tf('conv2/batch_normalization/beta/ExponentialMovingAverage'),\n",
    "    np.zeros(model.get_layer(\"bn2\").weights[2].shape),\n",
    "    np.zeros(model.get_layer(\"bn2\").weights[3].shape)])\n",
    "model.get_layer(\"bn3\").set_weights(\n",
    "    [load_from_tf('conv3/batch_normalization/gamma/ExponentialMovingAverage'),\n",
    "     load_from_tf('conv3/batch_normalization/beta/ExponentialMovingAverage'),\n",
    "    np.zeros(model.get_layer(\"bn3\").weights[2].shape),\n",
    "    np.zeros(model.get_layer(\"bn3\").weights[3].shape)])"
   ]
  },
  {
   "cell_type": "markdown",
   "metadata": {},
   "source": [
    "# Active Enhancer Model (model2)"
   ]
  },
  {
   "cell_type": "code",
   "execution_count": 18,
   "metadata": {},
   "outputs": [],
   "source": [
    "# model structure (same as prev, but second making a second model)\n",
    "model2 = Sequential()\n",
    "# conv1\n",
    "model2.add(Conv1D(320, kernel_size=8, strides=1, padding='valid',\n",
    "    kernel_initializer=keras.initializers.TruncatedNormal(stddev=1e-2),\n",
    "    kernel_regularizer=keras.regularizers.l2(5e-7),\n",
    "    bias_initializer=keras.initializers.Constant(value=0),\n",
    "    activity_regularizer=keras.regularizers.l1(1e-8),\n",
    "    input_shape=input_shape, name='conv1'))\n",
    "model2.add(BatchNormalization(name = \"bn1\"))\n",
    "model2.add(Activation('relu'))\n",
    "model2.add(MaxPooling1D(pool_size=4, strides=4, padding='same'))\n",
    "model2.add(Dropout(0.2))\n",
    "\n",
    "# conv2\n",
    "model2.add(Conv1D(480, kernel_size=8, strides=1, padding='valid',\n",
    "    kernel_initializer=keras.initializers.TruncatedNormal(stddev=1e-2),\n",
    "    kernel_regularizer=keras.regularizers.l2(5e-7),\n",
    "    bias_initializer=keras.initializers.Constant(value=0),\n",
    "    activity_regularizer=keras.regularizers.l1(1e-8),\n",
    "    name='conv2'))\n",
    "model2.add(BatchNormalization(name = \"bn2\"))\n",
    "model2.add(Activation('relu'))\n",
    "model2.add(MaxPooling1D(pool_size=4, strides=4, padding='same'))\n",
    "model2.add(Dropout(0.2))\n",
    "\n",
    "# conv3\n",
    "model2.add(Conv1D(960, kernel_size=8, strides=1, padding='valid',\n",
    "    kernel_initializer=keras.initializers.TruncatedNormal(stddev=1e-2),\n",
    "    kernel_regularizer=keras.regularizers.l2(5e-7),\n",
    "    bias_initializer=keras.initializers.Constant(value=0),\n",
    "    activity_regularizer=keras.regularizers.l1(1e-8),\n",
    "    name='conv3'))\n",
    "model2.add(BatchNormalization(name = \"bn3\"))\n",
    "model2.add(Activation('relu'))\n",
    "model2.add(Dropout(0.5))\n",
    "\n",
    "model2.add(Flatten())\n",
    "\n",
    "# fc1\n",
    "model2.add(Dense(925,\n",
    "    kernel_initializer=keras.initializers.TruncatedNormal(stddev=1e-2),\n",
    "    kernel_regularizer=keras.regularizers.l2(5e-7),\n",
    "    bias_initializer=keras.initializers.Constant(value=0),\n",
    "    activity_regularizer=keras.regularizers.l1(1e-8)))\n",
    "model2.add(Activation('relu'))\n",
    "\n",
    "# output\n",
    "model2.add(Dense(num_classes,\n",
    "    kernel_initializer=keras.initializers.TruncatedNormal(stddev=1e-2),\n",
    "    kernel_regularizer=keras.regularizers.l2(5e-7),\n",
    "    bias_initializer=keras.initializers.Constant(value=0),\n",
    "    activity_regularizer=keras.regularizers.l1(1e-8)))\n",
    "model2.add(Activation('sigmoid'))\n",
    "# end"
   ]
  },
  {
   "cell_type": "code",
   "execution_count": 19,
   "metadata": {},
   "outputs": [],
   "source": [
    "import tensorflow as tf\n",
    "def load_from_tf(name):\n",
    "    return tf.train.load_variable(\"/home/zes017/AD/data/AgentBind/benchmarking_dnase/data/model\", name=name)"
   ]
  },
  {
   "cell_type": "code",
   "execution_count": 20,
   "metadata": {},
   "outputs": [],
   "source": [
    "model2.get_layer(\"conv1\").set_weights(\n",
    "    [load_from_tf('conv1/weights/ExponentialMovingAverage'),\n",
    "    load_from_tf('conv1/biases/ExponentialMovingAverage')])\n",
    "model2.get_layer(\"conv2\").set_weights(\n",
    "    [load_from_tf('conv2/weights/ExponentialMovingAverage'),\n",
    "    load_from_tf('conv2/biases/ExponentialMovingAverage')])\n",
    "model2.get_layer(\"conv3\").set_weights(\n",
    "    [load_from_tf('conv3/weights/ExponentialMovingAverage'),\n",
    "    load_from_tf('conv3/biases/ExponentialMovingAverage')])\n",
    "model2.get_layer(\"bn1\").set_weights(\n",
    "    [load_from_tf('conv1/batch_normalization/gamma/ExponentialMovingAverage'),\n",
    "     load_from_tf('conv1/batch_normalization/beta/ExponentialMovingAverage'),\n",
    "    np.zeros(model2.get_layer(\"bn1\").weights[2].shape),\n",
    "    np.zeros(model2.get_layer(\"bn1\").weights[3].shape)])\n",
    "model2.get_layer(\"bn2\").set_weights(\n",
    "    [load_from_tf('conv2/batch_normalization/gamma/ExponentialMovingAverage'),\n",
    "     load_from_tf('conv2/batch_normalization/beta/ExponentialMovingAverage'),\n",
    "    np.zeros(model2.get_layer(\"bn2\").weights[2].shape),\n",
    "    np.zeros(model2.get_layer(\"bn2\").weights[3].shape)])\n",
    "model2.get_layer(\"bn3\").set_weights(\n",
    "    [load_from_tf('conv3/batch_normalization/gamma/ExponentialMovingAverage'),\n",
    "     load_from_tf('conv3/batch_normalization/beta/ExponentialMovingAverage'),\n",
    "    np.zeros(model2.get_layer(\"bn3\").weights[2].shape),\n",
    "    np.zeros(model2.get_layer(\"bn3\").weights[3].shape)])"
   ]
  },
  {
   "cell_type": "markdown",
   "metadata": {},
   "source": [
    "# Train the model"
   ]
  },
  {
   "cell_type": "code",
   "execution_count": 21,
   "metadata": {},
   "outputs": [],
   "source": [
    "if not os.path.isdir('./model_weights/'):\n",
    "    os.mkdir('./model_weights/')"
   ]
  },
  {
   "cell_type": "markdown",
   "metadata": {},
   "source": [
    "# Poised\n",
    "Set names: x_train, y_train, x_valid, y_valid, x_test, y_test"
   ]
  },
  {
   "cell_type": "code",
   "execution_count": 22,
   "metadata": {
    "scrolled": false
   },
   "outputs": [
    {
     "name": "stdout",
     "output_type": "stream",
     "text": [
      "WARNING:tensorflow:From /home/h1bennet/anaconda3/envs/zs-deeplift/lib/python3.7/site-packages/tensorflow_core/python/ops/nn_impl.py:183: where (from tensorflow.python.ops.array_ops) is deprecated and will be removed in a future version.\n",
      "Instructions for updating:\n",
      "Use tf.where in 2.0, which has the same broadcast rule as np.where\n",
      "WARNING:tensorflow:From /home/h1bennet/anaconda3/envs/zs-deeplift/lib/python3.7/site-packages/keras/backend/tensorflow_backend.py:422: The name tf.global_variables is deprecated. Please use tf.compat.v1.global_variables instead.\n",
      "\n",
      "Train on 133490 samples, validate on 7454 samples\n",
      "Epoch 1/20\n",
      "133490/133490 [==============================] - 439s 3ms/step - loss: 0.5975 - accuracy: 0.8312 - val_loss: 0.5048 - val_accuracy: 0.8640\n",
      "Epoch 2/20\n",
      "133490/133490 [==============================] - 438s 3ms/step - loss: 0.5392 - accuracy: 0.8442 - val_loss: 0.4790 - val_accuracy: 0.8658\n",
      "Epoch 3/20\n",
      "133490/133490 [==============================] - 438s 3ms/step - loss: 0.4945 - accuracy: 0.8513 - val_loss: 0.4768 - val_accuracy: 0.8575\n",
      "Epoch 4/20\n",
      "133490/133490 [==============================] - 441s 3ms/step - loss: 0.4728 - accuracy: 0.8554 - val_loss: 0.4369 - val_accuracy: 0.8731\n",
      "Epoch 5/20\n",
      "133490/133490 [==============================] - 440s 3ms/step - loss: 0.4638 - accuracy: 0.8563 - val_loss: 0.4263 - val_accuracy: 0.8728\n",
      "Epoch 6/20\n",
      "133490/133490 [==============================] - 440s 3ms/step - loss: 0.4551 - accuracy: 0.8563 - val_loss: 0.4255 - val_accuracy: 0.8764\n",
      "Epoch 7/20\n",
      "133490/133490 [==============================] - 439s 3ms/step - loss: 0.4478 - accuracy: 0.8584 - val_loss: 0.4109 - val_accuracy: 0.8752\n",
      "Epoch 8/20\n",
      "133490/133490 [==============================] - 440s 3ms/step - loss: 0.4430 - accuracy: 0.8599 - val_loss: 0.4166 - val_accuracy: 0.8645\n",
      "Epoch 9/20\n",
      "133490/133490 [==============================] - 438s 3ms/step - loss: 0.4374 - accuracy: 0.8601 - val_loss: 0.4042 - val_accuracy: 0.8748\n",
      "Epoch 10/20\n",
      "133490/133490 [==============================] - 439s 3ms/step - loss: 0.4323 - accuracy: 0.8615 - val_loss: 0.3902 - val_accuracy: 0.8822\n",
      "Epoch 11/20\n",
      "133490/133490 [==============================] - 441s 3ms/step - loss: 0.4291 - accuracy: 0.8627 - val_loss: 0.4081 - val_accuracy: 0.8721\n",
      "Epoch 12/20\n",
      "133490/133490 [==============================] - 441s 3ms/step - loss: 0.4264 - accuracy: 0.8625 - val_loss: 0.3964 - val_accuracy: 0.8756\n",
      "Epoch 13/20\n",
      "133490/133490 [==============================] - 438s 3ms/step - loss: 0.4215 - accuracy: 0.8634 - val_loss: 0.4083 - val_accuracy: 0.8703\n",
      "Epoch 14/20\n",
      "133490/133490 [==============================] - 438s 3ms/step - loss: 0.4206 - accuracy: 0.8639 - val_loss: 0.3883 - val_accuracy: 0.8763\n",
      "Epoch 15/20\n",
      "133490/133490 [==============================] - 440s 3ms/step - loss: 0.4218 - accuracy: 0.8609 - val_loss: 0.3808 - val_accuracy: 0.8819\n",
      "Epoch 16/20\n",
      "133490/133490 [==============================] - 440s 3ms/step - loss: 0.4181 - accuracy: 0.8629 - val_loss: 0.3793 - val_accuracy: 0.8825\n",
      "Epoch 17/20\n",
      "133490/133490 [==============================] - 439s 3ms/step - loss: 0.4161 - accuracy: 0.8620 - val_loss: 0.3937 - val_accuracy: 0.8731\n",
      "Epoch 18/20\n",
      "133490/133490 [==============================] - 442s 3ms/step - loss: 0.4128 - accuracy: 0.8636 - val_loss: 0.3764 - val_accuracy: 0.8794\n",
      "Epoch 19/20\n",
      "133490/133490 [==============================] - 443s 3ms/step - loss: 0.4123 - accuracy: 0.8642 - val_loss: 0.3816 - val_accuracy: 0.8823\n",
      "Epoch 20/20\n",
      "133490/133490 [==============================] - 441s 3ms/step - loss: 0.4070 - accuracy: 0.8654 - val_loss: 0.3854 - val_accuracy: 0.8770\n",
      "\n",
      "history dict: {'val_loss': [0.5048477362540505, 0.47899379301141537, 0.4767677412856383, 0.43688060366055076, 0.42625471632123024, 0.4254730482315102, 0.410921022251972, 0.416647200877717, 0.4042359336247097, 0.39022672813668596, 0.40810096119951556, 0.3964434479032664, 0.40827298164367676, 0.38830207575733294, 0.3808146208116891, 0.37931693547415546, 0.3937197916383618, 0.3764096085079112, 0.38159723194060646, 0.3854483451013562], 'val_accuracy': [0.863965630531311, 0.8658438324928284, 0.8575261831283569, 0.8730883002281189, 0.8728199601173401, 0.8764421939849854, 0.8752347826957703, 0.8645022511482239, 0.8748323321342468, 0.882210910320282, 0.8721491694450378, 0.8756372332572937, 0.8702709674835205, 0.876308023929596, 0.8819425702095032, 0.882479190826416, 0.8730883002281189, 0.8793936371803284, 0.8823450207710266, 0.8769788146018982], 'loss': [0.5975227947922376, 0.5391745056442683, 0.49454891393672074, 0.4728295868742787, 0.4638315941124018, 0.4550846218031367, 0.4478032255763909, 0.443010184415959, 0.43736756791987397, 0.4323430713477389, 0.4290584370142262, 0.4264026461723494, 0.4215193863767516, 0.4206400433049433, 0.42177854179309027, 0.41808156367901766, 0.4161185918831988, 0.4128097202967361, 0.4122706649280932, 0.40700089468456974], 'accuracy': [0.83120084, 0.84420556, 0.8513147, 0.85537493, 0.8563338, 0.8563039, 0.8583789, 0.8599146, 0.8601019, 0.8614653, 0.8626788, 0.86249906, 0.863428, 0.8639149, 0.8609334, 0.862941, 0.86200464, 0.86360025, 0.86415464, 0.8653532]}\n",
      "[0.5232871983884424, 0.8026351928710938]\n"
     ]
    }
   ],
   "source": [
    "model.compile(loss=keras.losses.binary_crossentropy,\n",
    "        optimizer=keras.optimizers.Adam(lr=1e-2),\n",
    "        metrics=['accuracy'])\n",
    "\n",
    "history = model.fit(x=x_train, y=y_train,\n",
    "            batch_size=batch_size,\n",
    "            epochs=20,\n",
    "            verbose=1,\n",
    "            validation_data=(x_valid, y_valid))\n",
    "score = model.evaluate(x_test_active, y_test_active, verbose=0, batch_size=batch_size)\n",
    "print('\\nhistory dict:', history.history)\n",
    "print(score)\n",
    "\n",
    "keras_model_weights = workingDirectory+\"/model_weights/modelWeights_300bp_C57BL6J_poised_epo20_RandomShift0bp.h5\"\n",
    "keras_model_json = workingDirectory+\"/model_weights/modelWeights_300bp_C57BL6J_poised_epo20_RandomShift0bp.json\"\n",
    "\n",
    "json_string = model.to_json() # architecture\n",
    "with open(keras_model_json, 'w') as json_file:\n",
    "    json_file.write(json_string)\n",
    "model.save_weights(keras_model_weights) # weights"
   ]
  },
  {
   "cell_type": "code",
   "execution_count": 23,
   "metadata": {},
   "outputs": [
    {
     "name": "stdout",
     "output_type": "stream",
     "text": [
      "AUC: 0.9503915895061728\n",
      "Accuracy: 0.8695538057742782\n"
     ]
    }
   ],
   "source": [
    "##Load model\n",
    "from keras.models import model_from_json\n",
    "\n",
    "model_weights = workingDirectory+\"/model_weights/modelWeights_300bp_C57BL6J_poised_epo20_RandomShift0bp.h5\"\n",
    "model_json = workingDirectory+\"/model_weights/modelWeights_300bp_C57BL6J_poised_epo20_RandomShift0bp.json\"\n",
    "\n",
    "model = model_from_json(open(model_json).read())\n",
    "model.load_weights(model_weights)\n",
    "model.compile(loss=keras.losses.binary_crossentropy,\n",
    "        optimizer=keras.optimizers.Adam(lr=1e-2),\n",
    "        metrics=['accuracy'])\n",
    "# model.evaluate(x_test, y_test, batch_size=batch_size)\n",
    "preds = model.predict(x_test).flatten()\n",
    "\n",
    "from sklearn import metrics\n",
    "fpr, tpr, thresholds = metrics.roc_curve(y_test, preds, pos_label=1)\n",
    "print('AUC:', metrics.auc(fpr, tpr))\n",
    "print('Accuracy:', metrics.accuracy_score(y_test, (preds>0.5)*1))"
   ]
  },
  {
   "cell_type": "markdown",
   "metadata": {},
   "source": [
    "# Active\n",
    "Set names: x_train_active, y_train_active, x_valid_active, y_valid_active, x_test_active, y_test_active"
   ]
  },
  {
   "cell_type": "code",
   "execution_count": 24,
   "metadata": {
    "scrolled": false
   },
   "outputs": [
    {
     "name": "stdout",
     "output_type": "stream",
     "text": [
      "Train on 130154 samples, validate on 7164 samples\n",
      "Epoch 1/20\n",
      "130154/130154 [==============================] - 426s 3ms/step - loss: 0.6941 - accuracy: 0.7728 - val_loss: 0.6450 - val_accuracy: 0.7659\n",
      "Epoch 2/20\n",
      "130154/130154 [==============================] - 423s 3ms/step - loss: 0.6205 - accuracy: 0.7852 - val_loss: 0.5665 - val_accuracy: 0.8092\n",
      "Epoch 3/20\n",
      "130154/130154 [==============================] - 424s 3ms/step - loss: 0.5790 - accuracy: 0.7914 - val_loss: 0.5357 - val_accuracy: 0.8185\n",
      "Epoch 4/20\n",
      "130154/130154 [==============================] - 427s 3ms/step - loss: 0.5640 - accuracy: 0.7927 - val_loss: 0.5207 - val_accuracy: 0.8086\n",
      "Epoch 5/20\n",
      "130154/130154 [==============================] - 423s 3ms/step - loss: 0.5520 - accuracy: 0.7952 - val_loss: 0.5301 - val_accuracy: 0.8148\n",
      "Epoch 6/20\n",
      "130154/130154 [==============================] - 425s 3ms/step - loss: 0.5435 - accuracy: 0.7960 - val_loss: 0.5159 - val_accuracy: 0.8110\n",
      "Epoch 7/20\n",
      "130154/130154 [==============================] - 428s 3ms/step - loss: 0.5383 - accuracy: 0.7968 - val_loss: 0.5349 - val_accuracy: 0.7998\n",
      "Epoch 8/20\n",
      "130154/130154 [==============================] - 426s 3ms/step - loss: 0.5372 - accuracy: 0.7969 - val_loss: 0.5118 - val_accuracy: 0.8135\n",
      "Epoch 9/20\n",
      "130154/130154 [==============================] - 424s 3ms/step - loss: 0.5290 - accuracy: 0.7988 - val_loss: 0.5161 - val_accuracy: 0.8032\n",
      "Epoch 10/20\n",
      "130154/130154 [==============================] - 422s 3ms/step - loss: 0.5248 - accuracy: 0.7985 - val_loss: 0.5037 - val_accuracy: 0.8102\n",
      "Epoch 11/20\n",
      "130154/130154 [==============================] - 426s 3ms/step - loss: 0.5242 - accuracy: 0.7987 - val_loss: 0.4974 - val_accuracy: 0.8107\n",
      "Epoch 12/20\n",
      "130154/130154 [==============================] - 424s 3ms/step - loss: 0.5196 - accuracy: 0.7988 - val_loss: 0.5133 - val_accuracy: 0.7980\n",
      "Epoch 13/20\n",
      "130154/130154 [==============================] - 422s 3ms/step - loss: 0.5174 - accuracy: 0.7981 - val_loss: 0.4876 - val_accuracy: 0.8162\n",
      "Epoch 14/20\n",
      "130154/130154 [==============================] - 424s 3ms/step - loss: 0.5116 - accuracy: 0.7996 - val_loss: 0.4854 - val_accuracy: 0.8155\n",
      "Epoch 15/20\n",
      "130154/130154 [==============================] - 426s 3ms/step - loss: 0.5094 - accuracy: 0.8012 - val_loss: 0.4858 - val_accuracy: 0.8116\n",
      "Epoch 16/20\n",
      "130154/130154 [==============================] - 426s 3ms/step - loss: 0.5097 - accuracy: 0.7991 - val_loss: 0.4779 - val_accuracy: 0.8160\n",
      "Epoch 17/20\n",
      "130154/130154 [==============================] - 423s 3ms/step - loss: 0.5061 - accuracy: 0.8000 - val_loss: 0.4894 - val_accuracy: 0.8089\n",
      "Epoch 18/20\n",
      "130154/130154 [==============================] - 424s 3ms/step - loss: 0.5055 - accuracy: 0.7996 - val_loss: 0.4794 - val_accuracy: 0.8148\n",
      "Epoch 19/20\n",
      "130154/130154 [==============================] - 430s 3ms/step - loss: 0.5083 - accuracy: 0.7997 - val_loss: 0.5108 - val_accuracy: 0.8026\n",
      "Epoch 20/20\n",
      "130154/130154 [==============================] - 423s 3ms/step - loss: 0.5049 - accuracy: 0.7999 - val_loss: 0.4939 - val_accuracy: 0.8037\n",
      "\n",
      "history dict: {'val_loss': [0.6449581554054482, 0.5664859131885467, 0.5356561078298432, 0.5207353652289032, 0.5301197702694312, 0.5159410408992863, 0.5348670422398532, 0.5117950420483472, 0.5160789470110839, 0.5036566612908189, 0.4974211816811681, 0.5132526760657762, 0.4875563797439562, 0.4853830241677749, 0.4858234604266288, 0.47794876717309726, 0.48942985456792554, 0.4794151297765761, 0.5107870460688103, 0.49390154963828276], 'val_accuracy': [0.7659128904342651, 0.8091847896575928, 0.8185371160507202, 0.8086264729499817, 0.8147683143615723, 0.8109994530677795, 0.7998325228691101, 0.8135120272636414, 0.8031826019287109, 0.8101619482040405, 0.8107202649116516, 0.7980178594589233, 0.8161641359329224, 0.8154662251472473, 0.8115577697753906, 0.8160245418548584, 0.8089056611061096, 0.8147683143615723, 0.8026242256164551, 0.803740918636322], 'loss': [0.6940753077153508, 0.6205047848481937, 0.5790437725980762, 0.5639675222601143, 0.5519645050242913, 0.5434617251407345, 0.5382628930438057, 0.5372138651067587, 0.5290393554330127, 0.5247906933157497, 0.52418807671414, 0.5196472486245481, 0.5173911195765454, 0.5116024692469221, 0.5094097973955013, 0.5097354075892431, 0.506114657957578, 0.5054509487039552, 0.5083021731540559, 0.5049243315090121], 'accuracy': [0.7727615, 0.785216, 0.79135484, 0.792661, 0.795158, 0.7960493, 0.7967946, 0.79689443, 0.79882294, 0.79848486, 0.7987461, 0.7988306, 0.79813915, 0.7996066, 0.80121243, 0.79914564, 0.8000215, 0.799645, 0.7996527, 0.79986787]}\n",
      "[0.5232871983884424, 0.8026351928710938]\n"
     ]
    }
   ],
   "source": [
    "model2.compile(loss=keras.losses.binary_crossentropy,\n",
    "        optimizer=keras.optimizers.Adam(lr=1e-2),\n",
    "        metrics=['accuracy'])\n",
    "\n",
    "history2 = model2.fit(x=x_train_active, y=y_train_active,\n",
    "            batch_size=batch_size,\n",
    "            epochs=20,\n",
    "            verbose=1,\n",
    "            validation_data=(x_valid_active, y_valid_active))\n",
    "\n",
    "score2 = model.evaluate(x_test_active, y_test_active, verbose=0, batch_size=batch_size)\n",
    "print('\\nhistory dict:', history2.history)\n",
    "print(score2)\n",
    "\n",
    "#instead saved here initially and then moved to ^ folder\n",
    "keras_model_weights2 = workingDirectory+\"/model_weights/modelWeights_300bp_C57BL6J_active_epo20_RandomShift0bp.h5\"\n",
    "keras_model_json2 = workingDirectory+\"/model_weights/modelWeights_300bp_C57BL6J_active_epo20_RandomShift0bp.json\"\n",
    "\n",
    "json_string = model2.to_json() # architecture\n",
    "with open(keras_model_json2, 'w') as json_file:\n",
    "    json_file.write(json_string)\n",
    "model2.save_weights(keras_model_weights2) # weights"
   ]
  },
  {
   "cell_type": "code",
   "execution_count": 25,
   "metadata": {},
   "outputs": [
    {
     "name": "stdout",
     "output_type": "stream",
     "text": [
      "\n",
      "history dict: {'val_loss': [0.6449581554054482, 0.5664859131885467, 0.5356561078298432, 0.5207353652289032, 0.5301197702694312, 0.5159410408992863, 0.5348670422398532, 0.5117950420483472, 0.5160789470110839, 0.5036566612908189, 0.4974211816811681, 0.5132526760657762, 0.4875563797439562, 0.4853830241677749, 0.4858234604266288, 0.47794876717309726, 0.48942985456792554, 0.4794151297765761, 0.5107870460688103, 0.49390154963828276], 'val_accuracy': [0.7659128904342651, 0.8091847896575928, 0.8185371160507202, 0.8086264729499817, 0.8147683143615723, 0.8109994530677795, 0.7998325228691101, 0.8135120272636414, 0.8031826019287109, 0.8101619482040405, 0.8107202649116516, 0.7980178594589233, 0.8161641359329224, 0.8154662251472473, 0.8115577697753906, 0.8160245418548584, 0.8089056611061096, 0.8147683143615723, 0.8026242256164551, 0.803740918636322], 'loss': [0.6940753077153508, 0.6205047848481937, 0.5790437725980762, 0.5639675222601143, 0.5519645050242913, 0.5434617251407345, 0.5382628930438057, 0.5372138651067587, 0.5290393554330127, 0.5247906933157497, 0.52418807671414, 0.5196472486245481, 0.5173911195765454, 0.5116024692469221, 0.5094097973955013, 0.5097354075892431, 0.506114657957578, 0.5054509487039552, 0.5083021731540559, 0.5049243315090121], 'accuracy': [0.7727615, 0.785216, 0.79135484, 0.792661, 0.795158, 0.7960493, 0.7967946, 0.79689443, 0.79882294, 0.79848486, 0.7987461, 0.7988306, 0.79813915, 0.7996066, 0.80121243, 0.79914564, 0.8000215, 0.799645, 0.7996527, 0.79986787]}\n"
     ]
    }
   ],
   "source": [
    "#score2 = model2.evaluate(x_testn, y_testn, verbose=0, batch_size=batch_size)\n",
    "print('\\nhistory dict:', history2.history)\n",
    "#print(score2)"
   ]
  },
  {
   "cell_type": "markdown",
   "metadata": {},
   "source": [
    "Note from Zeyang: \"Watch for the validation loss and training loss while you train the AMLN model. If the training loss keeps dropping while the validation loss becomes larger and larger, the model likely overfits.\""
   ]
  },
  {
   "cell_type": "markdown",
   "metadata": {},
   "source": [
    "# Plotting Loss and Validation Loss"
   ]
  },
  {
   "cell_type": "code",
   "execution_count": 27,
   "metadata": {},
   "outputs": [],
   "source": [
    "import matplotlib.pyplot as plt\n",
    "import seaborn as sns"
   ]
  },
  {
   "cell_type": "code",
   "execution_count": 28,
   "metadata": {
    "scrolled": true
   },
   "outputs": [
    {
     "name": "stdout",
     "output_type": "stream",
     "text": [
      "dict_keys(['val_loss', 'val_accuracy', 'loss', 'accuracy'])\n"
     ]
    }
   ],
   "source": [
    "print(history2.history.keys())"
   ]
  },
  {
   "cell_type": "code",
   "execution_count": 29,
   "metadata": {},
   "outputs": [
    {
     "name": "stdout",
     "output_type": "stream",
     "text": [
      "[0.6449581554054482, 0.5664859131885467, 0.5356561078298432, 0.5207353652289032, 0.5301197702694312, 0.5159410408992863, 0.5348670422398532, 0.5117950420483472, 0.5160789470110839, 0.5036566612908189, 0.4974211816811681, 0.5132526760657762, 0.4875563797439562, 0.4853830241677749, 0.4858234604266288, 0.47794876717309726, 0.48942985456792554, 0.4794151297765761, 0.5107870460688103, 0.49390154963828276]\n"
     ]
    }
   ],
   "source": [
    "print(history2.history['val_loss'])"
   ]
  },
  {
   "cell_type": "code",
   "execution_count": 30,
   "metadata": {},
   "outputs": [
    {
     "data": {
      "text/plain": [
       "Text(0, 0.5, 'Loss')"
      ]
     },
     "execution_count": 30,
     "metadata": {},
     "output_type": "execute_result"
    },
    {
     "data": {
      "image/png": "[encoded data removed]",
      "text/plain": [
       "<Figure size 432x288 with 1 Axes>"
      ]
     },
     "metadata": {
      "needs_background": "light"
     },
     "output_type": "display_data"
    }
   ],
   "source": [
    "g = sns.lineplot(x=range(20),y=history2.history['loss'])\n",
    "#g.set_ylabels(\"Survived\")\n",
    "#g.set_axis_labels(\"Epochs\", \"Validation Loss\")\n",
    "g.set_xlabel(\"Epochs\")\n",
    "g.set_ylabel(\"Loss\")"
   ]
  },
  {
   "cell_type": "code",
   "execution_count": 31,
   "metadata": {},
   "outputs": [
    {
     "data": {
      "text/plain": [
       "Text(0, 0.5, 'Validation Loss')"
      ]
     },
     "execution_count": 31,
     "metadata": {},
     "output_type": "execute_result"
    },
    {
     "data": {
      "image/png": "[encoded data removed]",
      "text/plain": [
       "<Figure size 432x288 with 1 Axes>"
      ]
     },
     "metadata": {
      "needs_background": "light"
     },
     "output_type": "display_data"
    }
   ],
   "source": [
    "g = sns.lineplot(x=range(20),y=history2.history['val_loss'])\n",
    "#g.set_ylabels(\"Survived\")\n",
    "#g.set_axis_labels(\"Epochs\", \"Validation Loss\")\n",
    "g.set_xlabel(\"Epochs\")\n",
    "g.set_ylabel(\"Validation Loss\")"
   ]
  },
  {
   "cell_type": "code",
   "execution_count": 32,
   "metadata": {},
   "outputs": [
    {
     "data": {
      "text/plain": [
       "Text(0, 0.5, 'Loss')"
      ]
     },
     "execution_count": 32,
     "metadata": {},
     "output_type": "execute_result"
    },
    {
     "data": {
      "image/png": "[encoded data removed]",
      "text/plain": [
       "<Figure size 432x288 with 1 Axes>"
      ]
     },
     "metadata": {
      "needs_background": "light"
     },
     "output_type": "display_data"
    }
   ],
   "source": [
    "g = sns.lineplot(x=range(20),y=history.history['loss'])\n",
    "#g.set_ylabels(\"Survived\")\n",
    "#g.set_axis_labels(\"Epochs\", \"Validation Loss\")\n",
    "g.set_xlabel(\"Epochs\")\n",
    "g.set_ylabel(\"Loss\")"
   ]
  },
  {
   "cell_type": "code",
   "execution_count": 33,
   "metadata": {},
   "outputs": [
    {
     "data": {
      "text/plain": [
       "Text(0, 0.5, 'Validation Loss')"
      ]
     },
     "execution_count": 33,
     "metadata": {},
     "output_type": "execute_result"
    },
    {
     "data": {
      "image/png": "[encoded data removed]",
      "text/plain": [
       "<Figure size 432x288 with 1 Axes>"
      ]
     },
     "metadata": {
      "needs_background": "light"
     },
     "output_type": "display_data"
    }
   ],
   "source": [
    "g = sns.lineplot(x=range(20),y=history.history['val_loss'])\n",
    "#g.set_ylabels(\"Survived\")\n",
    "#g.set_axis_labels(\"Epochs\", \"Validation Loss\")\n",
    "g.set_xlabel(\"Epochs\")\n",
    "g.set_ylabel(\"Validation Loss\")"
   ]
  }
 ],
 "metadata": {
  "kernelspec": {
   "display_name": "zs-deeplift",
   "language": "python",
   "name": "zs-deeplift"
  },
  "language_info": {
   "codemirror_mode": {
    "name": "ipython",
    "version": 3
   },
   "file_extension": ".py",
   "mimetype": "text/x-python",
   "name": "python",
   "nbconvert_exporter": "python",
   "pygments_lexer": "ipython3",
   "version": "3.7.4"
  }
 },
 "nbformat": 4,
 "nbformat_minor": 2
}
