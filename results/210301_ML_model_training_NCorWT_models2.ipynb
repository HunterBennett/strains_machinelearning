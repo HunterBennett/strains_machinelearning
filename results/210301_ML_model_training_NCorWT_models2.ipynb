{
 "cells": [
  {
   "cell_type": "markdown",
   "metadata": {},
   "source": [
    "#### Summary:\n",
    "In this notebook I will make 2 new DL CNN models based on active enhancers: one for homeostatic KCs (based on peaks from control C57 KCs) and one for differential peaks in NASH (based on peaks specific for AMLN C57 KCs, with control peaks as background). For the second model I will also adjust the partitioning of data to maximize the amount of data in the training set, by getting rid of a testing set."
   ]
  },
  {
   "cell_type": "code",
   "execution_count": 1,
   "metadata": {},
   "outputs": [],
   "source": [
    "from __future__ import print_function\n",
    "import numpy as np\n",
    "import pandas as pd\n",
    "from collections import Counter\n",
    "\n",
    "import sys\n",
    "import random\n",
    "\n",
    "import os\n",
    "import fnmatch\n",
    "\n",
    "import sys"
   ]
  },
  {
   "cell_type": "markdown",
   "metadata": {},
   "source": [
    "# prepare data"
   ]
  },
  {
   "cell_type": "markdown",
   "metadata": {},
   "source": [
    "Troubleshooting that maybe didn't work"
   ]
  },
  {
   "cell_type": "code",
   "execution_count": 2,
   "metadata": {},
   "outputs": [],
   "source": [
    "#both of these can be imported to python in the terminal in zs-deeplift env\n",
    "\n",
    "from Bio import SeqIO\n",
    "from Bio.Seq import Seq"
   ]
  },
  {
   "cell_type": "code",
   "execution_count": 3,
   "metadata": {},
   "outputs": [],
   "source": [
    "def load_genome(ref_path):\n",
    "    ref_dict = {}\n",
    "    for seq in SeqIO.parse(ref_path, \"fasta\"):\n",
    "        chromID = seq.id\n",
    "        chromSeq = (str(seq.seq)).upper()\n",
    "        ref_dict[chromID] = chromSeq\n",
    "    return ref_dict"
   ]
  },
  {
   "cell_type": "code",
   "execution_count": 4,
   "metadata": {},
   "outputs": [],
   "source": [
    "ref_path = \"/home/zes017/genomes/mm10/mm10.fa\"\n",
    "genomes = load_genome(ref_path)"
   ]
  },
  {
   "cell_type": "markdown",
   "metadata": {},
   "source": [
    "### BED/peak file"
   ]
  },
  {
   "cell_type": "code",
   "execution_count": 5,
   "metadata": {},
   "outputs": [],
   "source": [
    "def data_prep(path, genomes, label, size=500, rep=1, shift=None):\n",
    "    print (\"Scaled to %d\" % (size))\n",
    "    if shift is None:\n",
    "        shifts = size//rep*np.arange(-rep//2+1,rep//2+1)\n",
    "    elif type(shift) is int:\n",
    "        shifts = np.abs(shift)*np.arange(-rep//2+1,rep//2+1)\n",
    "    elif type(shift) is list:\n",
    "        if len(shift) != rep:\n",
    "            raise TypeError(\"Number of shift unequal to replicates\")\n",
    "        shifts = np.array(shift)\n",
    "    if rep == 1 and shift is not None:\n",
    "        random_shift = True\n",
    "        print(\"Random shifting within %s\" % (str(-np.abs(shift))+'~'+str(np.abs(shift))))\n",
    "    else:\n",
    "        random_shift = False\n",
    "        print(\"Generate replicates by shifting %s bp\" % (','.join(shifts.astype(str))))\n",
    "    \n",
    "    data_list = []\n",
    "    for line in open(path):\n",
    "        elems = line.split()\n",
    "        chromID = elems[0]\n",
    "        start, end = int(elems[1]), int(elems[2])\n",
    "        length = end-start\n",
    "        mid = (start+end)//2\n",
    "        for s in shifts:\n",
    "            if random_shift:\n",
    "                new_mid = mid + np.random.choice(np.arange(-np.abs(shift), np.abs(shift)+1))\n",
    "            else:\n",
    "                new_mid = mid + s\n",
    "            start = new_mid - size//2\n",
    "            end = new_mid + size//2\n",
    "            seq = genomes[chromID][start:end]\n",
    "            if len(seq) != size:\n",
    "                continue\n",
    "            data_point = (seq, label, chromID, start, end)\n",
    "            data_list.append(data_point)\n",
    "    return data_list"
   ]
  },
  {
   "cell_type": "code",
   "execution_count": 17,
   "metadata": {},
   "outputs": [
    {
     "name": "stdout",
     "output_type": "stream",
     "text": [
      "Scaled to 300\n",
      "Generate replicates by shifting 0 bp\n",
      "Scaled to 300\n",
      "Generate replicates by shifting 0 bp\n",
      "17500 17498\n"
     ]
    }
   ],
   "source": [
    "#homeostatic model\n",
    "pos_data_path = \"/home/hmummey/data/ATAC/annotated_peak_calling/round3/C57_control_round3_filt_annot_fin.bed\"\n",
    "pos_data_homeo = data_prep(pos_data_path, genomes, 1, size=300, rep=1, shift=None)\n",
    "neg_data_path = \"/home/hmummey/data/ATAC/annotated_peak_calling/round3/C57_control_round3_filt_annot_fin_bg.bed\"\n",
    "neg_data_homeo = data_prep(neg_data_path, genomes, 0, size=300, rep=1, shift=None)\n",
    "\n",
    "print(len(pos_data_homeo), len(neg_data_homeo))"
   ]
  },
  {
   "cell_type": "code",
   "execution_count": 6,
   "metadata": {},
   "outputs": [
    {
     "name": "stdout",
     "output_type": "stream",
     "text": [
      "Scaled to 300\n",
      "Generate replicates by shifting 0 bp\n",
      "Scaled to 300\n",
      "Generate replicates by shifting 0 bp\n",
      "3966 3966\n"
     ]
    }
   ],
   "source": [
    "#AMLN diff model\n",
    "pos_data_pathn = \"/home/hmummey/data/ATAC/annotated_peak_calling/round3/C57_AMLNDiet_diff_round2_filt_annot_fin.bed\"\n",
    "pos_datan = data_prep(pos_data_pathn, genomes, 1, size=300, rep=1, shift=None)\n",
    "neg_data_pathn = \"/home/hmummey/data/ATAC/annotated_peak_calling/round3/C57_control_diff_round2_filt_annot_fin.bed\"\n",
    "neg_datan = data_prep(neg_data_pathn, genomes, 0, size=300, rep=1, shift=None)\n",
    "\n",
    "print(len(pos_datan), len(neg_datan))"
   ]
  },
  {
   "cell_type": "code",
   "execution_count": 7,
   "metadata": {},
   "outputs": [],
   "source": [
    "def create_dataset(dataset, train, valid, test):\n",
    "    for data_point in dataset:\n",
    "        chromID = data_point[2]\n",
    "        if chromID == \"chr8\":\n",
    "            valid.append(data_point)\n",
    "        elif chromID == \"chr9\":\n",
    "            test.append(data_point)\n",
    "        else:\n",
    "            train.append(data_point)\n",
    "\n",
    "#version that eliminates the test set\n",
    "def create_dataset2(dataset, train, valid):\n",
    "    for data_point in dataset:\n",
    "        chromID = data_point[2]\n",
    "        if chromID == \"chr8\":\n",
    "            valid.append(data_point)\n",
    "        #elif chromID == \"chr9\":\n",
    "        #    test.append(data_point) #just take this out?\n",
    "        else:\n",
    "            train.append(data_point)\n",
    "            \n",
    "def dataset2onehot(dataset, shuffle=True):\n",
    "    nucleotides = [\"A\", \"T\", \"C\", \"G\"]\n",
    "    def seq2onehot(seq):\n",
    "        onehot_list = []\n",
    "        for nuc in seq:\n",
    "            if nuc == \"N\":\n",
    "                onehot = [0.25 for _ in range(len(nucleotides))]\n",
    "                onehot_list.append(onehot)\n",
    "            else:\n",
    "                onehot = [0 for _ in range(len(nucleotides))]\n",
    "                onehot[nucleotides.index(nuc)] = 1\n",
    "                onehot_list.append(onehot)\n",
    "        return onehot_list\n",
    "    \n",
    "    def rc(seq):\n",
    "        return str((Seq(seq)).reverse_complement())\n",
    "    \n",
    "    onehot_dataset = []\n",
    "    for (seq, label, chromID, start, end) in dataset:\n",
    "        onehot_dataset.append((seq2onehot(seq), label, (chromID, start, end, \"+\")))\n",
    "        onehot_dataset.append((seq2onehot(rc(seq)), label, (chromID, start, end, \"-\")))\n",
    "    \n",
    "    if shuffle:\n",
    "        random.shuffle(onehot_dataset)\n",
    "    \n",
    "    x_list, y_list, info_list = [], [], [] \n",
    "    for (x, y, info) in onehot_dataset:\n",
    "        x_list.append(x)\n",
    "        y_list.append(y)\n",
    "        info_list.append(info)\n",
    "    return np.array(x_list), np.array(y_list), info_list"
   ]
  },
  {
   "cell_type": "code",
   "execution_count": 18,
   "metadata": {},
   "outputs": [],
   "source": [
    "#homeostatic\n",
    "train_raw, valid_raw, test_raw = [], [], []\n",
    "create_dataset(pos_data_homeo, train_raw, valid_raw, test_raw)\n",
    "create_dataset(neg_data_homeo, train_raw, valid_raw, test_raw)\n",
    "x_train, y_train, info_train = dataset2onehot(train_raw)\n",
    "x_valid, y_valid, info_valid = dataset2onehot(valid_raw)\n",
    "x_test, y_test, info_test = dataset2onehot(test_raw)"
   ]
  },
  {
   "cell_type": "code",
   "execution_count": 19,
   "metadata": {},
   "outputs": [
    {
     "name": "stdout",
     "output_type": "stream",
     "text": [
      "Training set:\n",
      "(63176, 300, 4)\n",
      "(63176,)\n",
      "Validation set:\n",
      "(3388, 300, 4)\n",
      "(3388,)\n",
      "Testing set:\n",
      "(3432, 300, 4)\n",
      "(3432,)\n"
     ]
    }
   ],
   "source": [
    "print('Training set:')\n",
    "print(x_train.shape)\n",
    "print(y_train.shape)\n",
    "print('Validation set:')\n",
    "print(x_valid.shape)\n",
    "print(y_valid.shape)\n",
    "print('Testing set:')\n",
    "print(x_test.shape)\n",
    "print(y_test.shape)"
   ]
  },
  {
   "cell_type": "code",
   "execution_count": 8,
   "metadata": {},
   "outputs": [],
   "source": [
    "#AMLN --> using create_dataset2(dataset, train, valid)\n",
    "#removing the test set!\n",
    "\n",
    "train_rawn, valid_rawn = [], []\n",
    "create_dataset2(pos_datan, train_rawn, valid_rawn)\n",
    "create_dataset2(neg_datan, train_rawn, valid_rawn)\n",
    "x_trainn, y_trainn, info_trainn = dataset2onehot(train_rawn)\n",
    "x_validn, y_validn, info_validn = dataset2onehot(valid_rawn)"
   ]
  },
  {
   "cell_type": "code",
   "execution_count": 9,
   "metadata": {},
   "outputs": [
    {
     "name": "stdout",
     "output_type": "stream",
     "text": [
      "Training set:\n",
      "(15132, 300, 4)\n",
      "(15132,)\n",
      "Validation set:\n",
      "(732, 300, 4)\n",
      "(732,)\n"
     ]
    }
   ],
   "source": [
    "print('Training set:')\n",
    "print(x_trainn.shape)\n",
    "print(y_trainn.shape)\n",
    "print('Validation set:')\n",
    "print(x_validn.shape)\n",
    "print(y_validn.shape)\n",
    "#print('Testing set:')\n",
    "#print(x_testn.shape)\n",
    "#print(y_testn.shape)"
   ]
  },
  {
   "cell_type": "markdown",
   "metadata": {},
   "source": [
    "# Construct the model"
   ]
  },
  {
   "cell_type": "code",
   "execution_count": 10,
   "metadata": {},
   "outputs": [
    {
     "name": "stderr",
     "output_type": "stream",
     "text": [
      "Using TensorFlow backend.\n"
     ]
    }
   ],
   "source": [
    "#\n",
    "# Train model in keras\n",
    "#\n",
    "import keras\n",
    "from keras.models import Sequential\n",
    "from keras.layers import Dense, Dropout, Flatten, BatchNormalization, Activation\n",
    "from keras.layers import Conv1D, GlobalAveragePooling1D, MaxPooling1D\n",
    "import tensorflow.keras.backend as K"
   ]
  },
  {
   "cell_type": "code",
   "execution_count": 11,
   "metadata": {},
   "outputs": [],
   "source": [
    "batch_size = 128\n",
    "num_classes = 1\n",
    "seq_size = 300\n",
    "n_channels = 4\n",
    "input_shape = (seq_size, n_channels)"
   ]
  },
  {
   "cell_type": "markdown",
   "metadata": {},
   "source": [
    "### Homeostatic"
   ]
  },
  {
   "cell_type": "code",
   "execution_count": 15,
   "metadata": {},
   "outputs": [
    {
     "name": "stdout",
     "output_type": "stream",
     "text": [
      "WARNING:tensorflow:From /gpfs/data01/glasslab/home/hmummey/.conda/envs/zs-deeplift/lib/python3.7/site-packages/tensorflow_core/python/ops/resource_variable_ops.py:1630: calling BaseResourceVariable.__init__ (from tensorflow.python.ops.resource_variable_ops) with constraint is deprecated and will be removed in a future version.\n",
      "Instructions for updating:\n",
      "If using Keras pass *_constraint arguments to layers.\n",
      "WARNING:tensorflow:From /gpfs/data01/glasslab/home/hmummey/.conda/envs/zs-deeplift/lib/python3.7/site-packages/keras/backend/tensorflow_backend.py:4070: The name tf.nn.max_pool is deprecated. Please use tf.nn.max_pool2d instead.\n",
      "\n"
     ]
    }
   ],
   "source": [
    "# model structure\n",
    "model = Sequential()\n",
    "# conv1\n",
    "model.add(Conv1D(320, kernel_size=8, strides=1, padding='valid',\n",
    "    kernel_initializer=keras.initializers.TruncatedNormal(stddev=1e-2),\n",
    "    kernel_regularizer=keras.regularizers.l2(5e-7),\n",
    "    bias_initializer=keras.initializers.Constant(value=0),\n",
    "    activity_regularizer=keras.regularizers.l1(1e-8),\n",
    "    input_shape=input_shape, name='conv1'))\n",
    "model.add(BatchNormalization(name = \"bn1\"))\n",
    "model.add(Activation('relu'))\n",
    "model.add(MaxPooling1D(pool_size=4, strides=4, padding='same'))\n",
    "model.add(Dropout(0.2))\n",
    "\n",
    "# conv2\n",
    "model.add(Conv1D(480, kernel_size=8, strides=1, padding='valid',\n",
    "    kernel_initializer=keras.initializers.TruncatedNormal(stddev=1e-2),\n",
    "    kernel_regularizer=keras.regularizers.l2(5e-7),\n",
    "    bias_initializer=keras.initializers.Constant(value=0),\n",
    "    activity_regularizer=keras.regularizers.l1(1e-8),\n",
    "    name='conv2'))\n",
    "model.add(BatchNormalization(name = \"bn2\"))\n",
    "model.add(Activation('relu'))\n",
    "model.add(MaxPooling1D(pool_size=4, strides=4, padding='same'))\n",
    "model.add(Dropout(0.2))\n",
    "\n",
    "# conv3\n",
    "model.add(Conv1D(960, kernel_size=8, strides=1, padding='valid',\n",
    "    kernel_initializer=keras.initializers.TruncatedNormal(stddev=1e-2),\n",
    "    kernel_regularizer=keras.regularizers.l2(5e-7),\n",
    "    bias_initializer=keras.initializers.Constant(value=0),\n",
    "    activity_regularizer=keras.regularizers.l1(1e-8),\n",
    "    name='conv3'))\n",
    "model.add(BatchNormalization(name = \"bn3\"))\n",
    "model.add(Activation('relu'))\n",
    "model.add(Dropout(0.5))\n",
    "\n",
    "model.add(Flatten())\n",
    "\n",
    "# fc1\n",
    "model.add(Dense(925,\n",
    "    kernel_initializer=keras.initializers.TruncatedNormal(stddev=1e-2),\n",
    "    kernel_regularizer=keras.regularizers.l2(5e-7),\n",
    "    bias_initializer=keras.initializers.Constant(value=0),\n",
    "    activity_regularizer=keras.regularizers.l1(1e-8)))\n",
    "model.add(Activation('relu'))\n",
    "\n",
    "# output\n",
    "model.add(Dense(num_classes,\n",
    "    kernel_initializer=keras.initializers.TruncatedNormal(stddev=1e-2),\n",
    "    kernel_regularizer=keras.regularizers.l2(5e-7),\n",
    "    bias_initializer=keras.initializers.Constant(value=0),\n",
    "    activity_regularizer=keras.regularizers.l1(1e-8)))\n",
    "model.add(Activation('sigmoid'))\n",
    "# end"
   ]
  },
  {
   "cell_type": "code",
   "execution_count": 16,
   "metadata": {},
   "outputs": [],
   "source": [
    "import tensorflow as tf\n",
    "def load_from_tf(name):\n",
    "    return tf.train.load_variable(\"/home/zes017/AD/data/AgentBind/benchmarking_dnase/data/model\", name=name)"
   ]
  },
  {
   "cell_type": "code",
   "execution_count": 17,
   "metadata": {},
   "outputs": [],
   "source": [
    "model.get_layer(\"conv1\").set_weights(\n",
    "    [load_from_tf('conv1/weights/ExponentialMovingAverage'),\n",
    "    load_from_tf('conv1/biases/ExponentialMovingAverage')])\n",
    "model.get_layer(\"conv2\").set_weights(\n",
    "    [load_from_tf('conv2/weights/ExponentialMovingAverage'),\n",
    "    load_from_tf('conv2/biases/ExponentialMovingAverage')])\n",
    "model.get_layer(\"conv3\").set_weights(\n",
    "    [load_from_tf('conv3/weights/ExponentialMovingAverage'),\n",
    "    load_from_tf('conv3/biases/ExponentialMovingAverage')])\n",
    "model.get_layer(\"bn1\").set_weights(\n",
    "    [load_from_tf('conv1/batch_normalization/gamma/ExponentialMovingAverage'),\n",
    "     load_from_tf('conv1/batch_normalization/beta/ExponentialMovingAverage'),\n",
    "    np.zeros(model.get_layer(\"bn1\").weights[2].shape),\n",
    "    np.zeros(model.get_layer(\"bn1\").weights[3].shape)])\n",
    "model.get_layer(\"bn2\").set_weights(\n",
    "    [load_from_tf('conv2/batch_normalization/gamma/ExponentialMovingAverage'),\n",
    "     load_from_tf('conv2/batch_normalization/beta/ExponentialMovingAverage'),\n",
    "    np.zeros(model.get_layer(\"bn2\").weights[2].shape),\n",
    "    np.zeros(model.get_layer(\"bn2\").weights[3].shape)])\n",
    "model.get_layer(\"bn3\").set_weights(\n",
    "    [load_from_tf('conv3/batch_normalization/gamma/ExponentialMovingAverage'),\n",
    "     load_from_tf('conv3/batch_normalization/beta/ExponentialMovingAverage'),\n",
    "    np.zeros(model.get_layer(\"bn3\").weights[2].shape),\n",
    "    np.zeros(model.get_layer(\"bn3\").weights[3].shape)])"
   ]
  },
  {
   "cell_type": "markdown",
   "metadata": {},
   "source": [
    "# AMLN differential"
   ]
  },
  {
   "cell_type": "code",
   "execution_count": 12,
   "metadata": {},
   "outputs": [
    {
     "name": "stdout",
     "output_type": "stream",
     "text": [
      "WARNING:tensorflow:From /gpfs/data01/glasslab/home/hmummey/.conda/envs/zs-deeplift/lib/python3.7/site-packages/tensorflow_core/python/ops/resource_variable_ops.py:1630: calling BaseResourceVariable.__init__ (from tensorflow.python.ops.resource_variable_ops) with constraint is deprecated and will be removed in a future version.\n",
      "Instructions for updating:\n",
      "If using Keras pass *_constraint arguments to layers.\n",
      "WARNING:tensorflow:From /gpfs/data01/glasslab/home/hmummey/.conda/envs/zs-deeplift/lib/python3.7/site-packages/keras/backend/tensorflow_backend.py:4070: The name tf.nn.max_pool is deprecated. Please use tf.nn.max_pool2d instead.\n",
      "\n"
     ]
    }
   ],
   "source": [
    "# model structure (same as prev, but second making a second model)\n",
    "model2 = Sequential()\n",
    "# conv1\n",
    "model2.add(Conv1D(320, kernel_size=8, strides=1, padding='valid',\n",
    "    kernel_initializer=keras.initializers.TruncatedNormal(stddev=1e-2),\n",
    "    kernel_regularizer=keras.regularizers.l2(5e-7),\n",
    "    bias_initializer=keras.initializers.Constant(value=0),\n",
    "    activity_regularizer=keras.regularizers.l1(1e-8),\n",
    "    input_shape=input_shape, name='conv1'))\n",
    "model2.add(BatchNormalization(name = \"bn1\"))\n",
    "model2.add(Activation('relu'))\n",
    "model2.add(MaxPooling1D(pool_size=4, strides=4, padding='same'))\n",
    "model2.add(Dropout(0.2))\n",
    "\n",
    "# conv2\n",
    "model2.add(Conv1D(480, kernel_size=8, strides=1, padding='valid',\n",
    "    kernel_initializer=keras.initializers.TruncatedNormal(stddev=1e-2),\n",
    "    kernel_regularizer=keras.regularizers.l2(5e-7),\n",
    "    bias_initializer=keras.initializers.Constant(value=0),\n",
    "    activity_regularizer=keras.regularizers.l1(1e-8),\n",
    "    name='conv2'))\n",
    "model2.add(BatchNormalization(name = \"bn2\"))\n",
    "model2.add(Activation('relu'))\n",
    "model2.add(MaxPooling1D(pool_size=4, strides=4, padding='same'))\n",
    "model2.add(Dropout(0.2))\n",
    "\n",
    "# conv3\n",
    "model2.add(Conv1D(960, kernel_size=8, strides=1, padding='valid',\n",
    "    kernel_initializer=keras.initializers.TruncatedNormal(stddev=1e-2),\n",
    "    kernel_regularizer=keras.regularizers.l2(5e-7),\n",
    "    bias_initializer=keras.initializers.Constant(value=0),\n",
    "    activity_regularizer=keras.regularizers.l1(1e-8),\n",
    "    name='conv3'))\n",
    "model2.add(BatchNormalization(name = \"bn3\"))\n",
    "model2.add(Activation('relu'))\n",
    "model2.add(Dropout(0.5))\n",
    "\n",
    "model2.add(Flatten())\n",
    "\n",
    "# fc1\n",
    "model2.add(Dense(925,\n",
    "    kernel_initializer=keras.initializers.TruncatedNormal(stddev=1e-2),\n",
    "    kernel_regularizer=keras.regularizers.l2(5e-7),\n",
    "    bias_initializer=keras.initializers.Constant(value=0),\n",
    "    activity_regularizer=keras.regularizers.l1(1e-8)))\n",
    "model2.add(Activation('relu'))\n",
    "\n",
    "# output\n",
    "model2.add(Dense(num_classes,\n",
    "    kernel_initializer=keras.initializers.TruncatedNormal(stddev=1e-2),\n",
    "    kernel_regularizer=keras.regularizers.l2(5e-7),\n",
    "    bias_initializer=keras.initializers.Constant(value=0),\n",
    "    activity_regularizer=keras.regularizers.l1(1e-8)))\n",
    "model2.add(Activation('sigmoid'))\n",
    "# end"
   ]
  },
  {
   "cell_type": "code",
   "execution_count": 13,
   "metadata": {},
   "outputs": [],
   "source": [
    "import tensorflow as tf\n",
    "def load_from_tf(name):\n",
    "    return tf.train.load_variable(\"/home/zes017/AD/data/AgentBind/benchmarking_dnase/data/model\", name=name)"
   ]
  },
  {
   "cell_type": "code",
   "execution_count": 15,
   "metadata": {},
   "outputs": [],
   "source": [
    "model2.get_layer(\"conv1\").set_weights(\n",
    "    [load_from_tf('conv1/weights/ExponentialMovingAverage'),\n",
    "    load_from_tf('conv1/biases/ExponentialMovingAverage')])\n",
    "model2.get_layer(\"conv2\").set_weights(\n",
    "    [load_from_tf('conv2/weights/ExponentialMovingAverage'),\n",
    "    load_from_tf('conv2/biases/ExponentialMovingAverage')])\n",
    "model2.get_layer(\"conv3\").set_weights(\n",
    "    [load_from_tf('conv3/weights/ExponentialMovingAverage'),\n",
    "    load_from_tf('conv3/biases/ExponentialMovingAverage')])\n",
    "model2.get_layer(\"bn1\").set_weights(\n",
    "    [load_from_tf('conv1/batch_normalization/gamma/ExponentialMovingAverage'),\n",
    "     load_from_tf('conv1/batch_normalization/beta/ExponentialMovingAverage'),\n",
    "    np.zeros(model2.get_layer(\"bn1\").weights[2].shape),\n",
    "    np.zeros(model2.get_layer(\"bn1\").weights[3].shape)])\n",
    "model2.get_layer(\"bn2\").set_weights(\n",
    "    [load_from_tf('conv2/batch_normalization/gamma/ExponentialMovingAverage'),\n",
    "     load_from_tf('conv2/batch_normalization/beta/ExponentialMovingAverage'),\n",
    "    np.zeros(model2.get_layer(\"bn2\").weights[2].shape),\n",
    "    np.zeros(model2.get_layer(\"bn2\").weights[3].shape)])\n",
    "model2.get_layer(\"bn3\").set_weights(\n",
    "    [load_from_tf('conv3/batch_normalization/gamma/ExponentialMovingAverage'),\n",
    "     load_from_tf('conv3/batch_normalization/beta/ExponentialMovingAverage'),\n",
    "    np.zeros(model2.get_layer(\"bn3\").weights[2].shape),\n",
    "    np.zeros(model2.get_layer(\"bn3\").weights[3].shape)])"
   ]
  },
  {
   "cell_type": "markdown",
   "metadata": {},
   "source": [
    "# Train the model"
   ]
  },
  {
   "cell_type": "markdown",
   "metadata": {},
   "source": [
    "### Homeostatic\n",
    "Set names: x_train, y_train, x_valid, y_valid, x_test, y_test"
   ]
  },
  {
   "cell_type": "code",
   "execution_count": 18,
   "metadata": {},
   "outputs": [
    {
     "name": "stdout",
     "output_type": "stream",
     "text": [
      "/gpfs/data01/glasslab/home/hmummey/notebooks\n"
     ]
    }
   ],
   "source": [
    "%%bash\n",
    "pwd"
   ]
  },
  {
   "cell_type": "code",
   "execution_count": 19,
   "metadata": {
    "scrolled": false
   },
   "outputs": [
    {
     "name": "stdout",
     "output_type": "stream",
     "text": [
      "WARNING:tensorflow:From /gpfs/data01/glasslab/home/hmummey/.conda/envs/zs-deeplift/lib/python3.7/site-packages/tensorflow_core/python/ops/nn_impl.py:183: where (from tensorflow.python.ops.array_ops) is deprecated and will be removed in a future version.\n",
      "Instructions for updating:\n",
      "Use tf.where in 2.0, which has the same broadcast rule as np.where\n",
      "WARNING:tensorflow:From /gpfs/data01/glasslab/home/hmummey/.conda/envs/zs-deeplift/lib/python3.7/site-packages/keras/backend/tensorflow_backend.py:422: The name tf.global_variables is deprecated. Please use tf.compat.v1.global_variables instead.\n",
      "\n",
      "Train on 63176 samples, validate on 3388 samples\n",
      "Epoch 1/20\n",
      "63176/63176 [==============================] - 277s 4ms/step - loss: 0.6265 - accuracy: 0.8344 - val_loss: 0.5138 - val_accuracy: 0.8598\n",
      "Epoch 2/20\n",
      "63176/63176 [==============================] - 267s 4ms/step - loss: 0.5377 - accuracy: 0.8564 - val_loss: 0.5094 - val_accuracy: 0.8607\n",
      "Epoch 3/20\n",
      "63176/63176 [==============================] - 279s 4ms/step - loss: 0.5128 - accuracy: 0.8613 - val_loss: 0.4790 - val_accuracy: 0.8689\n",
      "Epoch 4/20\n",
      "63176/63176 [==============================] - 286s 5ms/step - loss: 0.4846 - accuracy: 0.8672 - val_loss: 0.4586 - val_accuracy: 0.8698\n",
      "Epoch 5/20\n",
      "63176/63176 [==============================] - 287s 5ms/step - loss: 0.4689 - accuracy: 0.8701 - val_loss: 0.4461 - val_accuracy: 0.8746\n",
      "Epoch 6/20\n",
      "63176/63176 [==============================] - 284s 4ms/step - loss: 0.4590 - accuracy: 0.8722 - val_loss: 0.4489 - val_accuracy: 0.8728\n",
      "Epoch 7/20\n",
      "63176/63176 [==============================] - 280s 4ms/step - loss: 0.4516 - accuracy: 0.8754 - val_loss: 0.4333 - val_accuracy: 0.8775\n",
      "Epoch 8/20\n",
      "63176/63176 [==============================] - 285s 5ms/step - loss: 0.4441 - accuracy: 0.8758 - val_loss: 0.4271 - val_accuracy: 0.8787\n",
      "Epoch 9/20\n",
      "63176/63176 [==============================] - 280s 4ms/step - loss: 0.4365 - accuracy: 0.8774 - val_loss: 0.4326 - val_accuracy: 0.8763\n",
      "Epoch 10/20\n",
      "63176/63176 [==============================] - 271s 4ms/step - loss: 0.4353 - accuracy: 0.8789 - val_loss: 0.4352 - val_accuracy: 0.8757\n",
      "Epoch 11/20\n",
      "63176/63176 [==============================] - 270s 4ms/step - loss: 0.4334 - accuracy: 0.8786 - val_loss: 0.4204 - val_accuracy: 0.8787\n",
      "Epoch 12/20\n",
      "63176/63176 [==============================] - 266s 4ms/step - loss: 0.4274 - accuracy: 0.8802 - val_loss: 0.4296 - val_accuracy: 0.8743\n",
      "Epoch 13/20\n",
      "63176/63176 [==============================] - 272s 4ms/step - loss: 0.4251 - accuracy: 0.8807 - val_loss: 0.4555 - val_accuracy: 0.8681\n",
      "Epoch 14/20\n",
      "63176/63176 [==============================] - 268s 4ms/step - loss: 0.4265 - accuracy: 0.8800 - val_loss: 0.4403 - val_accuracy: 0.8769\n",
      "Epoch 15/20\n",
      "63176/63176 [==============================] - 270s 4ms/step - loss: 0.4239 - accuracy: 0.8819 - val_loss: 0.4264 - val_accuracy: 0.8754\n",
      "Epoch 16/20\n",
      "63176/63176 [==============================] - 274s 4ms/step - loss: 0.4232 - accuracy: 0.8817 - val_loss: 0.4290 - val_accuracy: 0.8772\n",
      "Epoch 17/20\n",
      "63176/63176 [==============================] - 268s 4ms/step - loss: 0.4158 - accuracy: 0.8839 - val_loss: 0.4278 - val_accuracy: 0.8805\n",
      "Epoch 18/20\n",
      "63176/63176 [==============================] - 270s 4ms/step - loss: 0.4132 - accuracy: 0.8855 - val_loss: 0.4452 - val_accuracy: 0.8619\n",
      "Epoch 19/20\n",
      "63176/63176 [==============================] - 270s 4ms/step - loss: 0.4136 - accuracy: 0.8855 - val_loss: 0.4161 - val_accuracy: 0.8790\n",
      "Epoch 20/20\n",
      "63176/63176 [==============================] - 270s 4ms/step - loss: 0.4116 - accuracy: 0.8865 - val_loss: 0.4234 - val_accuracy: 0.8754\n",
      "\n",
      "history dict: {'val_loss': [0.513765436417941, 0.5093910460137139, 0.4790160753439844, 0.4585870038520065, 0.4461348891398983, 0.44894386773407813, 0.43331924657894844, 0.4270983571637479, 0.43259515661697884, 0.43518629304211426, 0.42041017201321185, 0.4296104353110371, 0.4555161211468112, 0.44030522589418936, 0.4263739101016958, 0.4289649274934703, 0.4277663997241429, 0.4451901873984894, 0.41606912322984535, 0.4233585427896754], 'val_accuracy': [0.8597992658615112, 0.8606847524642944, 0.8689492344856262, 0.8698347210884094, 0.8745572566986084, 0.872786283493042, 0.8775088787078857, 0.8786894679069519, 0.8763282299041748, 0.8757379055023193, 0.8786894679069519, 0.8742620944976807, 0.868063747882843, 0.8769185543060303, 0.8754427433013916, 0.877213716506958, 0.8804604411125183, 0.8618654012680054, 0.8789846301078796, 0.8754427433013916], 'loss': [0.6265440267279916, 0.5377445800464123, 0.5127605769594092, 0.48464631142534154, 0.4688554618635464, 0.45900363371585673, 0.45164021732264625, 0.44406129833609453, 0.4365152886687645, 0.43531062458608216, 0.4333875388741055, 0.4274126525595171, 0.42505738436156804, 0.4264966894384123, 0.4238945735743246, 0.42318114149611225, 0.4157566787684222, 0.4132388916870937, 0.4135520911351086, 0.41157785363705746], 'accuracy': [0.83435166, 0.85644865, 0.86129224, 0.8671964, 0.87007725, 0.87215084, 0.87536407, 0.8758231, 0.87739015, 0.87887806, 0.8785773, 0.880176, 0.8807458, 0.8799544, 0.8818539, 0.8817272, 0.8839116, 0.8855261, 0.885542, 0.88652337]}\n",
      "[0.43252056329956146, 0.8776223659515381]\n"
     ]
    }
   ],
   "source": [
    "model.compile(loss=keras.losses.binary_crossentropy,\n",
    "        optimizer=keras.optimizers.Adam(lr=1e-2),\n",
    "        metrics=['accuracy'])\n",
    "\n",
    "history = model.fit(x=x_train, y=y_train,\n",
    "            batch_size=batch_size,\n",
    "            epochs=20,\n",
    "            verbose=1,\n",
    "            validation_data=(x_valid, y_valid))\n",
    "score = model.evaluate(x_test, y_test, verbose=0, batch_size=batch_size)\n",
    "print('\\nhistory dict:', history.history)\n",
    "print(score)\n",
    "\n",
    "keras_model_weights = \"/home/hmummey/model/210301_NCoRWT_secondset/modelWeights.300bp.NCoRWT.controlhomeo.epo20.RandomShift0bp.h5\"\n",
    "keras_model_json = \"/home/hmummey/model/210301_NCoRWT_secondset/modelWeights.300bp.NCoRWT.controlhomeo.epo20.RandomShift0bp.json\"\n",
    "\n",
    "json_string = model.to_json() # architecture\n",
    "with open(keras_model_json, 'w') as json_file:\n",
    "    json_file.write(json_string)\n",
    "model.save_weights(keras_model_weights) # weights"
   ]
  },
  {
   "cell_type": "code",
   "execution_count": 24,
   "metadata": {},
   "outputs": [
    {
     "name": "stdout",
     "output_type": "stream",
     "text": [
      "AUC: 0.9471575179779514\n",
      "Accuracy: 0.8776223776223776\n"
     ]
    }
   ],
   "source": [
    "##Load model\n",
    "from keras.models import model_from_json\n",
    "\n",
    "model_weights = \"/home/hmummey/model/210301_NCoRWT_secondset/modelWeights.300bp.NCoRWT.controlhomeo.epo20.RandomShift0bp.h5\"\n",
    "model_json = \"/home/hmummey/model/210301_NCoRWT_secondset/modelWeights.300bp.NCoRWT.controlhomeo.epo20.RandomShift0bp.json\"\n",
    "\n",
    "model = model_from_json(open(model_json).read())\n",
    "model.load_weights(model_weights)\n",
    "model.compile(loss=keras.losses.binary_crossentropy,\n",
    "        optimizer=keras.optimizers.Adam(lr=1e-2),\n",
    "        metrics=['accuracy'])\n",
    "# model.evaluate(x_test, y_test, batch_size=batch_size)\n",
    "preds = model.predict(x_test).flatten()\n",
    "\n",
    "from sklearn import metrics\n",
    "fpr, tpr, thresholds = metrics.roc_curve(y_test, preds, pos_label=1)\n",
    "print('AUC:', metrics.auc(fpr, tpr))\n",
    "print('Accuracy:', metrics.accuracy_score(y_test, (preds>0.5)*1))"
   ]
  },
  {
   "cell_type": "markdown",
   "metadata": {},
   "source": [
    "### AMLN\n",
    "Set names: x_trainn, y_trainn, x_validn, y_validn, x_testn, y_testn"
   ]
  },
  {
   "cell_type": "code",
   "execution_count": 22,
   "metadata": {
    "scrolled": false
   },
   "outputs": [
    {
     "name": "stdout",
     "output_type": "stream",
     "text": [
      "Train on 15132 samples, validate on 732 samples\n",
      "Epoch 1/20\n",
      "15132/15132 [==============================] - 51s 3ms/step - loss: 0.9059 - accuracy: 0.6619 - val_loss: 0.8277 - val_accuracy: 0.7172\n",
      "Epoch 2/20\n",
      "15132/15132 [==============================] - 52s 3ms/step - loss: 0.7899 - accuracy: 0.6884 - val_loss: 0.8207 - val_accuracy: 0.6844\n",
      "Epoch 3/20\n",
      "15132/15132 [==============================] - 51s 3ms/step - loss: 0.7682 - accuracy: 0.6973 - val_loss: 0.7334 - val_accuracy: 0.7131\n",
      "Epoch 4/20\n",
      "15132/15132 [==============================] - 53s 3ms/step - loss: 0.7561 - accuracy: 0.7077 - val_loss: 0.7190 - val_accuracy: 0.7350\n",
      "Epoch 5/20\n",
      "15132/15132 [==============================] - 51s 3ms/step - loss: 0.7471 - accuracy: 0.7098 - val_loss: 0.7162 - val_accuracy: 0.7158\n",
      "Epoch 6/20\n",
      "15132/15132 [==============================] - 52s 3ms/step - loss: 0.7305 - accuracy: 0.7166 - val_loss: 0.6855 - val_accuracy: 0.7445\n",
      "Epoch 7/20\n",
      "15132/15132 [==============================] - 50s 3ms/step - loss: 0.7174 - accuracy: 0.7181 - val_loss: 0.6951 - val_accuracy: 0.7213\n",
      "Epoch 8/20\n",
      "15132/15132 [==============================] - 50s 3ms/step - loss: 0.7010 - accuracy: 0.7372 - val_loss: 0.7203 - val_accuracy: 0.7186\n",
      "Epoch 9/20\n",
      "15132/15132 [==============================] - 50s 3ms/step - loss: 0.7024 - accuracy: 0.7334 - val_loss: 0.7327 - val_accuracy: 0.7213\n",
      "Epoch 10/20\n",
      "15132/15132 [==============================] - 50s 3ms/step - loss: 0.6957 - accuracy: 0.7398 - val_loss: 0.7288 - val_accuracy: 0.7117\n",
      "Epoch 11/20\n",
      "15132/15132 [==============================] - 50s 3ms/step - loss: 0.6689 - accuracy: 0.7591 - val_loss: 0.6931 - val_accuracy: 0.7418\n",
      "Epoch 12/20\n",
      "15132/15132 [==============================] - 50s 3ms/step - loss: 0.6575 - accuracy: 0.7663 - val_loss: 0.8145 - val_accuracy: 0.6639\n",
      "Epoch 13/20\n",
      "15132/15132 [==============================] - 52s 3ms/step - loss: 0.6501 - accuracy: 0.7758 - val_loss: 0.7287 - val_accuracy: 0.7295\n",
      "Epoch 14/20\n",
      "15132/15132 [==============================] - 50s 3ms/step - loss: 0.6298 - accuracy: 0.7894 - val_loss: 0.7845 - val_accuracy: 0.7145\n",
      "Epoch 15/20\n",
      "15132/15132 [==============================] - 49s 3ms/step - loss: 0.6264 - accuracy: 0.7977 - val_loss: 0.7998 - val_accuracy: 0.6926\n",
      "Epoch 16/20\n",
      "15132/15132 [==============================] - 50s 3ms/step - loss: 0.5978 - accuracy: 0.8120 - val_loss: 0.7717 - val_accuracy: 0.6858\n",
      "Epoch 17/20\n",
      "15132/15132 [==============================] - 50s 3ms/step - loss: 0.5917 - accuracy: 0.8201 - val_loss: 0.7972 - val_accuracy: 0.7281\n",
      "Epoch 18/20\n",
      "15132/15132 [==============================] - 51s 3ms/step - loss: 0.5819 - accuracy: 0.8334 - val_loss: 0.8512 - val_accuracy: 0.6926\n",
      "Epoch 19/20\n",
      "15132/15132 [==============================] - 50s 3ms/step - loss: 0.5597 - accuracy: 0.8421 - val_loss: 1.3610 - val_accuracy: 0.6134\n",
      "Epoch 20/20\n",
      "15132/15132 [==============================] - 51s 3ms/step - loss: 0.5448 - accuracy: 0.8575 - val_loss: 0.8426 - val_accuracy: 0.7240\n"
     ]
    },
    {
     "ename": "NameError",
     "evalue": "name 'x_testn' is not defined",
     "output_type": "error",
     "traceback": [
      "\u001b[0;31m---------------------------------------------------------------------------\u001b[0m",
      "\u001b[0;31mNameError\u001b[0m                                 Traceback (most recent call last)",
      "\u001b[0;32m<ipython-input-22-ac7b93f22e51>\u001b[0m in \u001b[0;36m<module>\u001b[0;34m\u001b[0m\n\u001b[1;32m      8\u001b[0m             \u001b[0mverbose\u001b[0m\u001b[0;34m=\u001b[0m\u001b[0;36m1\u001b[0m\u001b[0;34m,\u001b[0m\u001b[0;34m\u001b[0m\u001b[0;34m\u001b[0m\u001b[0m\n\u001b[1;32m      9\u001b[0m             validation_data=(x_validn, y_validn))\n\u001b[0;32m---> 10\u001b[0;31m \u001b[0mscore2\u001b[0m \u001b[0;34m=\u001b[0m \u001b[0mmodel2\u001b[0m\u001b[0;34m.\u001b[0m\u001b[0mevaluate\u001b[0m\u001b[0;34m(\u001b[0m\u001b[0mx_testn\u001b[0m\u001b[0;34m,\u001b[0m \u001b[0my_testn\u001b[0m\u001b[0;34m,\u001b[0m \u001b[0mverbose\u001b[0m\u001b[0;34m=\u001b[0m\u001b[0;36m0\u001b[0m\u001b[0;34m,\u001b[0m \u001b[0mbatch_size\u001b[0m\u001b[0;34m=\u001b[0m\u001b[0mbatch_size\u001b[0m\u001b[0;34m)\u001b[0m\u001b[0;34m\u001b[0m\u001b[0;34m\u001b[0m\u001b[0m\n\u001b[0m\u001b[1;32m     11\u001b[0m \u001b[0mprint\u001b[0m\u001b[0;34m(\u001b[0m\u001b[0;34m'\\nhistory dict:'\u001b[0m\u001b[0;34m,\u001b[0m \u001b[0mhistory2\u001b[0m\u001b[0;34m.\u001b[0m\u001b[0mhistory\u001b[0m\u001b[0;34m)\u001b[0m\u001b[0;34m\u001b[0m\u001b[0;34m\u001b[0m\u001b[0m\n\u001b[1;32m     12\u001b[0m \u001b[0mprint\u001b[0m\u001b[0;34m(\u001b[0m\u001b[0mscore2\u001b[0m\u001b[0;34m)\u001b[0m\u001b[0;34m\u001b[0m\u001b[0;34m\u001b[0m\u001b[0m\n",
      "\u001b[0;31mNameError\u001b[0m: name 'x_testn' is not defined"
     ]
    }
   ],
   "source": [
    "model2.compile(loss=keras.losses.binary_crossentropy,\n",
    "        optimizer=keras.optimizers.Adam(lr=1e-2),\n",
    "        metrics=['accuracy'])\n",
    "\n",
    "history2 = model2.fit(x=x_trainn, y=y_trainn,\n",
    "            batch_size=batch_size,\n",
    "            epochs=20,\n",
    "            verbose=1,\n",
    "            validation_data=(x_validn, y_validn))"
   ]
  },
  {
   "cell_type": "code",
   "execution_count": 26,
   "metadata": {},
   "outputs": [
    {
     "name": "stdout",
     "output_type": "stream",
     "text": [
      "\n",
      "history dict: {'val_loss': [0.8277466528402652, 0.8207191176753227, 0.7333678241635933, 0.719034732039509, 0.7161556762424323, 0.6855276344252414, 0.6950503737548661, 0.7203214745052525, 0.7326902340018684, 0.7287508174369896, 0.6931341482641918, 0.8145184539706329, 0.7287023878488385, 0.7845110215775953, 0.7997506909031685, 0.7717135050257699, 0.7972269761757772, 0.8512004952613121, 1.3609930192186532, 0.8426094612137216], 'val_accuracy': [0.7172130942344666, 0.6844262480735779, 0.7131147384643555, 0.7349726557731628, 0.7158470153808594, 0.744535505771637, 0.7213114500045776, 0.7185792326927185, 0.7213114500045776, 0.7117486596107483, 0.7418032884597778, 0.6639344096183777, 0.7295082211494446, 0.7144808769226074, 0.6926229596138, 0.6857923269271851, 0.7281420826911926, 0.6926229596138, 0.6133880019187927, 0.7240437269210815], 'loss': [0.9058969054246055, 0.7899168086940574, 0.7681895516992024, 0.7560780270371272, 0.7471004314060852, 0.7304529274798813, 0.7173855172683409, 0.7010258295502638, 0.7024193107372801, 0.6957466349758045, 0.6689210364089389, 0.6575335866712307, 0.6500599686270065, 0.6298298395061317, 0.6263966490092368, 0.5978012077398096, 0.59174581925736, 0.5818620890245026, 0.5596955218013872, 0.5447595157211746], 'accuracy': [0.66190857, 0.6884087, 0.6972641, 0.7077055, 0.7098203, 0.71656096, 0.7180809, 0.73724556, 0.7334126, 0.73982286, 0.75905365, 0.7662569, 0.77583927, 0.78938675, 0.79771346, 0.8119878, 0.8201163, 0.8333994, 0.8421227, 0.85752046]}\n"
     ]
    }
   ],
   "source": [
    "#score2 = model2.evaluate(x_testn, y_testn, verbose=0, batch_size=batch_size)\n",
    "print('\\nhistory dict:', history2.history)\n",
    "#print(score2)"
   ]
  },
  {
   "cell_type": "code",
   "execution_count": 28,
   "metadata": {},
   "outputs": [],
   "source": [
    "#tried to save to here but ERRORED\n",
    "#keras_model_weights2 = \"/home/hmummey/model/210302_NCoRWT_secondset/modelWeights.300bp.NCoRWT.AMLNdiff.epo20.RandomShift0bp.h5\"\n",
    "#keras_model_json2 = \"/home/hmummey/model/210301_NCoRWT_secondset/modelWeights.300bp.NCoRWT.AMLNdiff.epo20.RandomShift0bp.json\"\n",
    "\n",
    "#instead saved here initially and then moved to ^ folder\n",
    "keras_model_weights2 = \"/home/hmummey/modelWeights.300bp.NCoRWT.AMLNdiff.epo20.RandomShift0bp.h5\"\n",
    "keras_model_json2 = \"/home/hmummey/modelWeights.300bp.NCoRWT.AMLNdiff.epo20.RandomShift0bp.json\"\n",
    "\n",
    "json_string = model2.to_json() # architecture\n",
    "with open(keras_model_json2, 'w') as json_file:\n",
    "    json_file.write(json_string)\n",
    "model2.save_weights(keras_model_weights2) # weights"
   ]
  },
  {
   "cell_type": "markdown",
   "metadata": {},
   "source": [
    "Note from Zeyang: \"Watch for the validation loss and training loss while you train the AMLN model. If the training loss keeps dropping while the validation loss becomes larger and larger, the model likely overfits.\""
   ]
  },
  {
   "cell_type": "code",
   "execution_count": 33,
   "metadata": {},
   "outputs": [
    {
     "name": "stdout",
     "output_type": "stream",
     "text": [
      "AUC: 0.7965519820493643\n",
      "Accuracy: 0.7240437158469946\n"
     ]
    }
   ],
   "source": [
    "##Load model\n",
    "from keras.models import model_from_json\n",
    "\n",
    "#nevermind I'm copying these back to home bc WEIRD PERMISSIONS PROBLEMS AGAIN\n",
    "model_weights2 = \"/home/hmummey/modelWeights.300bp.NCoRWT.AMLNdiff.epo20.RandomShift0bp.h5\"\n",
    "model_json2 = \"/home/hmummey/modelWeights.300bp.NCoRWT.AMLNdiff.epo20.RandomShift0bp.json\"\n",
    "\n",
    "model2 = model_from_json(open(model_json2).read())\n",
    "model2.load_weights(model_weights2)\n",
    "model2.compile(loss=keras.losses.binary_crossentropy,\n",
    "        optimizer=keras.optimizers.Adam(lr=1e-2),\n",
    "        metrics=['accuracy'])\n",
    "\n",
    "preds2 = model2.predict(x_validn).flatten()\n",
    "\n",
    "from sklearn import metrics\n",
    "fpr2, tpr2, thresholds2 = metrics.roc_curve(y_validn, preds2, pos_label=1)\n",
    "print('AUC:', metrics.auc(fpr2, tpr2))\n",
    "print('Accuracy:', metrics.accuracy_score(y_validn, (preds2>0.5)*1))"
   ]
  },
  {
   "cell_type": "markdown",
   "metadata": {},
   "source": [
    "### Plotting Loss and Validation Loss"
   ]
  },
  {
   "cell_type": "code",
   "execution_count": 35,
   "metadata": {},
   "outputs": [],
   "source": [
    "import matplotlib.pyplot as plt\n",
    "import seaborn as sns"
   ]
  },
  {
   "cell_type": "code",
   "execution_count": 39,
   "metadata": {
    "scrolled": true
   },
   "outputs": [
    {
     "name": "stdout",
     "output_type": "stream",
     "text": [
      "dict_keys(['val_loss', 'val_accuracy', 'loss', 'accuracy'])\n"
     ]
    }
   ],
   "source": [
    "print(history2.history.keys())"
   ]
  },
  {
   "cell_type": "code",
   "execution_count": 41,
   "metadata": {},
   "outputs": [
    {
     "name": "stdout",
     "output_type": "stream",
     "text": [
      "[0.8277466528402652, 0.8207191176753227, 0.7333678241635933, 0.719034732039509, 0.7161556762424323, 0.6855276344252414, 0.6950503737548661, 0.7203214745052525, 0.7326902340018684, 0.7287508174369896, 0.6931341482641918, 0.8145184539706329, 0.7287023878488385, 0.7845110215775953, 0.7997506909031685, 0.7717135050257699, 0.7972269761757772, 0.8512004952613121, 1.3609930192186532, 0.8426094612137216]\n"
     ]
    }
   ],
   "source": [
    "print(history2.history['val_loss'])"
   ]
  },
  {
   "cell_type": "code",
   "execution_count": 50,
   "metadata": {},
   "outputs": [
    {
     "data": {
      "text/plain": [
       "Text(0, 0.5, 'Loss')"
      ]
     },
     "execution_count": 50,
     "metadata": {},
     "output_type": "execute_result"
    },
    {
     "data": {
      "image/png": "[encoded data removed]",
      "text/plain": [
       "<Figure size 432x288 with 1 Axes>"
      ]
     },
     "metadata": {
      "needs_background": "light"
     },
     "output_type": "display_data"
    }
   ],
   "source": [
    "g = sns.lineplot(x=range(20),y=history2.history['loss'])\n",
    "#g.set_ylabels(\"Survived\")\n",
    "#g.set_axis_labels(\"Epochs\", \"Validation Loss\")\n",
    "g.set_xlabel(\"Epochs\")\n",
    "g.set_ylabel(\"Loss\")"
   ]
  },
  {
   "cell_type": "code",
   "execution_count": 48,
   "metadata": {},
   "outputs": [
    {
     "data": {
      "text/plain": [
       "Text(0, 0.5, 'Validation Loss')"
      ]
     },
     "execution_count": 48,
     "metadata": {},
     "output_type": "execute_result"
    },
    {
     "data": {
      "image/png": "[encoded data removed]",
      "text/plain": [
       "<Figure size 432x288 with 1 Axes>"
      ]
     },
     "metadata": {
      "needs_background": "light"
     },
     "output_type": "display_data"
    }
   ],
   "source": [
    "g = sns.lineplot(x=range(20),y=history2.history['val_loss'])\n",
    "#g.set_ylabels(\"Survived\")\n",
    "#g.set_axis_labels(\"Epochs\", \"Validation Loss\")\n",
    "g.set_xlabel(\"Epochs\")\n",
    "g.set_ylabel(\"Validation Loss\")"
   ]
  },
  {
   "cell_type": "markdown",
   "metadata": {},
   "source": [
    "# Train the model for a few more epochs!\n",
    "From Zeyang: \"You can just reload the model and set the epoch to 2. The codes are similar to where you load the model and test it on testing data.\""
   ]
  },
  {
   "cell_type": "code",
   "execution_count": 51,
   "metadata": {},
   "outputs": [],
   "source": [
    "##Load model\n",
    "from keras.models import model_from_json\n",
    "\n",
    "#nevermind I'm copying these back to home bc WEIRD PERMISSIONS PROBLEMS AGAIN\n",
    "model_weights2 = \"/home/hmummey/modelWeights.300bp.NCoRWT.AMLNdiff.epo20.RandomShift0bp.h5\"\n",
    "model_json2 = \"/home/hmummey/modelWeights.300bp.NCoRWT.AMLNdiff.epo20.RandomShift0bp.json\"\n",
    "\n",
    "model2 = model_from_json(open(model_json2).read())\n",
    "model2.load_weights(model_weights2)\n",
    "model2.compile(loss=keras.losses.binary_crossentropy,\n",
    "        optimizer=keras.optimizers.Adam(lr=1e-2),\n",
    "        metrics=['accuracy'])\n"
   ]
  },
  {
   "cell_type": "code",
   "execution_count": 52,
   "metadata": {},
   "outputs": [
    {
     "name": "stdout",
     "output_type": "stream",
     "text": [
      "Train on 15132 samples, validate on 732 samples\n",
      "Epoch 1/2\n",
      "15132/15132 [==============================] - 173s 11ms/step - loss: 0.5459 - accuracy: 0.8584 - val_loss: 0.7660 - val_accuracy: 0.7336\n",
      "Epoch 2/2\n",
      "15132/15132 [==============================] - 161s 11ms/step - loss: 0.5000 - accuracy: 0.8783 - val_loss: 0.8076 - val_accuracy: 0.7131\n"
     ]
    }
   ],
   "source": [
    "history22 = model2.fit(x=x_trainn, y=y_trainn,\n",
    "            batch_size=batch_size,\n",
    "            epochs=2,\n",
    "            verbose=1,\n",
    "            validation_data=(x_validn, y_validn))"
   ]
  },
  {
   "cell_type": "code",
   "execution_count": 58,
   "metadata": {},
   "outputs": [],
   "source": [
    "#tried to save to here but ERRORED\n",
    "#keras_model_weights2 = \"/home/hmummey/model/210302_NCoRWT_secondset/modelWeights.300bp.NCoRWT.AMLNdiff.epo20.RandomShift0bp.h5\"\n",
    "#keras_model_json2 = \"/home/hmummey/model/210301_NCoRWT_secondset/modelWeights.300bp.NCoRWT.AMLNdiff.epo20.RandomShift0bp.json\"\n",
    "\n",
    "#instead saved here initially and then moved to ^ folder\n",
    "keras_model_weights22 = \"/home/hmummey/modelWeights.300bp.NCoRWT.AMLNdiff.epo22.RandomShift0bp.h5\"\n",
    "keras_model_json22 = \"/home/hmummey/modelWeights.300bp.NCoRWT.AMLNdiff.epo22.RandomShift0bp.json\"\n",
    "\n",
    "json_string = model2.to_json() # architecture\n",
    "with open(keras_model_json22, 'w') as json_file:\n",
    "    json_file.write(json_string)\n",
    "model2.save_weights(keras_model_weights22) # weights"
   ]
  },
  {
   "cell_type": "code",
   "execution_count": 53,
   "metadata": {},
   "outputs": [
    {
     "name": "stdout",
     "output_type": "stream",
     "text": [
      "[0.9058969054246055, 0.7899168086940574, 0.7681895516992024, 0.7560780270371272, 0.7471004314060852, 0.7304529274798813, 0.7173855172683409, 0.7010258295502638, 0.7024193107372801, 0.6957466349758045, 0.6689210364089389, 0.6575335866712307, 0.6500599686270065, 0.6298298395061317, 0.6263966490092368, 0.5978012077398096, 0.59174581925736, 0.5818620890245026, 0.5596955218013872, 0.5447595157211746, 0.5458696064591692, 0.4999642167619508]\n",
      "[0.8277466528402652, 0.8207191176753227, 0.7333678241635933, 0.719034732039509, 0.7161556762424323, 0.6855276344252414, 0.6950503737548661, 0.7203214745052525, 0.7326902340018684, 0.7287508174369896, 0.6931341482641918, 0.8145184539706329, 0.7287023878488385, 0.7845110215775953, 0.7997506909031685, 0.7717135050257699, 0.7972269761757772, 0.8512004952613121, 1.3609930192186532, 0.8426094612137216, 0.7660481636641455, 0.8075820959982325]\n"
     ]
    }
   ],
   "source": [
    "total_loss = history2.history['loss'] + history22.history['loss']\n",
    "print(total_loss)\n",
    "\n",
    "total_val_loss = history2.history['val_loss'] + history22.history['val_loss']\n",
    "print(total_val_loss)"
   ]
  },
  {
   "cell_type": "code",
   "execution_count": 57,
   "metadata": {},
   "outputs": [
    {
     "data": {
      "text/plain": [
       "Text(0, 0.5, 'Loss')"
      ]
     },
     "execution_count": 57,
     "metadata": {},
     "output_type": "execute_result"
    },
    {
     "data": {
      "image/png": "[encoded data removed]",
      "text/plain": [
       "<Figure size 432x288 with 1 Axes>"
      ]
     },
     "metadata": {
      "needs_background": "light"
     },
     "output_type": "display_data"
    }
   ],
   "source": [
    "g = sns.lineplot(x=range(22),y=total_loss)\n",
    "g.set_xlabel(\"Epochs\")\n",
    "g.set_ylabel(\"Loss\")"
   ]
  },
  {
   "cell_type": "code",
   "execution_count": 56,
   "metadata": {},
   "outputs": [
    {
     "data": {
      "text/plain": [
       "Text(0, 0.5, 'Validation Loss')"
      ]
     },
     "execution_count": 56,
     "metadata": {},
     "output_type": "execute_result"
    },
    {
     "data": {
      "image/png": "[encoded data removed]",
      "text/plain": [
       "<Figure size 432x288 with 1 Axes>"
      ]
     },
     "metadata": {
      "needs_background": "light"
     },
     "output_type": "display_data"
    }
   ],
   "source": [
    "g = sns.lineplot(x=range(22),y=total_val_loss)\n",
    "g.set_xlabel(\"Epochs\")\n",
    "g.set_ylabel(\"Validation Loss\")"
   ]
  },
  {
   "cell_type": "code",
   "execution_count": 59,
   "metadata": {
    "scrolled": true
   },
   "outputs": [
    {
     "name": "stdout",
     "output_type": "stream",
     "text": [
      "AUC: 0.7859311892296185\n",
      "Accuracy: 0.7131147540983607\n"
     ]
    }
   ],
   "source": [
    "##Load model\n",
    "from keras.models import model_from_json\n",
    "\n",
    "#nevermind I'm copying these back to home bc WEIRD PERMISSIONS PROBLEMS AGAIN\n",
    "model_weights22 = \"/home/hmummey/modelWeights.300bp.NCoRWT.AMLNdiff.epo22.RandomShift0bp.h5\"\n",
    "model_json22 = \"/home/hmummey/modelWeights.300bp.NCoRWT.AMLNdiff.epo22.RandomShift0bp.json\"\n",
    "\n",
    "model22 = model_from_json(open(model_json22).read())\n",
    "model22.load_weights(model_weights22)\n",
    "model22.compile(loss=keras.losses.binary_crossentropy,\n",
    "        optimizer=keras.optimizers.Adam(lr=1e-2),\n",
    "        metrics=['accuracy'])\n",
    "\n",
    "preds22 = model22.predict(x_validn).flatten()\n",
    "\n",
    "from sklearn import metrics\n",
    "fpr22, tpr22, thresholds22 = metrics.roc_curve(y_validn, preds22, pos_label=1)\n",
    "print('AUC:', metrics.auc(fpr22, tpr22))\n",
    "print('Accuracy:', metrics.accuracy_score(y_validn, (preds22>0.5)*1))"
   ]
  },
  {
   "cell_type": "code",
   "execution_count": null,
   "metadata": {},
   "outputs": [],
   "source": []
  }
 ],
 "metadata": {
  "kernelspec": {
   "display_name": "zs-deeplift",
   "language": "python",
   "name": "zs-deeplift"
  },
  "language_info": {
   "codemirror_mode": {
    "name": "ipython",
    "version": 3
   },
   "file_extension": ".py",
   "mimetype": "text/x-python",
   "name": "python",
   "nbconvert_exporter": "python",
   "pygments_lexer": "ipython3",
   "version": "3.7.4"
  }
 },
 "nbformat": 4,
 "nbformat_minor": 2
}
